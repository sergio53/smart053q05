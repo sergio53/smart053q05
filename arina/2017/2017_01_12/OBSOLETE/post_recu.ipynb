{
 "cells": [
  {
   "cell_type": "code",
   "execution_count": null,
   "metadata": {
    "collapsed": false
   },
   "outputs": [],
   "source": [
    "%matplotlib inline\n",
    "import numpy as np\n",
    "import scipy.signal.spline as spline\n",
    "#import pylab as plb\n",
    "import matplotlib.pyplot as plb"
   ]
  },
  {
   "cell_type": "code",
   "execution_count": 55,
   "metadata": {
    "collapsed": false
   },
   "outputs": [],
   "source": [
    "from scipy.signal import savgol_filter\n",
    "savgol_filter??"
   ]
  },
  {
   "cell_type": "code",
   "execution_count": null,
   "metadata": {
    "code_folding": [
     0
    ],
    "collapsed": false
   },
   "outputs": [],
   "source": [
    "def lire_exp_fluage (_nom_essai,_nom_rep) :\n",
    "    _f = open(\"./essais_fluage/\" + _nom_rep + \"/\" + _nom_essai+'.acquisition', \"r\")\n",
    "    _L1 = _f.readlines()\n",
    "    _f.close()\n",
    "    index = -1\n",
    "    for x in range(len(_L1)):\n",
    "        if _L1[x].find('FLUAGE')==0:\n",
    "            index=x\n",
    "    for j in range(index):\n",
    "        del _L1[0]\n",
    "    _type=(_L1[0].split('\\t'))[0].strip('\\r\\n')\n",
    "    del _L1[0]\n",
    "    _entete_1=_L1[0].split('\\t')\n",
    "    del _L1[0]\n",
    "    _entete_2=_L1[0].split('\\t')\n",
    "    del _L1[0]\n",
    "    _entete_1[-1]=_entete_1[-1].strip('\\r\\n')\n",
    "    _entete_2[-1]=_entete_2[-1].strip('\\r\\n')\n",
    "    _entete=_entete_2\n",
    "    for i in range(len(_entete_2)):\n",
    "        _entete[i]=''.join(_entete_2[i].split())+'_'+str(i)\n",
    "\n",
    "\n",
    "    #print _entete\n",
    "    _donnees = {}\n",
    "    _donnees['nom'] = _nom_essai\n",
    "    for x in _entete :\n",
    "        _donnees[x] = []\n",
    "    for x in _L1 :\n",
    "        _L2 = x.split('\\t')\n",
    "        for y in range(len(_L2)) :\n",
    "            #print _donnees.keys()\n",
    "            _donnees[_entete[y]].append(_L2[y])\n",
    "            #_donnees[y].append(_L2[y])\n",
    "\n",
    "    return _donnees\n",
    "lire_exp_fluage ('2266','.');"
   ]
  },
  {
   "cell_type": "code",
   "execution_count": null,
   "metadata": {
    "code_folding": [
     0
    ],
    "collapsed": true
   },
   "outputs": [],
   "source": [
    "def savitzky_golay(y, window_size, order, deriv=0, rate=1):\n",
    "    from math import factorial\n",
    "    try:\n",
    "        window_size = np.abs(np.int(window_size))\n",
    "        order = np.abs(np.int(order))\n",
    "    except ValueError, msg:\n",
    "        raise ValueError(\"window_size and order have to be of type int\")\n",
    "    if window_size % 2 != 1 or window_size < 1:\n",
    "        raise TypeError(\"window_size size must be a positive odd number\")\n",
    "    if window_size < order + 2:\n",
    "        raise TypeError(\"window_size is too small for the polynomials order\")\n",
    "    order_range = range(order+1)\n",
    "    half_window = (window_size -1) // 2\n",
    "    # precompute coefficients\n",
    "    b = np.mat([[k**i for i in order_range] for k in range(-half_window, half_window+1)])\n",
    "    m = np.linalg.pinv(b).A[deriv] * rate**deriv * factorial(deriv)\n",
    "    # pad the signal at the extremes with\n",
    "    # values taken from the signal itself\n",
    "    firstvals = y[0] - np.abs( y[1:half_window+1][::-1] - y[0] )\n",
    "    lastvals = y[-1] + np.abs(y[-half_window-1:-1][::-1] - y[-1])\n",
    "    y = np.concatenate((firstvals, y, lastvals))\n",
    "    return np.convolve( m[::-1], y, mode='valid')"
   ]
  },
  {
   "cell_type": "code",
   "execution_count": null,
   "metadata": {
    "collapsed": false
   },
   "outputs": [],
   "source": [
    "liste_num_essai_1 = [2163, 2165, 2169, 2171, 2172, 2173, 2195]\n",
    "liste_num_essai_1 = [2266, ]\n",
    "#liste_label_1 = ['130MPa-F','130MPa-C','130MPa-C/E','130MPa-F/E','100MPa-C','100MPa-C','130MPa-C2']\n",
    "liste_label_1 = ['130-C','130-WM','130-WM-N','130-C-N','100-WM-1','100-WM-2','140-H-1']\n",
    "\n",
    "liste_num_essai_2 = [2208,2209,2197,2187,2188,2198, 2196, 2202]\n",
    "liste_num_essai_2 = []\n",
    "#liste_label_2 = ['120MPa-C2-6','160MPa-C2-E3','120MPa-C2-4','130MPa-F-E12','130MPa-F-E13','160MPa-C2-E1','130MPa-F-E5']\n",
    "liste_label_2 = ['120-H-6','160-H-N-3','120-H-4','130-C-N-12','130-C-N-13','160-H-N-1', '140-H-2', '140-H-3']\n",
    "\n",
    "#liste_num_essai_2 = [2197,2187,2188,2198,2171]\n",
    "#liste_label_2 = ['120MPa-C2-4','130MPa-F-12','160MPa-C2-E1','130MPa-F-5']\n",
    "\n",
    "liste_num_essai=liste_num_essai_1+liste_num_essai_2\n",
    "liste_label = liste_label_1+liste_label_2\n",
    "\n",
    "\n",
    "#don = lire_tab_aster(liste_nom_essai[0],liste_nom_rep[0])\n",
    "\n",
    "#print don.keys()\n",
    "\n",
    "fig_width_pt = 1024.  # Get this from LaTeX using \\showthe\\columnwidth\n",
    "inches_per_pt = 1.0/72.27               # Convert pt to inch\n",
    "golden_mean = (np.sqrt(5)-1.0)/2.0         # Aesthetic ratio\n",
    "fig_width = fig_width_pt*inches_per_pt  # width in inches\n",
    "fig_height = fig_width*golden_mean      # height in inches\n",
    "fig_size =  [fig_width,fig_height]\n",
    "lw = 1.5 # epaisseur des courbes\n",
    "params = {'backend': 'ps',\n",
    "    'axes.labelsize': 24,\n",
    "    'font.size': 24,\n",
    "    'legend.fontsize': 24,\n",
    "    'xtick.labelsize': 24,\n",
    "    'ytick.labelsize': 24,\n",
    "    'text.usetex': False,\n",
    "    'figure.figsize': fig_size}\n",
    "plb.rcParams.update(params)\n"
   ]
  },
  {
   "cell_type": "code",
   "execution_count": null,
   "metadata": {
    "code_folding": [
     0
    ],
    "collapsed": false
   },
   "outputs": [],
   "source": [
    "for i in range(np.size(liste_num_essai)) :\n",
    "    nom_essai=str(liste_num_essai[i])\n",
    "    don=lire_exp_fluage(nom_essai,'.')\n",
    "    cles=don.keys()\n",
    "    #print cles\n",
    "    cles_l=[]\n",
    "    cles_t=[]\n",
    "    for x in cles:\n",
    "        if (x.find('Allongement')>=0) and (x.find('%')>=0):\n",
    "            cles_l.append(x)\n",
    "        if x.find('Tempsheure')>=0:\n",
    "            cle_t=x\n",
    "\n",
    "    #print cles_l,cle_t\n",
    "    tps=np.array(don[cle_t],dtype=float)\n",
    "    #print 'label defo = ',cles[4]\n",
    "    #flu=0.5*(don[cles[4]]+don[cles[6]])\n",
    "    flu1=np.array(don[cles_l[0]],dtype=float)\n",
    "    flu2=np.array(don[cles_l[1]],dtype=float)\n",
    "    flu=0.5*(flu1+flu2)\n",
    "    flu_s=savitzky_golay(flu,11,1,deriv=0,rate=1)\n",
    "\n",
    "    plot = plb.plot(tps,flu,'-',linewidth=2,label=(don['nom'].split('.'))[0]);\n",
    "    plot = plb.plot(tps,flu_s,'.k',linewidth=0.5);\n",
    "\n",
    "plb.xlabel('Crrep time (h)')\n",
    "plb.ylabel('Creep Strain \\%')\n",
    "plb.title('Creep curves');\n",
    "#plb.legend(liste_legende,loc='upper right');\n",
    "plb.legend(loc='upper left');\n",
    "plb.show()\n",
    "#plb.savefig(\"./figs/all_creep.png\")\n",
    "#plb.clf()\n"
   ]
  },
  {
   "cell_type": "code",
   "execution_count": null,
   "metadata": {
    "code_folding": [
     0
    ],
    "collapsed": false
   },
   "outputs": [],
   "source": [
    "for i in range(np.size(liste_num_essai)) :\n",
    "    nom_essai=str(liste_num_essai[i])\n",
    "    don=lire_exp_fluage(nom_essai,'.')\n",
    "    cles=don.keys()\n",
    "    #print cles\n",
    "    cles_l=[]\n",
    "    cles_t=[]\n",
    "    for x in cles:\n",
    "        if (x.find('Allongement')>=0) and (x.find('%')>=0):\n",
    "            cles_l.append(x)\n",
    "        if x.find('Tempsheure')>=0:\n",
    "            cle_t=x\n",
    "\n",
    "    #print cles_l,cle_t\n",
    "    tps=don[cle_t]\n",
    "    #print 'label defo = ',cles[4]\n",
    "    #flu=0.5*(don[cles[4]]+don[cles[6]])\n",
    "    flu1=np.array(don[cles_l[0]],dtype=float)\n",
    "    flu2=np.array(don[cles_l[1]],dtype=float)\n",
    "    if i==2 or i==3:\n",
    "        flutot=0.5*(flu1+flu2)\n",
    "        l_ref=4*np.sqrt(1.2**2-0.2**2)\n",
    "        #pour la deformation de fluage on doit corriger car elle est calculee pour la longueur entre collerettes de 36mm, les entailles font 1.2mm de rayon et de profondeur 1mm,\n",
    "        flu=flutot*36/l_ref\n",
    "    else:\n",
    "        flu=0.5*(flu1+flu2)\n",
    "    plot = plb.plot(tps,flu,'-',linewidth=2,label=liste_label[i]);\n",
    "\n",
    "\n",
    "plb.xlabel('Creep time (h)')\n",
    "plb.ylabel('Creep Strain \\%')\n",
    "plb.title('Creep curves');\n",
    "#plb.legend(liste_legende,loc='upper right');\n",
    "plb.legend(loc='upper left');\n",
    "plb.show()\n",
    "plb.savefig(\"./figs/all_creep_labelized.png\")\n",
    "plb.savefig(\"./figs/all_creep_labelized.pdf\")\n",
    "plb.clf()\n"
   ]
  },
  {
   "cell_type": "code",
   "execution_count": null,
   "metadata": {
    "code_folding": [
     0
    ],
    "collapsed": false
   },
   "outputs": [],
   "source": [
    "for i in [0,]:# 1, 4, 5,6,13,14,7,9] :\n",
    "    nom_essai=str(liste_num_essai[i])\n",
    "    don=lire_exp_fluage(nom_essai,'.')\n",
    "    cles=don.keys()\n",
    "    #print cles\n",
    "    cles_l=[]\n",
    "    cles_t=[]\n",
    "    for x in cles:\n",
    "        if (x.find('Allongement')>=0) and (x.find('%')>=0):\n",
    "            cles_l.append(x)\n",
    "        if x.find('Tempsheure')>=0:\n",
    "            cle_t=x\n",
    "\n",
    "    #print cles_l,cle_t\n",
    "    tps=don[cle_t]\n",
    "    #print 'label defo = ',cles[4]\n",
    "    #flu=0.5*(don[cles[4]]+don[cles[6]])\n",
    "    flu1=np.array(don[cles_l[0]],dtype=float)\n",
    "    flu2=np.array(don[cles_l[1]],dtype=float)\n",
    "    flu=0.5*(flu1+flu2)\n",
    "    plot = plb.plot(tps,flu,'-',linewidth=2,label=liste_label[i]);\n",
    "\n",
    "plb.xlabel('Creep time (h)')\n",
    "plb.ylabel('Creep Strain \\%')\n",
    "plb.title('Creep curves');\n",
    "#plb.legend(liste_legende,loc='upper right');\n",
    "plb.legend(loc='upper left');\n",
    "plb.show()\n",
    "plb.savefig(\"./figs/all_creep_labelized_smooth.png\")\n",
    "plb.savefig(\"./figs/all_creep_labelized_smooth.pdf\")\n",
    "plb.clf()\n",
    "\n"
   ]
  },
  {
   "cell_type": "code",
   "execution_count": null,
   "metadata": {
    "code_folding": [
     0
    ],
    "collapsed": false
   },
   "outputs": [],
   "source": [
    "for i in [0,]:#[7,9,0,6,13,14] :\n",
    "    nom_essai=str(liste_num_essai[i])\n",
    "    don=lire_exp_fluage(nom_essai,'.')\n",
    "    cles=don.keys()\n",
    "    #print cles\n",
    "    cles_l=[]\n",
    "    cles_t=[]\n",
    "    for x in cles:\n",
    "        if (x.find('Allongement')>=0) and (x.find('%')>=0):\n",
    "            cles_l.append(x)\n",
    "        if x.find('Tempsheure')>=0:\n",
    "            cle_t=x\n",
    "\n",
    "    #print cles_l,cle_t\n",
    "    tps=don[cle_t]\n",
    "    #print 'label defo = ',cles[4]\n",
    "    #flu=0.5*(don[cles[4]]+don[cles[6]])\n",
    "    flu1=np.array(don[cles_l[0]],dtype=float)\n",
    "    flu2=np.array(don[cles_l[1]],dtype=float)\n",
    "    flu=0.5*(flu1+flu2)\n",
    "    plot = plb.plot(tps,flu,'-',linewidth=2,label=liste_label[i]);\n",
    "\n",
    "plb.xlabel('Creep time (h)')\n",
    "plb.ylabel('Creep Strain \\%')\n",
    "plb.title('Creep curves');\n",
    "#plb.legend(liste_legende,loc='upper right');\n",
    "plb.legend(loc='upper left');\n",
    "plb.show()\n",
    "plb.savefig(\"./figs/all_creep_labelized_smooth_select.png\")\n",
    "plb.savefig(\"./figs/all_creep_labelized_smooth_select.pdf\")\n",
    "plb.clf()\n"
   ]
  },
  {
   "cell_type": "code",
   "execution_count": null,
   "metadata": {
    "code_folding": [
     0
    ],
    "collapsed": false
   },
   "outputs": [],
   "source": [
    "for i in [0,] :\n",
    "    nom_essai=str(liste_num_essai[i])\n",
    "    don=lire_exp_fluage(nom_essai,'.')\n",
    "    cles=don.keys()\n",
    "    #print cles\n",
    "    cles_l=[]\n",
    "    cles_t=[]\n",
    "    for x in cles:\n",
    "        if (x.find('Allongement')>=0) and (x.find('%')>=0):\n",
    "            cles_l.append(x)\n",
    "        if x.find('Tempsheure')>=0:\n",
    "            cle_t=x\n",
    "\n",
    "    #print cles_l,cle_t\n",
    "    tps=don[cle_t]\n",
    "    #print 'label defo = ',cles[4]\n",
    "    #flu=0.5*(don[cles[4]]+don[cles[6]])\n",
    "    flu1=np.array(don[cles_l[0]],dtype=float)\n",
    "    flu2=np.array(don[cles_l[1]],dtype=float)\n",
    "    flu=0.5*(flu1+flu2)\n",
    "    plot = plb.plot(tps,flu,'-',linewidth=2,label=liste_label[i]);\n",
    "\n",
    "plb.xlabel('Creep time (h)')\n",
    "plb.ylabel('Creep Strain \\%')\n",
    "plb.title('Creep curves');\n",
    "#plb.legend(liste_legende,loc='upper right');\n",
    "plb.legend(loc='upper left');\n",
    "plb.show()\n",
    "plb.savefig(\"./figs/all_creep_labelized_smooth_WM.png\")\n",
    "plb.savefig(\"./figs/all_creep_labelized_smooth_WM.pdf\")\n",
    "plb.clf()\n"
   ]
  },
  {
   "cell_type": "code",
   "execution_count": null,
   "metadata": {
    "code_folding": [
     0
    ],
    "collapsed": false
   },
   "outputs": [],
   "source": [
    "for i in [0,] :\n",
    "    nom_essai=str(liste_num_essai[i])\n",
    "    don=lire_exp_fluage(nom_essai,'.')\n",
    "    cles=don.keys()\n",
    "    #print cles\n",
    "    cles_l=[]\n",
    "    cles_t=[]\n",
    "    for x in cles:\n",
    "        if (x.find('Allongement')>=0) and (x.find('%')>=0):\n",
    "            cles_l.append(x)\n",
    "        if x.find('Tempsheure')>=0:\n",
    "            cle_t=x\n",
    "\n",
    "    #print cles_l,cle_t\n",
    "    tps=don[cle_t]\n",
    "    #print 'label defo = ',cles[4]\n",
    "    #flu=0.5*(don[cles[4]]+don[cles[6]])\n",
    "    flu1=np.array(don[cles_l[0]],dtype=float)\n",
    "    flu2=np.array(don[cles_l[1]],dtype=float)\n",
    "    flu=0.5*(flu1+flu2)\n",
    "    l_ref=4*np.sqrt(1.2**2-0.2**2)\n",
    "    #pour la deformation de fluage on doit corriger car elle est calculee pour la longueur entre collerettes de 36mm, les entailles font 1.2mm de rayon et de profondeur 1mm,\n",
    "    flu_corr=flu*36/l_ref\n",
    "    plot = plb.plot(tps,flu_corr,'-',linewidth=2,label=liste_label[i]);\n",
    "\n",
    "\n",
    "plb.xlabel('Creep time (h)')\n",
    "plb.ylabel('Creep Strain \\%')\n",
    "plb.ylim(0,10)\n",
    "plb.title('Creep curves');\n",
    "#plb.legend(liste_legende,loc='upper right');\n",
    "plb.legend(loc='upper left');\n",
    "plb.show()\n",
    "plb.savefig(\"./figs/all_creep_labelized_notched.png\")\n",
    "plb.savefig(\"./figs/all_creep_labelized_notched.pdf\")\n",
    "plb.clf()\n"
   ]
  },
  {
   "cell_type": "code",
   "execution_count": 52,
   "metadata": {
    "code_folding": [],
    "collapsed": false
   },
   "outputs": [
    {
     "data": {
      "image/png": "[encoded data removed]",
      "text/plain": [
       "<matplotlib.figure.Figure at 0x7f0effd10510>"
      ]
     },
     "metadata": {},
     "output_type": "display_data"
    },
    {
     "data": {
      "text/plain": [
       "<matplotlib.figure.Figure at 0x7f0f02e9d6d0>"
      ]
     },
     "metadata": {},
     "output_type": "display_data"
    }
   ],
   "source": [
    "for i in [0, ] :\n",
    "    nom_essai=str(liste_num_essai[i])\n",
    "    don=lire_exp_fluage(nom_essai,'.')\n",
    "    cles=don.keys()\n",
    "    #print cles\n",
    "    cles_l=[]\n",
    "    cles_t=[]\n",
    "    for x in cles:\n",
    "        if (x.find('Allongement')>=0) and (x.find('%')>=0):\n",
    "            cles_l.append(x)\n",
    "        if x.find('Tempsheure')>=0:\n",
    "            cle_t=x\n",
    "\n",
    "    #print cles_l,cle_t\n",
    "    tps=np.array(don[cle_t],dtype=float)\n",
    "    #print 'label defo = ',cles[4]\n",
    "    #flu=0.5*(don[cles[4]]+don[cles[6]])\n",
    "    flu1=np.array(don[cles_l[0]],dtype=float)\n",
    "    flu2=np.array(don[cles_l[1]],dtype=float)\n",
    "    flu=0.5*(flu1+flu2)\n",
    "        \n",
    "    flu_s=savitzky_golay(flu,21,1,deriv=0,rate=1)\n",
    "    \n",
    "    csrate=[]\n",
    "    tpsrate=[]\n",
    "    step=40\n",
    "    cutoff=200\n",
    "    cutoff_s=10    \n",
    "    for j in range(len(flu_s)-step-cutoff-cutoff_s):\n",
    "        csrate.append(0.01*(flu_s[j+step+cutoff_s]-flu_s[j+cutoff_s])/(tps[j+step+cutoff_s]-tps[j+cutoff_s]))\n",
    "        tpsrate.append(tps[j+step+cutoff_s])\n",
    "    csrate_s=savitzky_golay(csrate,11,1,deriv=0,rate=1)\n",
    "    plot = plb.semilogy(tpsrate,csrate_s,'-',linewidth=2,label=liste_label[i]);\n",
    "\n",
    "plb.xlabel('Creep time (h)')\n",
    "plb.ylabel('Creep rate (h$^{-1}$)')\n",
    "plb.title('Creep curves');\n",
    "plb.ylim(1e-10,1e-4);\n",
    "#plb.legend(liste_legende,loc='upper right');\n",
    "plb.legend(loc='lower right');\n",
    "plb.show()\n",
    "plb.savefig(\"./figs/creep_rate_smooth.png\")\n",
    "plb.savefig(\"./figs/creep_rate_smooth.pdf\")\n",
    "plb.clf()\n"
   ]
  },
  {
   "cell_type": "code",
   "execution_count": null,
   "metadata": {
    "code_folding": [
     0
    ],
    "collapsed": false
   },
   "outputs": [],
   "source": [
    "for i in [0,] :\n",
    "    nom_essai=str(liste_num_essai[i])\n",
    "    don=lire_exp_fluage(nom_essai,'.')\n",
    "    cles=don.keys()\n",
    "    #print cles\n",
    "    cles_l=[]\n",
    "    cles_t=[]\n",
    "    for x in cles:\n",
    "        if (x.find('Allongement')>=0) and (x.find('%')>=0):\n",
    "            cles_l.append(x)\n",
    "        if x.find('Tempsheure')>=0:\n",
    "            cle_t=x\n",
    "\n",
    "    #print cles_l,cle_t\n",
    "    tps=np.array(don[cle_t],dtype=float)\n",
    "    #print 'label defo = ',cles[4]\n",
    "    #flu=0.5*(don[cles[4]]+don[cles[6]])\n",
    "    flu1=np.array(don[cles_l[0]],dtype=float)\n",
    "    flu2=np.array(don[cles_l[1]],dtype=float)\n",
    "    flu=0.5*(flu1+flu2)\n",
    "    flu_s=savitzky_golay(flu,21,1,deriv=0,rate=1)\n",
    "    csrate=[]\n",
    "    tpsrate=[]\n",
    "    csrate = []\n",
    "    step=40;\n",
    "    cutoff=200\n",
    "    cutoff_s=10\n",
    "    for j in range(len(flu_s)-step-cutoff-cutoff_s):\n",
    "        csrate.append(0.01*(flu_s[j+step+cutoff_s]-flu_s[j+cutoff_s])/(tps[j+step+cutoff_s]-tps[j+cutoff_s]))\n",
    "        tpsrate.append(tps[j+step+cutoff_s])\n",
    "    csrate_s=savitzky_golay(csrate,11,1,deriv=0,rate=1)\n",
    "    plot = plb.semilogy(tpsrate,csrate_s,'-',linewidth=2,label=liste_label[i]);\n",
    "\n",
    "plb.xlabel('Creep time (h)')\n",
    "plb.ylabel('Creep rate (h$^{-1}$)')\n",
    "plb.title('Creep curves');\n",
    "plb.ylim(1e-10,1e-3)\n",
    "#plb.legend(liste_legende,loc='upper right');\n",
    "plb.legend(loc='lower right');\n",
    "plb.show()\n",
    "plb.savefig(\"./figs/creep_rate_smooth_select.png\")\n",
    "plb.savefig(\"./figs/creep_rate_smooth_select.pdf\")\n",
    "plb.clf()\n",
    "\n"
   ]
  },
  {
   "cell_type": "code",
   "execution_count": null,
   "metadata": {
    "code_folding": [
     0
    ],
    "collapsed": false
   },
   "outputs": [],
   "source": [
    "for i in [0,] :\n",
    "    nom_essai=str(liste_num_essai[i])\n",
    "    don=lire_exp_fluage(nom_essai,'.')\n",
    "    cles=don.keys()\n",
    "    #print cles\n",
    "    cles_l=[]\n",
    "    cles_t=[]\n",
    "    for x in cles:\n",
    "        if (x.find('Allongement')>=0) and (x.find('%')>=0):\n",
    "            cles_l.append(x)\n",
    "        if x.find('Tempsheure')>=0:\n",
    "            cle_t=x\n",
    "\n",
    "    #print cles_l,cle_t\n",
    "    tps=np.array(don[cle_t],dtype=float)\n",
    "    #print 'label defo = ',cles[4]\n",
    "    #flu=0.5*(don[cles[4]]+don[cles[6]])\n",
    "    flu1=np.array(don[cles_l[0]],dtype=float)\n",
    "    flu2=np.array(don[cles_l[1]],dtype=float)\n",
    "    flu=0.5*(flu1+flu2)\n",
    "    flu_s=savitzky_golay(flu,21,1,deriv=0,rate=1)\n",
    "    csrate=[]\n",
    "    tpsrate=[]\n",
    "    step=40;\n",
    "    cutoff=200\n",
    "    cutoff_s=10\n",
    "    for j in range(len(flu_s)-step-cutoff-cutoff_s):\n",
    "        csrate.append(0.01*(flu_s[j+step+cutoff_s]-flu_s[j+cutoff_s])/(tps[j+step+cutoff_s]-tps[j+cutoff_s]))\n",
    "        tpsrate.append(tps[j+step+cutoff_s])\n",
    "    csrate_s=savitzky_golay(csrate,11,1,deriv=0,rate=1)\n",
    "    plot = plb.semilogy(tpsrate,csrate_s,'-',linewidth=2,label=liste_label[i]);\n",
    "\n",
    "plb.xlabel('Creep time (h)')\n",
    "plb.ylabel('Creep rate (h$^{-1}$)')\n",
    "plb.title('Creep curves');\n",
    "plb.ylim(1e-7,1e-3)\n",
    "#plb.legend(liste_legende,loc='upper right');\n",
    "plb.legend(loc='lower right');\n",
    "plb.show()\n",
    "plb.savefig(\"./figs/creep_rate_smooth_WM.png\")\n",
    "plb.savefig(\"./figs/creep_rate_smooth_WM.pdf\")\n",
    "plb.clf()\n",
    "\n"
   ]
  },
  {
   "cell_type": "code",
   "execution_count": null,
   "metadata": {
    "collapsed": true
   },
   "outputs": [],
   "source": []
  }
 ],
 "metadata": {
  "kernelspec": {
   "display_name": "Python [default]",
   "language": "python",
   "name": "python2"
  },
  "language_info": {
   "codemirror_mode": {
    "name": "ipython",
    "version": 2
   },
   "file_extension": ".py",
   "mimetype": "text/x-python",
   "name": "python",
   "nbconvert_exporter": "python",
   "pygments_lexer": "ipython2",
   "version": "2.7.12"
  }
 },
 "nbformat": 4,
 "nbformat_minor": 0
}
