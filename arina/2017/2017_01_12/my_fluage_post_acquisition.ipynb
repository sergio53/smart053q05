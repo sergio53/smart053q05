{
 "cells": [
  {
   "cell_type": "code",
   "execution_count": 16,
   "metadata": {
    "collapsed": true
   },
   "outputs": [],
   "source": [
    "%matplotlib inline"
   ]
  },
  {
   "cell_type": "code",
   "execution_count": 1,
   "metadata": {
    "collapsed": false
   },
   "outputs": [
    {
     "name": "stdout",
     "output_type": "stream",
     "text": [
      "acquisition.py\tDeriveCreep.py\tfluage_post_acquisition.py  post_resu.py\r\n"
     ]
    }
   ],
   "source": [
    "!ls *.py"
   ]
  },
  {
   "cell_type": "code",
   "execution_count": 12,
   "metadata": {
    "collapsed": true
   },
   "outputs": [],
   "source": [
    "import madnex\n",
    "from madnex.data.evolution import Evolution\n",
    "from madnex.api.api_local import Pivot as Pivot\n",
    "from madnex.madnex_constant import datatype, TYPE_CDX2HDF, MADNEX_PATH\n",
    "import madnex.IO as IO"
   ]
  },
  {
   "cell_type": "code",
   "execution_count": 13,
   "metadata": {
    "collapsed": true
   },
   "outputs": [],
   "source": [
    "import fluage_post_acquisition as flu"
   ]
  },
  {
   "cell_type": "code",
   "execution_count": 14,
   "metadata": {
    "collapsed": false
   },
   "outputs": [],
   "source": [
    "levol, irupt = flu.reader('/notebooks/arinas/12_01_2017/2266.acquisition', True)"
   ]
  },
  {
   "cell_type": "code",
   "execution_count": null,
   "metadata": {
    "collapsed": false
   },
   "outputs": [],
   "source": [
    "lev = levol[0] "
   ]
  },
  {
   "cell_type": "code",
   "execution_count": null,
   "metadata": {
    "collapsed": false
   },
   "outputs": [],
   "source": [
    "for _ in levol: print _.description"
   ]
  },
  {
   "cell_type": "code",
   "execution_count": 60,
   "metadata": {
    "collapsed": false
   },
   "outputs": [
    {
     "name": "stdout",
     "output_type": "stream",
     "text": [
      "['Nb_param', 'Nb_point', '_ChangeDescription', '_ChangeTitle', '_ChangeUnit', '__doc__', '__init__', '__module__', 'addParam', 'append', 'data', 'data_type', 'description', 'extrData', 'extrParam', 'param', 'structured', 'title', 'unit']\n",
      "['Time', 'Stress', 'Temperature', 'Creep strain', 'Time (h)', 'Strain rate', 'Total strain']\n"
     ]
    }
   ],
   "source": [
    "print dir(levol[3])\n",
    "print levol[3].title"
   ]
  },
  {
   "cell_type": "code",
   "execution_count": 61,
   "metadata": {
    "collapsed": false
   },
   "outputs": [
    {
     "name": "stdout",
     "output_type": "stream",
     "text": [
      "            Time    Stress    Temperature    Creep strain    Time (h)    Strain rate    Total strain\n",
      "----------------  --------  -------------  --------------  ----------  -------------  --------------\n",
      "     0               81.64       498.733        0             0        nan                 0.000708\n",
      "     0.252           81.74       498.733        0             7e-05    nan                 0.000708\n",
      "     0.504           81.63       498.733        0             0.00014  nan                 0.000708\n",
      "     0.756           81.6        498.767        0             0.00021  nan                 0.000708\n",
      "     1.008           81.62       498.767        0             0.00028  nan                 0.000708\n",
      "     1.26            81.7        498.733        0             0.00035  nan                 0.000708\n",
      "     1.512           81.65       498.7          0             0.00042  nan                 0.000708\n",
      "     1.764           81.76       498.7          1.4e-05       0.00049  nan                 0.000722\n",
      "     2.016           81.69       498.7          1.4e-05       0.00056  nan                 0.000722\n",
      "     2.268           81.58       498.7          1.4e-05       0.00063  nan                 0.000722\n",
      "     2.484           81.72       498.7          1.4e-05       0.00069    4.8378e-06        0.000722\n",
      "     2.736           81.66       498.733        1.4e-05       0.00076    4.8378e-06        0.000722\n",
      "     2.988           81.64       498.733        1.4e-05       0.00083    4.8378e-06        0.000722\n",
      "     3.24            81.69       498.733        1.4e-05       0.0009     4.83524e-06       0.000722\n",
      "     3.492           81.66       498.733        1.4e-05       0.00097    4.82877e-06       0.000722\n",
      "     3.744           81.74       498.733        1.4e-05       0.00104    4.8223e-06        0.000722\n",
      "     3.996           81.67       498.733        1.4e-05       0.00111    4.81582e-06       0.000722\n",
      "     4.248           81.7        498.733        1.4e-05       0.00118    4.80935e-06       0.000722\n",
      "     4.5             81.63       498.7          1.4e-05       0.00125    4.80432e-06       0.000722\n",
      "     4.752           81.64       498.667        2.8e-05       0.00132    4.79953e-06       0.000736\n",
      "     5.004           81.7        498.667        2.8e-05       0.00139    4.79475e-06       0.000736\n",
      "     5.256           81.61       498.633        2.8e-05       0.00146    4.78996e-06       0.000736\n",
      "     5.508           81.63       498.667        2.8e-05       0.00153    4.78517e-06       0.000736\n",
      "     5.76            81.66       498.7          2.8e-05       0.0016     4.77926e-06       0.000736\n",
      "     6.012           81.67       498.7          2.8e-05       0.00167    4.77089e-06       0.000736\n",
      "     6.264           81.62       498.733        2.8e-05       0.00174    4.76169e-06       0.000736\n",
      "     6.516           81.6        498.7          2.8e-05       0.00181    4.75002e-06       0.000736\n",
      "     6.732           81.77       498.733        2.8e-05       0.00187    4.7359e-06        0.000736\n",
      "     6.984           81.66       498.7          4.2e-05       0.00194    4.71676e-06       0.00075\n",
      "     7.236           81.69       498.7          4.2e-05       0.00201    4.69007e-06       0.00075\n",
      "     7.488           81.69       498.7          4.2e-05       0.00208    4.66091e-06       0.00075\n",
      "     7.74            81.64       498.7          4.2e-05       0.00215    4.62674e-06       0.00075\n",
      "     7.992           81.77       498.7          4.2e-05       0.00222    4.5901e-06        0.00075\n",
      "     8.244           81.64       498.733        4.2e-05       0.00229    4.5525e-06        0.00075\n",
      "     8.496           81.69       498.733        4.2e-05       0.00236    4.5149e-06        0.00075\n",
      "     8.748           81.6        498.733        4.2e-05       0.00243    4.4773e-06        0.00075\n",
      "     9               81.63       498.733        5.55e-05      0.0025     4.4397e-06        0.0007635\n",
      "     9.252           81.69       498.733        5.55e-05      0.00257    4.39721e-06       0.0007635\n",
      "     9.504           81.63       498.7          5.55e-05      0.00264    4.34984e-06       0.0007635\n",
      "     9.756           81.62       498.7          5.55e-05      0.00271    4.30264e-06       0.0007635\n",
      "    10.008           81.72       498.7          5.55e-05      0.00278    4.25308e-06       0.0007635\n",
      "    10.26            81.67       498.7          5.55e-05      0.00285    4.20205e-06       0.0007635\n",
      "    10.512           81.65       498.667        5.55e-05      0.00292    4.14866e-06       0.0007635\n",
      "    10.764           81.74       498.7          5.55e-05      0.00299    4.09289e-06       0.0007635\n",
      "    11.016           81.65       498.7          5.55e-05      0.00306    4.03638e-06       0.0007635\n",
      "    11.268           81.58       498.733        5.55e-05      0.00313    3.98006e-06       0.0007635\n",
      "    11.484           81.64       498.733        5.55e-05      0.00319    3.92391e-06       0.0007635\n",
      "    11.736           81.69       498.733        5.55e-05      0.00326    3.87284e-06       0.0007635\n",
      "    11.988           81.69       498.733        5.55e-05      0.00333    3.82682e-06       0.0007635\n",
      "    12.24            81.7        498.7          5.55e-05      0.0034     3.78588e-06       0.0007635\n",
      "    12.492           81.64       498.7          5.55e-05      0.00347    3.75e-06          0.0007635\n",
      "    12.744           81.72       498.667        5.55e-05      0.00354    3.71676e-06       0.0007635\n",
      "    12.996           81.68       498.667        5.55e-05      0.00361    3.68603e-06       0.0007635\n",
      "    13.248           81.6        498.667        5.55e-05      0.00368    3.65782e-06       0.0007635\n",
      "    13.5             81.69       498.7          5.55e-05      0.00375    3.63213e-06       0.0007635\n",
      "    13.752           81.61       498.7          5.55e-05      0.00382    3.60898e-06       0.0007635\n",
      "    14.004           81.62       498.733        6.95e-05      0.00389    3.58839e-06       0.0007775\n",
      "    14.256           81.64       498.733        6.95e-05      0.00396    3.56528e-06       0.0007775\n",
      "    14.508           81.63       498.733        6.95e-05      0.00403    3.53966e-06       0.0007775\n",
      "    14.76            81.65       498.733        6.95e-05      0.0041     3.5125e-06        0.0007775\n",
      "    15.012           81.62       498.733        6.95e-05      0.00417    3.4828e-06        0.0007775\n",
      "    15.264           81.65       498.733        6.95e-05      0.00424    3.45191e-06       0.0007775\n",
      "    15.516           81.63       498.7          6.95e-05      0.00431    3.41847e-06       0.0007775\n",
      "    15.768           81.68       498.7          6.95e-05      0.00438    3.38249e-06       0.0007775\n",
      "    15.984           81.72       498.7          6.95e-05      0.00444    3.34395e-06       0.0007775\n",
      "    16.236           81.66       498.733        6.95e-05      0.00451    3.30034e-06       0.0007775\n",
      "    16.488           81.62       498.733        6.95e-05      0.00458    3.25167e-06       0.0007775\n",
      "    16.74            81.63       498.733        6.95e-05      0.00465    3.20551e-06       0.0007775\n",
      "    16.992           81.71       498.733        6.95e-05      0.00472    3.16187e-06       0.0007775\n",
      "    17.244           81.63       498.733        6.95e-05      0.00479    3.12001e-06       0.0007775\n",
      "    17.496           81.65       498.733        6.95e-05      0.00486    3.07937e-06       0.0007775\n",
      "    17.748           81.69       498.733        6.95e-05      0.00493    3.04128e-06       0.0007775\n",
      "    18               81.61       498.7          6.95e-05      0.005      3.00575e-06       0.0007775\n",
      "    18.252           81.72       498.7          6.95e-05      0.00507    2.97276e-06       0.0007775\n",
      "    18.504           81.64       498.667        6.95e-05      0.00514    2.94233e-06       0.0007775\n",
      "    18.756           81.67       498.667        6.95e-05      0.00521    2.91444e-06       0.0007775\n",
      "    19.008           81.72       498.667        6.95e-05      0.00528    2.89166e-06       0.0007775\n",
      "    19.26            81.63       498.7          6.95e-05      0.00535    2.87216e-06       0.0007775\n",
      "    19.512           81.59       498.7          8.35e-05      0.00542    2.85521e-06       0.0007915\n",
      "    19.764           81.63       498.733        8.35e-05      0.00549    2.83571e-06       0.0007915\n",
      "    20.016           81.7        498.733        8.35e-05      0.00556    2.81463e-06       0.0007915\n",
      "    20.268           81.62       498.733        8.35e-05      0.00563    2.791e-06         0.0007915\n",
      "    20.484           81.63       498.733        8.35e-05      0.00569    2.76482e-06       0.0007915\n",
      "    20.736           81.54       498.733        8.35e-05      0.00576    2.73608e-06       0.0007915\n",
      "    20.988           81.6        498.7          8.35e-05      0.00583    2.70722e-06       0.0007915\n",
      "    21.24            81.62       498.7          8.35e-05      0.0059     2.67823e-06       0.0007915\n",
      "    21.492           81.58       498.667        8.35e-05      0.00597    2.64661e-06       0.0007915\n",
      "    21.744           81.55       498.667        8.35e-05      0.00604    2.61194e-06       0.0007915\n",
      "    21.996           81.5        498.7          8.35e-05      0.00611    2.57376e-06       0.0007915\n",
      "    22.248           81.42       498.7          8.35e-05      0.00618    2.53804e-06       0.0007915\n",
      "    22.5             81.53       498.7          8.35e-05      0.00625    2.50478e-06       0.0007915\n",
      "    22.752           81.54       498.733        9.75e-05      0.00632    2.47398e-06       0.0008055\n",
      "    23.004           81.58       498.733        9.75e-05      0.00639    2.443e-06         0.0008055\n",
      "    23.256           81.65       498.733        9.75e-05      0.00646    2.41184e-06       0.0008055\n",
      "    23.508           81.6        498.733        9.75e-05      0.00653    2.37803e-06       0.0008055\n",
      "    23.76            81.54       498.7          9.75e-05      0.0066     2.3445e-06        0.0008055\n",
      "    24.012           81.68       498.7          9.75e-05      0.00667    2.31088e-06       0.0008055\n",
      "    24.264           81.58       498.667     "
     ]
    },
    {
     "data": {
      "text/html": [
       "<b>limit_output extension: Maximum message size of 10000 exceeded with 238194 characters</b>"
      ]
     },
     "metadata": {},
     "output_type": "display_data"
    }
   ],
   "source": [
    "lev = levol[3]\n",
    "curve = []\n",
    "cols = range(len(lev.data))\n",
    "for j in range(irupt):\n",
    "    s=[]\n",
    "    for jj in cols: s.append(lev.data[jj].item(j))\n",
    "    curve.append(s)\n",
    "from tabulate import tabulate\n",
    "print (tabulate(curve, headers=lev.title))\n"
   ]
  },
  {
   "cell_type": "code",
   "execution_count": 64,
   "metadata": {
    "collapsed": false
   },
   "outputs": [],
   "source": [
    "repertoire_de_travail = ''\n",
    "fl_png_filename = flu.compute_fl_images(repertoire_de_travail,levol[2], levol[3], irupt)"
   ]
  },
  {
   "cell_type": "code",
   "execution_count": 65,
   "metadata": {
    "collapsed": false
   },
   "outputs": [
    {
     "data": {
      "text/plain": [
       "['2_fluage_temperature.png',\n",
       " '2_fluage_allongement.png',\n",
       " '2_fluage_allongement_moy.png',\n",
       " '2_fluage_vitesse_moy.png']"
      ]
     },
     "execution_count": 65,
     "metadata": {},
     "output_type": "execute_result"
    }
   ],
   "source": [
    "fl_png_filename"
   ]
  },
  {
   "cell_type": "code",
   "execution_count": 80,
   "metadata": {
    "collapsed": false
   },
   "outputs": [],
   "source": [
    "import madnex.IO as IO\n",
    "pivot_filename = 'pivot.edf'\n",
    "mywriter = IO.Writer('Evolution', pivot_filename)\n",
    "mywriter.write(levol[0], dataset_name = 'chauffage_brut')\n",
    "mywriter.write(levol[1], dataset_name = 'charge_brut')\n",
    "mywriter.write(levol[2], dataset_name = 'fluage_brut')\n",
    "mywriter.write(levol[3], dataset_name = 'creep')"
   ]
  },
  {
   "cell_type": "code",
   "execution_count": null,
   "metadata": {
    "collapsed": true
   },
   "outputs": [],
   "source": [
    "fichier_de_sortie = ''\n",
    "flu.compute_output(levol, repertoire_de_travail, fichier_de_sortie,True, True, True,irupt)"
   ]
  },
  {
   "cell_type": "code",
   "execution_count": null,
   "metadata": {
    "collapsed": true
   },
   "outputs": [],
   "source": []
  }
 ],
 "metadata": {
  "kernelspec": {
   "display_name": "Python [default]",
   "language": "python",
   "name": "python2"
  },
  "language_info": {
   "codemirror_mode": {
    "name": "ipython",
    "version": 2
   },
   "file_extension": ".py",
   "mimetype": "text/x-python",
   "name": "python",
   "nbconvert_exporter": "python",
   "pygments_lexer": "ipython2",
   "version": "2.7.12"
  }
 },
 "nbformat": 4,
 "nbformat_minor": 0
}
