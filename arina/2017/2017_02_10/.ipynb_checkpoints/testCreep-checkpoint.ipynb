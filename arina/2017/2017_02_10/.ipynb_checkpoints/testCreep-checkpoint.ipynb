{
 "cells": [
  {
   "cell_type": "code",
   "execution_count": 1,
   "metadata": {
    "collapsed": true
   },
   "outputs": [],
   "source": [
    "import pandas as pd"
   ]
  },
  {
   "cell_type": "code",
   "execution_count": 2,
   "metadata": {
    "collapsed": false
   },
   "outputs": [],
   "source": [
    "from xls2dict import xls2dict\n",
    "from derive01 import derive"
   ]
  },
  {
   "cell_type": "code",
   "execution_count": null,
   "metadata": {
    "collapsed": false
   },
   "outputs": [],
   "source": [
    "xls1= xls2dict()"
   ]
  },
  {
   "cell_type": "markdown",
   "metadata": {},
   "source": [
    "или:"
   ]
  },
  {
   "cell_type": "code",
   "execution_count": 3,
   "metadata": {
    "collapsed": false
   },
   "outputs": [
    {
     "name": "stdout",
     "output_type": "stream",
     "text": [
      "File '/notebooks/arinas/2017_02_10/Creep.xls' readed successfully!\n"
     ]
    }
   ],
   "source": [
    "xls2 = xls2dict('/notebooks/arinas/2017_02_10/Creep.xls')"
   ]
  },
  {
   "cell_type": "code",
   "execution_count": 4,
   "metadata": {
    "collapsed": false
   },
   "outputs": [],
   "source": [
    "sheets=sorted(xls2.data, key=lambda x: int(x.split(u'°C')[0]))"
   ]
  },
  {
   "cell_type": "code",
   "execution_count": 5,
   "metadata": {
    "collapsed": false
   },
   "outputs": [],
   "source": [
    "from math import isnan\n",
    "def cregion(df,col):\n",
    "    for _j in range(4,df.shape[0]):\n",
    "        if isnan(df.iloc[_j,col]): return (df.iloc[4:_j,col].values,df.iloc[4:_j,col+1].values)\n",
    "        else: _j+=1"
   ]
  },
  {
   "cell_type": "code",
   "execution_count": 6,
   "metadata": {
    "collapsed": false
   },
   "outputs": [],
   "source": [
    "%matplotlib inline\n",
    "import matplotlib.pyplot as plt\n",
    "import numpy as np\n",
    "plt.rcParams[\"figure.figsize\"]=[12., 8.]"
   ]
  },
  {
   "cell_type": "code",
   "execution_count": null,
   "metadata": {
    "code_folding": [
     0
    ],
    "collapsed": false,
    "scrolled": true
   },
   "outputs": [],
   "source": [
    "for _ in sheets:\n",
    "    dxy =xls2.data[_]\n",
    "    plt.title(_)\n",
    "    for _c in range(0,dxy.shape[1],3):\n",
    "        cr = cregion(dxy,_c)\n",
    "        plt.plot(cr[0], cr[1],'-')\n",
    "    plt.show()"
   ]
  },
  {
   "cell_type": "code",
   "execution_count": 13,
   "metadata": {
    "code_folding": [
     0
    ],
    "collapsed": false
   },
   "outputs": [],
   "source": [
    "def fivepoint(x,y):\n",
    "    lenx = len(x)\n",
    "    for _j in range(lenx):\n",
    "        if _j<2:\n",
    "            yield (-25.*y[_j] +48.*y[_j+1] -36.*y[_j+2] +16.*y[_j+3] -3.*y[_j+4])/((x[_j+4]-x[_j])*3.)\n",
    "        elif _j>(lenx-3):\n",
    "            yield (25.*y[_j] -48.*y[_j-1] +36.*y[_j-2] -16.*y[_j-3] +3.*y[_j-4])/((x[_j]-x[_j-4])*3.)\n",
    "        else:\n",
    "            yield (y[_j-2] -8.*y[_j-1] +8.*y[_j+1] -y[_j+2])/((x[_j+2]-x[_j-2])*3.)"
   ]
  },
  {
   "cell_type": "code",
   "execution_count": 7,
   "metadata": {
    "collapsed": true,
    "scrolled": true
   },
   "outputs": [],
   "source": [
    "from ipywidgets import interact, interactive, fixed\n",
    "import ipywidgets as widgets\n",
    "from IPython.display import display"
   ]
  },
  {
   "cell_type": "code",
   "execution_count": 8,
   "metadata": {
    "collapsed": false
   },
   "outputs": [
    {
     "data": {
      "text/plain": [
       "'248:10'"
      ]
     },
     "metadata": {},
     "output_type": "display_data"
    }
   ],
   "source": [
    "def plots_view(x):\n",
    "    yx =xls2.data[x]\n",
    "    plots = [\"%s:%d\" % (yx.iloc[1,_],_) for _ in range(1,yx.shape[1],3)]\n",
    "    w2.options=plots\n",
    "\n",
    "w1 = widgets.Select(options=sheets)\n",
    "yx =xls2.data[w1.value]\n",
    "plots = [\"%s:%d\" % (yx.iloc[1,_],_) for _ in range(1,yx.shape[1],3)]\n",
    "w2 = widgets.Select(options=plots)\n",
    "\n",
    "i = interactive(plots_view,x=w1)\n",
    "j = interactive(lambda x:x, x=w2)\n",
    "\n",
    "\n",
    "display(i,j);"
   ]
  },
  {
   "cell_type": "code",
   "execution_count": 9,
   "metadata": {
    "collapsed": false
   },
   "outputs": [
    {
     "data": {
      "text/html": [
       "<script>requirejs.config({paths: { 'plotly': ['https://cdn.plot.ly/plotly-latest.min']},});if(!window.Plotly) {{require(['plotly'],function(plotly) {window.Plotly=plotly;});}}</script>"
      ],
      "text/plain": [
       "<IPython.core.display.HTML object>"
      ]
     },
     "metadata": {},
     "output_type": "display_data"
    }
   ],
   "source": [
    "from plotly.offline import download_plotlyjs, init_notebook_mode, plot, iplot\n",
    "init_notebook_mode(connected=True)\n",
    "import plotly\n",
    "import plotly.graph_objs as go\n",
    "\n",
    "yx = xls2.data[w1.value]\n",
    "oneplot = w2.value.split(':')\n",
    "cr = cregion(yx, int(oneplot[1])-1)\n",
    "dydx = np.array([_ for _ in derive(cr[0], cr[1],step=5,cutoff=0, cutoff_s=0)])"
   ]
  },
  {
   "cell_type": "code",
   "execution_count": 10,
   "metadata": {
    "collapsed": false
   },
   "outputs": [
    {
     "data": {
      "application/vnd.plotly.v1+json": {
       "data": [
        {
         "type": "scatter",
         "x": [
          0.13513513513513511,
          0.16216216216216217,
          0.18918918918918917,
          0.2162162162162162,
          0.24324324324324323,
          0.27027027027027023,
          0.29729729729729726,
          0.32432432432432434,
          0.35135135135135137,
          0.37837837837837834,
          0.4054054054054054,
          0.4324324324324324,
          0.45945945945945943,
          0.48648648648648646,
          0.5135135135135135,
          0.5405405405405405,
          0.5675675675675675,
          0.5945945945945945,
          0.6216216216216216,
          0.6486486486486487,
          0.6756756756756757,
          0.7027027027027027,
          0.7297297297297297,
          0.7567567567567567,
          0.7837837837837838,
          0.8108108108108107,
          0.8378378378378378,
          0.8648648648648648,
          0.8918918918918919,
          0.9189189189189189,
          0.9459459459459459,
          0.9729729729729729,
          1
         ],
         "y": [
          15.69334836527621,
          11.634723788049605,
          11.634723788049603,
          12.175873731679818,
          13.528748590755358,
          12.717023675310035,
          12.987598647125138,
          14.881623449830892,
          15.693348365276211,
          15.422773393461105,
          17.58737316798196,
          17.857948139797067,
          18.39909808342728,
          18.669673055242395,
          20.293122886133034,
          20.293122886133045,
          21.64599774520858,
          20.826155580608805,
          25.975197294250286,
          27.05749718151071,
          29.763246899661766,
          33.28072153325815,
          37.88861330326944,
          38.42164599774521,
          41.93912063134159,
          47.35062006764374,
          51.409244644870334,
          59.52649379932355,
          67.64374295377674,
          81.17249154453214,
          94.70124013528749,
          124.46448703494937,
          261.1048478015782
         ]
        }
       ],
       "layout": {
        "xaxis": {
         "autorange": true
        },
        "yaxis": {
         "autorange": true,
         "type": "log"
        }
       }
      },
      "text/html": [
       "<div id=\"09369217-e305-4b8d-8b3f-ea81099f5792\" style=\"height: 525px; width: 100%;\" class=\"plotly-graph-div\"></div><script type=\"text/javascript\">require([\"plotly\"], function(Plotly) { window.PLOTLYENV=window.PLOTLYENV || {};window.PLOTLYENV.BASE_URL=\"https://plot.ly\";Plotly.newPlot(\"09369217-e305-4b8d-8b3f-ea81099f5792\", [{\"y\": [15.69334836527621, 11.634723788049605, 11.634723788049603, 12.175873731679818, 13.528748590755358, 12.717023675310035, 12.987598647125138, 14.881623449830892, 15.693348365276211, 15.422773393461105, 17.58737316798196, 17.857948139797067, 18.39909808342728, 18.669673055242395, 20.293122886133034, 20.293122886133045, 21.64599774520858, 20.826155580608805, 25.975197294250286, 27.05749718151071, 29.763246899661766, 33.28072153325815, 37.88861330326944, 38.42164599774521, 41.93912063134159, 47.35062006764374, 51.409244644870334, 59.52649379932355, 67.64374295377674, 81.17249154453214, 94.70124013528749, 124.46448703494937, 261.1048478015782], \"x\": [0.13513513513513511, 0.16216216216216217, 0.18918918918918917, 0.2162162162162162, 0.24324324324324323, 0.27027027027027023, 0.29729729729729726, 0.32432432432432434, 0.35135135135135137, 0.37837837837837834, 0.4054054054054054, 0.4324324324324324, 0.45945945945945943, 0.48648648648648646, 0.5135135135135135, 0.5405405405405405, 0.5675675675675675, 0.5945945945945945, 0.6216216216216216, 0.6486486486486487, 0.6756756756756757, 0.7027027027027027, 0.7297297297297297, 0.7567567567567567, 0.7837837837837838, 0.8108108108108107, 0.8378378378378378, 0.8648648648648648, 0.8918918918918919, 0.9189189189189189, 0.9459459459459459, 0.9729729729729729, 1.0], \"type\": \"scatter\"}], {\"xaxis\": {\"autorange\": true}, \"yaxis\": {\"type\": \"log\", \"autorange\": true}}, {\"linkText\": \"Export to plot.ly\", \"showLink\": true})});</script>"
      ]
     },
     "metadata": {},
     "output_type": "display_data"
    }
   ],
   "source": [
    "trace1 = go.Scatter(\n",
    "    x=dydx[:,1]/np.abs(dydx[:,1]).max(),\n",
    "    y=dydx[:,0]\n",
    ")\n",
    "data = [trace1,]\n",
    "layout = go.Layout(\n",
    "    xaxis=dict(\n",
    "        autorange=True\n",
    "    ),\n",
    "    yaxis=dict(\n",
    "        type='log',\n",
    "        autorange=True\n",
    "    )\n",
    ")\n",
    "fig = go.Figure(data=data, layout=layout)\n",
    "iplot(fig)"
   ]
  },
  {
   "cell_type": "code",
   "execution_count": null,
   "metadata": {
    "collapsed": false
   },
   "outputs": [],
   "source": [
    "%matplotlib notebook\n",
    "#oneplot in onesheet\n",
    "yx = xls2.data[w1.value]\n",
    "oneplot = w2.value.split(':')\n",
    "cr = cregion(yx, int(oneplot[1])-1)\n",
    "dydx = [_ for _ in fivepoint(cr[0], cr[1])]\n",
    "plt.title(\"%s [%s:%s]\" % (w1.value,oneplot[0],oneplot[1]))\n",
    "plt.semilogy(cr[0]/np.abs(cr[0]).max(), dydx,'-')"
   ]
  },
  {
   "cell_type": "code",
   "execution_count": null,
   "metadata": {
    "collapsed": false
   },
   "outputs": [],
   "source": [
    "#all plots in onesheet\n",
    "yx =xls2.data[onesheet]\n",
    "plt.title(onesheet)\n",
    "for _c in range(0,yx.shape[1],3):\n",
    "    cr = cregion(yx,_c)\n",
    "    dydx = [_ for _ in fivepoint(cr[0], cr[1])]\n",
    "    plt.semilogy(cr[0]/np.abs(cr[0]).max(), dydx,'-')\n",
    "plt.show()"
   ]
  },
  {
   "cell_type": "code",
   "execution_count": null,
   "metadata": {
    "collapsed": true
   },
   "outputs": [],
   "source": [
    "%matplotlib??"
   ]
  },
  {
   "cell_type": "code",
   "execution_count": null,
   "metadata": {
    "collapsed": false,
    "scrolled": true
   },
   "outputs": [],
   "source": []
  },
  {
   "cell_type": "code",
   "execution_count": null,
   "metadata": {
    "collapsed": false,
    "scrolled": true
   },
   "outputs": [],
   "source": [
    "#import fivepoint\n",
    "for _ in sheets:\n",
    "    yx =xls2.data[_]\n",
    "    plt.title(_)\n",
    "    for _c in range(0,yx.shape[1],3):\n",
    "        cr = cregion(yx,_c)\n",
    "        dydx = [_ for _ in fivepoint(cr[0], cr[1])]\n",
    "        plt.semilogy(cr[0]/np.abs(cr[0]).max(), dydx,'-')\n",
    "    plt.show()"
   ]
  },
  {
   "cell_type": "code",
   "execution_count": 11,
   "metadata": {
    "collapsed": false
   },
   "outputs": [],
   "source": [
    "xx =np.linspace(-5,5,201)\n",
    "yy = xx**2 + 10*np.sin(xx)"
   ]
  },
  {
   "cell_type": "code",
   "execution_count": 16,
   "metadata": {
    "collapsed": false
   },
   "outputs": [
    {
     "data": {
      "image/png": "[encoded data removed]",
      "text/plain": [
       "<matplotlib.figure.Figure at 0x7f3b56a23750>"
      ]
     },
     "metadata": {},
     "output_type": "display_data"
    }
   ],
   "source": [
    "plt.plot(xx,yy);"
   ]
  },
  {
   "cell_type": "code",
   "execution_count": 15,
   "metadata": {
    "collapsed": false
   },
   "outputs": [
    {
     "data": {
      "image/png": "[encoded data removed]",
      "text/plain": [
       "<matplotlib.figure.Figure at 0x7f3b59e90610>"
      ]
     },
     "metadata": {},
     "output_type": "display_data"
    }
   ],
   "source": [
    "plt.plot(xx,[_ for _ in fivepoint(xx,yy)]);"
   ]
  },
  {
   "cell_type": "code",
   "execution_count": 19,
   "metadata": {
    "collapsed": false
   },
   "outputs": [
    {
     "data": {
      "image/png": "[encoded data removed]",
      "text/plain": [
       "<matplotlib.figure.Figure at 0x7f3b56979090>"
      ]
     },
     "metadata": {},
     "output_type": "display_data"
    }
   ],
   "source": [
    "dydx = np.array([_ for _ in derive(xx, yy,step=40,cutoff=0, cutoff_s=0)])\n",
    "plt.plot(dydx[:,1],dydx[:,0]);"
   ]
  },
  {
   "cell_type": "code",
   "execution_count": null,
   "metadata": {
    "collapsed": true
   },
   "outputs": [],
   "source": []
  }
 ],
 "metadata": {
  "kernelspec": {
   "display_name": "Python 2",
   "language": "python",
   "name": "python2"
  },
  "language_info": {
   "codemirror_mode": {
    "name": "ipython",
    "version": 2
   },
   "file_extension": ".py",
   "mimetype": "text/x-python",
   "name": "python",
   "nbconvert_exporter": "python",
   "pygments_lexer": "ipython2",
   "version": "2.7.13"
  },
  "widgets": {
   "state": {
    "11d23090b6714b9390471443191ae3cf": {
     "views": [
      {
       "cell_index": 14
      }
     ]
    },
    "144c9fd11c494ac6b4026a9c55f75f5f": {
     "views": [
      {
       "cell_index": 13
      }
     ]
    },
    "20b647d0e80a4661a970d035683465f3": {
     "views": [
      {
       "cell_index": 11
      }
     ]
    },
    "21e979a14f4847268dabb251f7c52f35": {
     "views": [
      {
       "cell_index": 12
      }
     ]
    },
    "2ac5e8b4a60c4652b62fd7a2e8ae3862": {
     "views": [
      {
       "cell_index": 11
      }
     ]
    },
    "2c3fac9e330a4da6830f16ef58f84fc9": {
     "views": [
      {
       "cell_index": 14
      }
     ]
    },
    "3371a7788bc3428e8040a94e7525dd0d": {
     "views": [
      {
       "cell_index": 11
      }
     ]
    },
    "3415bd88739a4fe693b2d6d4af240d21": {
     "views": [
      {
       "cell_index": 12
      }
     ]
    },
    "35d9ed2298b947e7a35ab847518d57a5": {
     "views": [
      {
       "cell_index": 14
      }
     ]
    },
    "3e5a9ade52c74c67ae2efcf69409c111": {
     "views": [
      {
       "cell_index": 12
      }
     ]
    },
    "43cd4850a7c948aba489a64958328bbf": {
     "views": [
      {
       "cell_index": 12
      }
     ]
    },
    "4854325a93b8486ead031fbcc049f6fe": {
     "views": [
      {
       "cell_index": 12
      }
     ]
    },
    "4dc4ff4f175b44e4b93e9f2af2cba06e": {
     "views": [
      {
       "cell_index": 12
      }
     ]
    },
    "55d79833dfd74b4ab5ca5b61c8f2577d": {
     "views": [
      {
       "cell_index": 12
      }
     ]
    },
    "5773f3e7050043caaee4a259ef01923a": {
     "views": [
      {
       "cell_index": 12
      }
     ]
    },
    "5c302311c3744c4491820708815ca839": {
     "views": [
      {
       "cell_index": 12
      }
     ]
    },
    "67014a3fea7a48199d1ebe08ef1cd86e": {
     "views": [
      {
       "cell_index": 12
      }
     ]
    },
    "85cd487c07d84a22bbe2ff21fc6735de": {
     "views": [
      {
       "cell_index": 11
      }
     ]
    },
    "96755ed8a8444a9a9b79cd2ae938da76": {
     "views": [
      {
       "cell_index": 12
      }
     ]
    },
    "977f95b8dc1745ada64830fbe370153f": {
     "views": [
      {
       "cell_index": 12
      }
     ]
    },
    "af75e8bef54f468f88b16f644fa9ad2a": {
     "views": [
      {
       "cell_index": 14
      }
     ]
    },
    "bb92aa6c7dfd42b89df3c967c9216524": {
     "views": [
      {
       "cell_index": 11
      }
     ]
    },
    "be6fa4f295534109bc0ca06f89825937": {
     "views": [
      {
       "cell_index": 11
      }
     ]
    },
    "c7c70606f7f2423ca564d79c009758ed": {
     "views": [
      {
       "cell_index": 14
      }
     ]
    },
    "ca9d344e1ce04f4a886404197e73bf47": {
     "views": [
      {
       "cell_index": 11
      }
     ]
    },
    "cc1e8cf77a074052a86be8efd8bef231": {
     "views": [
      {
       "cell_index": 12
      }
     ]
    },
    "e1e4d63543314330935076798e25cfb6": {
     "views": [
      {
       "cell_index": 11
      }
     ]
    },
    "e847c40fcd024ec08e3d88c71de56482": {
     "views": [
      {
       "cell_index": 14
      }
     ]
    }
   },
   "version": "1.2.0"
  }
 },
 "nbformat": 4,
 "nbformat_minor": 2
}
