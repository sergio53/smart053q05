{
 "cells": [
  {
   "cell_type": "markdown",
   "metadata": {},
   "source": [
    "## Numerical differentiation\n",
    "\n",
    "The functions I have defined use the numdifftools package,see https://pypi.python.org/pypi/Numdifftools.  The curl, divergence, and laplacian operators, are not explicitly a part of the package (they probably should be), but the package does return the Jacobian matrix of all first-order partial derivatives of a vector-valued function (https://en.wikipedia.org/wiki/Jacobian_matrix_and_determinant), and \n",
    "the Hessian matrix of second-order partial derivatives of a scalar-valued function (https://en.wikipedia.org/wiki/Hessian_matrix), from which it is easy to compute the desired operators."
   ]
  },
  {
   "cell_type": "code",
   "execution_count": 1,
   "metadata": {
    "collapsed": false
   },
   "outputs": [],
   "source": [
    "import scipy as sp\n",
    "import numdifftools as nd  # See https://pypi.python.org/pypi/Numdifftools\n",
    "\n",
    "import matplotlib.pyplot as plt\n",
    "# ML finds plots too big, thus the customizations:\n",
    "plt.rcParams['figure.figsize'] = (6,4.5) # Change default size of plots\n",
    "plt.rcParams['font.size'] = 14           # Change default fontsize for figures\n",
    "plt.rcParams['figure.autolayout'] = True # Adjusts for changes\n",
    "# Following is an Ipython magic command that puts figures in the  notebook.\n",
    "# For figures in separate windows, comment out this command, an uncomment followin\n",
    "%matplotlib notebook\n",
    "# %matplotlib"
   ]
  },
  {
   "cell_type": "code",
   "execution_count": 2,
   "metadata": {
    "collapsed": false
   },
   "outputs": [],
   "source": [
    "# Divergence of vector-valued function f evaluated at x\n",
    "def div(f,x):\n",
    "    jac = nd.Jacobian(f)(x)\n",
    "    return jac[0,0] + jac[1,1] + jac[2,2]"
   ]
  },
  {
   "cell_type": "code",
   "execution_count": 3,
   "metadata": {
    "collapsed": true
   },
   "outputs": [],
   "source": [
    "# Gradient of scalar-valued function f evaluated at x\n",
    "def grad(f,x):\n",
    "    return nd.Gradient(f)(x)"
   ]
  },
  {
   "cell_type": "code",
   "execution_count": 4,
   "metadata": {
    "collapsed": false
   },
   "outputs": [],
   "source": [
    "# Curl of vector field f evaluated at x\n",
    "def curl(f,x):\n",
    "    jac = nd.Jacobian(f)(x)\n",
    "    return sp.array([jac[2,1]-jac[1,2],jac[0,2]-jac[2,0],jac[1,0]-jac[0,1]])"
   ]
  },
  {
   "cell_type": "code",
   "execution_count": 5,
   "metadata": {
    "collapsed": false
   },
   "outputs": [],
   "source": [
    "# Laplacian of scalar field f evaluated at x\n",
    "def laplacian(f,x):\n",
    "    hes = nd.Hessdiag(f)(x)\n",
    "    return sum(hes)"
   ]
  },
  {
   "cell_type": "markdown",
   "metadata": {},
   "source": [
    "#### Example from documentation\n",
    "See https://pypi.python.org/pypi/Numdifftools"
   ]
  },
  {
   "cell_type": "code",
   "execution_count": null,
   "metadata": {
    "collapsed": false
   },
   "outputs": [],
   "source": [
    "import matplotlib.pyplot as plt\n",
    "import scipy as sp\n",
    "import numdifftools as nd\n",
    "%matplotlib inline\n",
    "\n",
    "plt.figure(1)\n",
    "x = sp.linspace(-2, 2, 100)\n",
    "for i in range(10):\n",
    "    df = nd.Derivative(sp.tanh, n=i)\n",
    "    y = df(x)\n",
    "    h = plt.plot(x, y/sp.absolute(y).max())"
   ]
  },
  {
   "cell_type": "markdown",
   "metadata": {},
   "source": [
    "#### Scalar function single variable: $\\quad f(x)\\quad\\left.\\frac{df}{dx}\\right|_{x_0}\\quad\\left.\\frac{d^2f}{dx^2}\\right|_{x_0}$"
   ]
  },
  {
   "cell_type": "code",
   "execution_count": 6,
   "metadata": {
    "collapsed": true
   },
   "outputs": [],
   "source": [
    "def f(x):\n",
    "    return 4*x**3"
   ]
  },
  {
   "cell_type": "code",
   "execution_count": 7,
   "metadata": {
    "collapsed": false
   },
   "outputs": [
    {
     "data": {
      "text/plain": [
       "(array(108.00000000000003), array(72.00000000000017))"
      ]
     },
     "execution_count": 7,
     "metadata": {},
     "output_type": "execute_result"
    }
   ],
   "source": [
    "x0 = 3\n",
    "d1 = nd.Derivative(f,n=1)  # OR nd.Derivative(f)\n",
    "d2 = nd.Derivative(f,n=2)\n",
    "d1(x0),d2(x0)"
   ]
  },
  {
   "cell_type": "markdown",
   "metadata": {},
   "source": [
    "#### Scalar field (3D): $\\quad g({\\bf r})\\left.\\quad\\nabla g\\right|_{{\\bf r}_0}\\quad \\left.\\nabla^2g\\right|_{{\\bf r}_0}$"
   ]
  },
  {
   "cell_type": "code",
   "execution_count": null,
   "metadata": {
    "collapsed": true
   },
   "outputs": [],
   "source": [
    "def g(x):\n",
    "    return x[0]**2+x[1]**3+1"
   ]
  },
  {
   "cell_type": "code",
   "execution_count": null,
   "metadata": {
    "collapsed": false
   },
   "outputs": [],
   "source": [
    "r0 = sp.array([1,2,3])\n",
    "grad(g,r0)"
   ]
  },
  {
   "cell_type": "code",
   "execution_count": null,
   "metadata": {
    "collapsed": false
   },
   "outputs": [],
   "source": [
    "laplacian(g,r0)"
   ]
  },
  {
   "cell_type": "markdown",
   "metadata": {},
   "source": [
    "#### Vector  field  (3D): $\\quad {\\bf v}({\\bf r})\\quad\\nabla\\cdot {\\bf v}\\quad \\nabla\\times{\\bf v}$"
   ]
  },
  {
   "cell_type": "code",
   "execution_count": null,
   "metadata": {
    "collapsed": false
   },
   "outputs": [],
   "source": [
    "def v1(x):\n",
    "    return sp.array([x[1]**3,x[0]**2,x[0]])\n",
    "\n",
    "def v2(x):\n",
    "    return sp.array([x[0]**3*x[2],x[1],x[2]*x[1]])"
   ]
  },
  {
   "cell_type": "code",
   "execution_count": null,
   "metadata": {
    "collapsed": false
   },
   "outputs": [],
   "source": [
    "r0 = sp.array([1,2,3])"
   ]
  },
  {
   "cell_type": "code",
   "execution_count": null,
   "metadata": {
    "collapsed": false
   },
   "outputs": [],
   "source": [
    "curl(v1,r0)"
   ]
  },
  {
   "cell_type": "code",
   "execution_count": null,
   "metadata": {
    "collapsed": false
   },
   "outputs": [],
   "source": [
    "div(v1,r0), div(v2,r0)"
   ]
  },
  {
   "cell_type": "code",
   "execution_count": null,
   "metadata": {
    "collapsed": true
   },
   "outputs": [],
   "source": []
  },
  {
   "cell_type": "code",
   "execution_count": null,
   "metadata": {
    "collapsed": true
   },
   "outputs": [],
   "source": [
    "#test of passing function to function\n",
    "def test(f,x):\n",
    "    return f(x)"
   ]
  }
 ],
 "metadata": {
  "anaconda-cloud": {},
  "kernelspec": {
   "display_name": "Python 2",
   "language": "python",
   "name": "python2"
  },
  "language_info": {
   "codemirror_mode": {
    "name": "ipython",
    "version": 2
   },
   "file_extension": ".py",
   "mimetype": "text/x-python",
   "name": "python",
   "nbconvert_exporter": "python",
   "pygments_lexer": "ipython2",
   "version": "2.7.13"
  }
 },
 "nbformat": 4,
 "nbformat_minor": 0
}
