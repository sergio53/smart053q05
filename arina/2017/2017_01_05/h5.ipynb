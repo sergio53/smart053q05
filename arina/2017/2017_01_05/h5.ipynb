{
 "cells": [
  {
   "cell_type": "code",
   "execution_count": 1,
   "metadata": {
    "collapsed": true
   },
   "outputs": [],
   "source": [
    "import numpy as np\n",
    "import h5py\n",
    "import os"
   ]
  },
  {
   "cell_type": "code",
   "execution_count": 2,
   "metadata": {
    "collapsed": true
   },
   "outputs": [],
   "source": [
    "sm_array = np.random.random(size = (3,3))\n",
    "sml_array = np.random.random(size = (2,2))"
   ]
  },
  {
   "cell_type": "code",
   "execution_count": 4,
   "metadata": {
    "collapsed": false
   },
   "outputs": [],
   "source": [
    "f = h5py.File(\"data.hdf5\", 'w')"
   ]
  },
  {
   "cell_type": "code",
   "execution_count": 5,
   "metadata": {
    "collapsed": false
   },
   "outputs": [
    {
     "name": "stdout",
     "output_type": "stream",
     "text": [
      "Dataset dataspace is (3, 3)\n",
      "Dataset datatype is float64\n",
      "Dataset name is /data\n",
      "Dataset is a member of the group <HDF5 group \"/\" (1 members)>\n"
     ]
    }
   ],
   "source": [
    "# Create a dataset\n",
    "dataset = f.create_dataset(\"data\", data=sm_array)\n",
    "# Keywords shape and dtype may be specified along with data\n",
    "# If so, they will override data.shape and data.dtype\n",
    "print \"Dataset dataspace is\", dataset.shape\n",
    "print \"Dataset datatype is\", dataset.dtype\n",
    "print \"Dataset name is\", dataset.name\n",
    "print \"Dataset is a member of the group\", dataset.parent"
   ]
  },
  {
   "cell_type": "code",
   "execution_count": 6,
   "metadata": {
    "collapsed": false
   },
   "outputs": [
    {
     "name": "stdout",
     "output_type": "stream",
     "text": [
      "Dataset dataspace is (2, 2)\n",
      "Dataset datatype is float64\n",
      "Dataset name is /sm_data\n",
      "Dataset is a member of the group <HDF5 group \"/\" (2 members)>\n"
     ]
    }
   ],
   "source": [
    "# Alternatively\n",
    "f['sm_data'] = sml_array\n",
    "dset = f['sm_data']\n",
    "print \"Dataset dataspace is\", dset.shape\n",
    "print \"Dataset datatype is\", dset.dtype\n",
    "print \"Dataset name is\", dset.name\n",
    "print \"Dataset is a member of the group\", dset.parent"
   ]
  },
  {
   "cell_type": "code",
   "execution_count": 17,
   "metadata": {
    "collapsed": false
   },
   "outputs": [
    {
     "name": "stdout",
     "output_type": "stream",
     "text": [
      "HDF5 \"data.hdf5\" {\r\n",
      "GROUP \"/\" {\r\n",
      "   DATASET \"data\" {\r\n",
      "      DATATYPE  H5T_IEEE_F64LE\r\n",
      "      DATASPACE  SIMPLE { ( 3, 3 ) / ( 3, 3 ) }\r\n",
      "      DATA {\r\n",
      "      (0,0): 0.321329, 0.376696, 0.47182,\r\n",
      "      (1,0): 0.0585994, 0.560659, 0.599192,\r\n",
      "      (2,0): 0.846008, 0.658705, 0.995577\r\n",
      "      }\r\n",
      "   }\r\n",
      "   DATASET \"sm_data\" {\r\n",
      "      DATATYPE  H5T_IEEE_F64LE\r\n",
      "      DATASPACE  SIMPLE { ( 2, 2 ) / ( 2, 2 ) }\r\n",
      "      DATA {\r\n",
      "      (0,0): 0.964035, 0.347217,\r\n",
      "      (1,0): 0.792271, 0.0712928\r\n",
      "      }\r\n",
      "   }\r\n",
      "}\r\n",
      "}\r\n"
     ]
    }
   ],
   "source": [
    "#f.close()\n",
    "# Command line utilities h5dump and h5stat useful to see info about file \n",
    "!h5dump data.hdf5"
   ]
  },
  {
   "cell_type": "code",
   "execution_count": 18,
   "metadata": {
    "collapsed": false
   },
   "outputs": [
    {
     "data": {
      "text/plain": [
       "array([[ 1.,  1.,  1.,  1.],\n",
       "       [ 1.,  1.,  1.,  1.],\n",
       "       [ 1.,  1.,  1.,  1.]])"
      ]
     },
     "execution_count": 18,
     "metadata": {},
     "output_type": "execute_result"
    }
   ],
   "source": [
    "# Working with subsets of data using NumPy syntax for data slicing\n",
    "f = h5py.File(\"data.hdf5\", 'w')\n",
    "f['intArray'] = np.ones((3,4))\n",
    "dset2 = f['intArray']\n",
    "dset2[...]"
   ]
  },
  {
   "cell_type": "code",
   "execution_count": 19,
   "metadata": {
    "collapsed": false
   },
   "outputs": [
    {
     "data": {
      "text/plain": [
       "array([[ 1.,  1.,  2.,  2.],\n",
       "       [ 1.,  1.,  2.,  2.],\n",
       "       [ 1.,  1.,  2.,  2.]])"
      ]
     },
     "execution_count": 19,
     "metadata": {},
     "output_type": "execute_result"
    }
   ],
   "source": [
    "f['intArray'][:,2:] = 2\n",
    "dset2[...]"
   ]
  },
  {
   "cell_type": "code",
   "execution_count": 20,
   "metadata": {
    "collapsed": true
   },
   "outputs": [],
   "source": [
    "f.close()"
   ]
  },
  {
   "cell_type": "code",
   "execution_count": 21,
   "metadata": {
    "collapsed": false
   },
   "outputs": [
    {
     "name": "stdout",
     "output_type": "stream",
     "text": [
      "HDF5 \"data.hdf5\" {\r\n",
      "GROUP \"/\" {\r\n",
      "   DATASET \"intArray\" {\r\n",
      "      DATATYPE  H5T_IEEE_F64LE\r\n",
      "      DATASPACE  SIMPLE { ( 3, 4 ) / ( 3, 4 ) }\r\n",
      "      DATA {\r\n",
      "      (0,0): 1, 1, 2, 2,\r\n",
      "      (1,0): 1, 1, 2, 2,\r\n",
      "      (2,0): 1, 1, 2, 2\r\n",
      "      }\r\n",
      "   }\r\n",
      "}\r\n",
      "}\r\n"
     ]
    }
   ],
   "source": [
    "!h5dump data.hdf5"
   ]
  },
  {
   "cell_type": "code",
   "execution_count": null,
   "metadata": {
    "collapsed": true
   },
   "outputs": [],
   "source": []
  },
  {
   "cell_type": "code",
   "execution_count": 13,
   "metadata": {
    "collapsed": false
   },
   "outputs": [
    {
     "name": "stdout",
     "output_type": "stream",
     "text": [
      "h5utils - HDF5 files visualization tools\n",
      "hdf5-helpers - Hierarchical Data Format 5 (HDF5) - Helper tools\n",
      "hdf5-tools - Hierarchical Data Format 5 (HDF5) - Runtime tools\n",
      "libhdf5-7 - Hierarchical Data Format 5 (HDF5) - runtime files - serial version\n",
      "libhdf5-7-dbg - Hierarchical Data Format 5 (HDF5) - Debug package\n",
      "libhdf5-dev - Hierarchical Data Format 5 (HDF5) - development files - serial version\n",
      "libhdf5-doc - Hierarchical Data Format 5 (HDF5) - Documentation\n",
      "libhdf5-mpi-dev - Hierarchical Data Format 5 (HDF5) - development files - MPICH2 version\n",
      "libhdf5-mpich2-7 - Hierarchical Data Format 5 (HDF5) - runtime files - MPICH2 version\n",
      "libhdf5-mpich2-7-dbg - Hierarchical Data Format 5 (HDF5) - Mpich2 Debug package\n",
      "libhdf5-mpich2-dev - Hierarchical Data Format 5 (HDF5) - development files - MPICH2 version\n",
      "libhdf5-openmpi-7 - Hierarchical Data Format 5 (HDF5) - runtime files - OpenMPI version\n",
      "libhdf5-openmpi-7-dbg - Hierarchical Data Format 5 (HDF5) - OpenMPI Debug package\n",
      "libhdf5-openmpi-dev - Hierarchical Data Format 5 (HDF5) - development files - OpenMPI version\n",
      "libhdf5-serial-dev - Hierarchical Data Format 5 (HDF5) - development files - transitionnal package\n",
      "libhe5-hdfeos0 - Earth Observation System extensions to HDF5\n",
      "libjhdf5-java - Java HDF5 Object Package\n",
      "libjhdf5-jni - Java HDF5 Object Package (Java JNI library)\n",
      "libpdl-io-hdf5-perl - PDL Interface to the HDF5 Data Format.\n",
      "python-h5py - h5py is a general-purpose Python interface to hdf5\n",
      "python-tables - hierarchical database for Python based on HDF5\n",
      "python-tables-data - hierarchical database for Python based on HDF5 - test data\n",
      "python-tables-dbg - hierarchical database for Python based on HDF5 (debug extension)\n",
      "python-tables-doc - hierarchical database for Python based on HDF5 - documentation\n",
      "python-tables-lib - hierarchical database for Python based on HDF5 (extension)\n",
      "python3-h5py - h5py is a general-purpose Python interface to hdf5\n",
      "python3-tables - hierarchical database for Python3 based on HDF5\n",
      "python3-tables-dbg - hierarchical database for Python 3 based on HDF5 (debug extension)\n",
      "python3-tables-lib - hierarchical database for Python3 based on HDF5 (extension)\n",
      "r-cran-hdf5 - GNU R package interfacing the NCSA HDF5 library\n",
      "vitables - graphical tool to browse and edit PyTables and HDF5 files\n",
      "yorick-hdf5 - Hierarchical Data Format 5 interface for the Yorick language\n"
     ]
    }
   ],
   "source": [
    "!apt-cache search \"hdf5\""
   ]
  },
  {
   "cell_type": "code",
   "execution_count": 1,
   "metadata": {
    "collapsed": true
   },
   "outputs": [],
   "source": [
    "import pandas as pd\n",
    "from pandas import HDFStore"
   ]
  },
  {
   "cell_type": "code",
   "execution_count": 2,
   "metadata": {
    "collapsed": false
   },
   "outputs": [
    {
     "data": {
      "text/plain": [
       "pandas.io.pytables.HDFStore"
      ]
     },
     "execution_count": 2,
     "metadata": {},
     "output_type": "execute_result"
    }
   ],
   "source": [
    "HDFStore"
   ]
  },
  {
   "cell_type": "code",
   "execution_count": 5,
   "metadata": {
    "collapsed": false
   },
   "outputs": [
    {
     "name": "stdout",
     "output_type": "stream",
     "text": [
      "Linux version 4.1.17-22.30.amzn1.x86_64 (mockbuild@gobi-build-60009) (gcc version 4.8.3 20140911 (Red Hat 4.8.3-9) (GCC) ) #1 SMP Fri Feb 5 23:44:22 UTC 2016\r\n"
     ]
    }
   ],
   "source": [
    "!cat /proc/version "
   ]
  },
  {
   "cell_type": "code",
   "execution_count": 6,
   "metadata": {
    "collapsed": false
   },
   "outputs": [
    {
     "data": {
      "application/json": {
       "cell": {
        "!": "OSMagics",
        "HTML": "Other",
        "SVG": "Other",
        "bash": "Other",
        "capture": "ExecutionMagics",
        "debug": "ExecutionMagics",
        "file": "Other",
        "html": "DisplayMagics",
        "javascript": "DisplayMagics",
        "latex": "DisplayMagics",
        "perl": "Other",
        "prun": "ExecutionMagics",
        "pypy": "Other",
        "python": "Other",
        "python2": "Other",
        "python3": "Other",
        "ruby": "Other",
        "script": "ScriptMagics",
        "sh": "Other",
        "svg": "DisplayMagics",
        "sx": "OSMagics",
        "system": "OSMagics",
        "time": "ExecutionMagics",
        "timeit": "ExecutionMagics",
        "writefile": "OSMagics"
       },
       "line": {
        "alias": "OSMagics",
        "alias_magic": "BasicMagics",
        "autocall": "AutoMagics",
        "automagic": "AutoMagics",
        "autosave": "KernelMagics",
        "bookmark": "OSMagics",
        "cat": "Other",
        "cd": "OSMagics",
        "clear": "KernelMagics",
        "colors": "BasicMagics",
        "config": "ConfigMagics",
        "connect_info": "KernelMagics",
        "cp": "Other",
        "debug": "ExecutionMagics",
        "dhist": "OSMagics",
        "dirs": "OSMagics",
        "doctest_mode": "BasicMagics",
        "ed": "Other",
        "edit": "KernelMagics",
        "env": "OSMagics",
        "gui": "BasicMagics",
        "hist": "Other",
        "history": "HistoryMagics",
        "install_default_config": "DeprecatedMagics",
        "install_ext": "ExtensionMagics",
        "install_profiles": "DeprecatedMagics",
        "killbgscripts": "ScriptMagics",
        "ldir": "Other",
        "less": "KernelMagics",
        "lf": "Other",
        "lk": "Other",
        "ll": "Other",
        "load": "CodeMagics",
        "load_ext": "ExtensionMagics",
        "loadpy": "CodeMagics",
        "logoff": "LoggingMagics",
        "logon": "LoggingMagics",
        "logstart": "LoggingMagics",
        "logstate": "LoggingMagics",
        "logstop": "LoggingMagics",
        "ls": "Other",
        "lsmagic": "BasicMagics",
        "lx": "Other",
        "macro": "ExecutionMagics",
        "magic": "BasicMagics",
        "man": "KernelMagics",
        "matplotlib": "PylabMagics",
        "mkdir": "Other",
        "more": "KernelMagics",
        "mv": "Other",
        "notebook": "BasicMagics",
        "page": "BasicMagics",
        "pastebin": "CodeMagics",
        "pdb": "ExecutionMagics",
        "pdef": "NamespaceMagics",
        "pdoc": "NamespaceMagics",
        "pfile": "NamespaceMagics",
        "pinfo": "NamespaceMagics",
        "pinfo2": "NamespaceMagics",
        "popd": "OSMagics",
        "pprint": "BasicMagics",
        "precision": "BasicMagics",
        "profile": "BasicMagics",
        "prun": "ExecutionMagics",
        "psearch": "NamespaceMagics",
        "psource": "NamespaceMagics",
        "pushd": "OSMagics",
        "pwd": "OSMagics",
        "pycat": "OSMagics",
        "pylab": "PylabMagics",
        "qtconsole": "KernelMagics",
        "quickref": "BasicMagics",
        "recall": "HistoryMagics",
        "rehashx": "OSMagics",
        "reload_ext": "ExtensionMagics",
        "rep": "Other",
        "rerun": "HistoryMagics",
        "reset": "NamespaceMagics",
        "reset_selective": "NamespaceMagics",
        "rm": "Other",
        "rmdir": "Other",
        "run": "ExecutionMagics",
        "save": "CodeMagics",
        "sc": "OSMagics",
        "set_env": "OSMagics",
        "store": "StoreMagics",
        "sx": "OSMagics",
        "system": "OSMagics",
        "tb": "ExecutionMagics",
        "time": "ExecutionMagics",
        "timeit": "ExecutionMagics",
        "unalias": "OSMagics",
        "unload_ext": "ExtensionMagics",
        "who": "NamespaceMagics",
        "who_ls": "NamespaceMagics",
        "whos": "NamespaceMagics",
        "xdel": "NamespaceMagics",
        "xmode": "BasicMagics"
       }
      },
      "text/plain": [
       "Available line magics:\n",
       "%alias  %alias_magic  %autocall  %automagic  %autosave  %bookmark  %cat  %cd  %clear  %colors  %config  %connect_info  %cp  %debug  %dhist  %dirs  %doctest_mode  %ed  %edit  %env  %gui  %hist  %history  %install_default_config  %install_ext  %install_profiles  %killbgscripts  %ldir  %less  %lf  %lk  %ll  %load  %load_ext  %loadpy  %logoff  %logon  %logstart  %logstate  %logstop  %ls  %lsmagic  %lx  %macro  %magic  %man  %matplotlib  %mkdir  %more  %mv  %notebook  %page  %pastebin  %pdb  %pdef  %pdoc  %pfile  %pinfo  %pinfo2  %popd  %pprint  %precision  %profile  %prun  %psearch  %psource  %pushd  %pwd  %pycat  %pylab  %qtconsole  %quickref  %recall  %rehashx  %reload_ext  %rep  %rerun  %reset  %reset_selective  %rm  %rmdir  %run  %save  %sc  %set_env  %store  %sx  %system  %tb  %time  %timeit  %unalias  %unload_ext  %who  %who_ls  %whos  %xdel  %xmode\n",
       "\n",
       "Available cell magics:\n",
       "%%!  %%HTML  %%SVG  %%bash  %%capture  %%debug  %%file  %%html  %%javascript  %%latex  %%perl  %%prun  %%pypy  %%python  %%python2  %%python3  %%ruby  %%script  %%sh  %%svg  %%sx  %%system  %%time  %%timeit  %%writefile\n",
       "\n",
       "Automagic is ON, % prefix IS NOT needed for line magics."
      ]
     },
     "execution_count": 6,
     "metadata": {},
     "output_type": "execute_result"
    }
   ],
   "source": [
    "%lsmagic"
   ]
  },
  {
   "cell_type": "code",
   "execution_count": 12,
   "metadata": {
    "collapsed": false
   },
   "outputs": [
    {
     "name": "stdout",
     "output_type": "stream",
     "text": [
      "No LSB modules are available.\r\n",
      "Distributor ID:\tUbuntu\r\n",
      "Description:\tUbuntu 14.04.2 LTS\r\n",
      "Release:\t14.04\r\n",
      "Codename:\ttrusty\r\n"
     ]
    }
   ],
   "source": [
    "!lsb_release -a"
   ]
  },
  {
   "cell_type": "code",
   "execution_count": 28,
   "metadata": {
    "collapsed": false
   },
   "outputs": [
    {
     "name": "stdout",
     "output_type": "stream",
     "text": [
      "# coding: utf-8\r\n",
      "get_ipython().system(u'%save -r /notebooks/scibook.sh')\r\n",
      "#!/bin/bash\r\n",
      "\r\n",
      "export PATH=/usr/local/go/bin:$PATH\r\n",
      "export GOPATH=/go\r\n",
      "export PATH=$GOPATH/bin:$PATH\r\n",
      "\r\n",
      "export ROOTSYS=/usr/local/root\r\n",
      "export PATH=$ROOTSYS/bin:$PATH\r\n",
      "export LD_LIBRARY_PATH=$ROOTSYS/lib:$LD_LIBRARY_PATH\r\n",
      "    \r\n",
      "\r\n",
      "HASH=$(python3 -c \"from IPython.lib import passwd; print(passwd('${PASSWORD}'))\")\r\n",
      "#unset PASSWORD\r\n",
      "\r\n",
      "##ipython notebook --no-browser --port 8888 --ip=* --NotebookApp.password=\"$HASH\"\r\n",
      "jupyter notebook --no-browser --port 8888 --ip=* --NotebookApp.password=\"$HASH\"\r\n",
      "\r\n",
      "#unset HASH\r\n"
     ]
    }
   ],
   "source": [
    "!cat /notebooks/scibook.sh"
   ]
  },
  {
   "cell_type": "code",
   "execution_count": 22,
   "metadata": {
    "collapsed": false
   },
   "outputs": [
    {
     "ename": "SyntaxError",
     "evalue": "invalid syntax (<ipython-input-22-ffb248d57fd9>, line 4)",
     "output_type": "error",
     "traceback": [
      "\u001b[1;36m  File \u001b[1;32m\"<ipython-input-22-ffb248d57fd9>\"\u001b[1;36m, line \u001b[1;32m4\u001b[0m\n\u001b[1;33m    export PATH=/usr/local/go/bin:$PATH\u001b[0m\n\u001b[1;37m              ^\u001b[0m\n\u001b[1;31mSyntaxError\u001b[0m\u001b[1;31m:\u001b[0m invalid syntax\n"
     ]
    }
   ],
   "source": [
    "#!/bin/bash\n",
    "\n",
    "export PATH=/usr/local/go/bin:$PATH\n",
    "export GOPATH=/go\n",
    "export PATH=$GOPATH/bin:$PATH\n",
    "\n",
    "export ROOTSYS=/usr/local/root\n",
    "export PATH=$ROOTSYS/bin:$PATH\n",
    "export LD_LIBRARY_PATH=$ROOTSYS/lib:$LD_LIBRARY_PATH\n",
    "    \n",
    "\n",
    "HASH=$(python3 -c \"from IPython.lib import passwd; print(passwd('${PASSWORD}'))\")\n",
    "#unset PASSWORD\n",
    "\n",
    "##ipython notebook --no-browser --port 8888 --ip=* --NotebookApp.password=\"$HASH\"\n",
    "jupyter notebook --no-browser --port 8888 --ip=* --NotebookApp.password=\"$HASH\"\n",
    "\n",
    "#unset HASH\n"
   ]
  },
  {
   "cell_type": "code",
   "execution_count": 25,
   "metadata": {
    "collapsed": false
   },
   "outputs": [
    {
     "name": "stdout",
     "output_type": "stream",
     "text": [
      "The following commands were written to file `/notebooks/scibook.sh.ipy`:\n",
      "get_ipython().system(u'%save -r /notebooks/scibook.sh')\n",
      "#!/bin/bash\n",
      "\n",
      "export PATH=/usr/local/go/bin:$PATH\n",
      "export GOPATH=/go\n",
      "export PATH=$GOPATH/bin:$PATH\n",
      "\n",
      "export ROOTSYS=/usr/local/root\n",
      "export PATH=$ROOTSYS/bin:$PATH\n",
      "export LD_LIBRARY_PATH=$ROOTSYS/lib:$LD_LIBRARY_PATH\n",
      "    \n",
      "\n",
      "HASH=$(python3 -c \"from IPython.lib import passwd; print(passwd('${PASSWORD}'))\")\n",
      "#unset PASSWORD\n",
      "\n",
      "##ipython notebook --no-browser --port 8888 --ip=* --NotebookApp.password=\"$HASH\"\n",
      "jupyter notebook --no-browser --port 8888 --ip=* --NotebookApp.password=\"$HASH\"\n",
      "\n",
      "#unset HASH\n"
     ]
    }
   ],
   "source": [
    "%save -r /notebooks/scibook.sh _ih[22]"
   ]
  },
  {
   "cell_type": "code",
   "execution_count": 32,
   "metadata": {
    "collapsed": false
   },
   "outputs": [
    {
     "name": "stdout",
     "output_type": "stream",
     "text": [
      "#!/bin/bash\r\n",
      "\r\n",
      "export PATH=/usr/local/go/bin:$PATH\r\n",
      "export GOPATH=/go\r\n",
      "export PATH=$GOPATH/bin:$PATH\r\n",
      "\r\n",
      "export ROOTSYS=/usr/local/root\r\n",
      "export PATH=$ROOTSYS/bin:$PATH\r\n",
      "export LD_LIBRARY_PATH=$ROOTSYS/lib:$LD_LIBRARY_PATH\r\n",
      "    \r\n",
      "\r\n",
      "HASH=$(python3 -c \"from IPython.lib import passwd; print(passwd('${PASSWORD}'))\")\r\n",
      "#unset PASSWORD\r\n",
      "\r\n",
      "##ipython notebook --no-browser --port 8888 --ip=* --NotebookApp.password=\"$HASH\"\r\n",
      "jupyter notebook --no-browser --port 8888 --ip=* --NotebookApp.password=\"$HASH\"\r\n",
      "\r\n",
      "#unset HASH\r\n"
     ]
    }
   ],
   "source": [
    "!cp /notebooks/scibook.sh /scibook.sh\n",
    "!chmod 777 /scibook.sh\n",
    "!cat /scibook.sh"
   ]
  },
  {
   "cell_type": "code",
   "execution_count": null,
   "metadata": {
    "collapsed": true
   },
   "outputs": [],
   "source": []
  }
 ],
 "metadata": {
  "kernelspec": {
   "display_name": "Python 2",
   "language": "python",
   "name": "python2"
  },
  "language_info": {
   "codemirror_mode": {
    "name": "ipython",
    "version": 2
   },
   "file_extension": ".py",
   "mimetype": "text/x-python",
   "name": "python",
   "nbconvert_exporter": "python",
   "pygments_lexer": "ipython2",
   "version": "2.7.6"
  }
 },
 "nbformat": 4,
 "nbformat_minor": 0
}
