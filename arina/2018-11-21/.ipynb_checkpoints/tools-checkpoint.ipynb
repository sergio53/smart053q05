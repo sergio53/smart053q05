{
 "cells": [
  {
   "cell_type": "code",
   "execution_count": 1,
   "metadata": {},
   "outputs": [
    {
     "name": "stdout",
     "output_type": "stream",
     "text": [
      "Overwriting exclinks-data.py\n"
     ]
    }
   ],
   "source": [
    "%%writefile exclinks-data.py\n",
    "#!/usr/bin/env python2\n",
    "\n",
    "sought = 'REPE_OUT/data'\n",
    "\n",
    "import os, shutil\n",
    "\n",
    "sought_dir = \"./data_XX\"\n",
    "if os.path.isdir(sought_dir): shutil.rmtree(sought_dir)\n",
    "os.mkdir(sought_dir)\n",
    "\n",
    "for _ in os.listdir('.'):\n",
    "    if os.path.isfile(\"./%s/%s\" % (_, sought)):\n",
    "        data = \"../%s/%s\" % (_, sought)\n",
    "        lnk = \"%s/%s%s\" % (sought_dir, sought.split('/')[-1], _[-3:])\n",
    "        if os.path.islink(lnk): os.unlink(lnk)            \n",
    "        os.symlink(data,lnk)\n",
    "        print data, lnk"
   ]
  },
  {
   "cell_type": "code",
   "execution_count": 2,
   "metadata": {},
   "outputs": [],
   "source": [
    "!chmod +x exclinks-data.py"
   ]
  },
  {
   "cell_type": "code",
   "execution_count": 3,
   "metadata": {},
   "outputs": [
    {
     "name": "stdout",
     "output_type": "stream",
     "text": [
      "../calc_03/REPE_OUT/data ./data_XX/data_03\r\n",
      "../calc_01/REPE_OUT/data ./data_XX/data_01\r\n",
      "../calc_10/REPE_OUT/data ./data_XX/data_10\r\n",
      "../calc_04/REPE_OUT/data ./data_XX/data_04\r\n",
      "../calc_06/REPE_OUT/data ./data_XX/data_06\r\n",
      "../calc_07/REPE_OUT/data ./data_XX/data_07\r\n",
      "../calc_09/REPE_OUT/data ./data_XX/data_09\r\n",
      "../calc_02/REPE_OUT/data ./data_XX/data_02\r\n",
      "../calc_05/REPE_OUT/data ./data_XX/data_05\r\n"
     ]
    }
   ],
   "source": [
    "!./exclinks-data.py"
   ]
  },
  {
   "cell_type": "code",
   "execution_count": 4,
   "metadata": {},
   "outputs": [
    {
     "name": "stdout",
     "output_type": "stream",
     "text": [
      "Overwriting exclinks-crack.py\n"
     ]
    }
   ],
   "source": [
    "%%writefile exclinks-crack.py\n",
    "#!/usr/bin/env python2\n",
    "\n",
    "sought = 'crack-length*.dat'\n",
    "\n",
    "import os, shutil, fnmatch\n",
    "\n",
    "sought_dir = \"crack_XX\"\n",
    "if os.path.isdir(sought_dir): shutil.rmtree(sought_dir)\n",
    "os.mkdir(sought_dir)\n",
    "\n",
    "for _ in os.listdir('.'):\n",
    "    if _== sought_dir :\n",
    "        continue\n",
    "    calc = \"./%s\" % _\n",
    "    if os.path.isdir(calc):\n",
    "        for data in os.listdir(calc):\n",
    "            if fnmatch.fnmatch(data, sought):\n",
    "                src = \".%s/%s\" % (calc,data)\n",
    "                lnk = \"./%s/%s\" % (sought_dir, data)\n",
    "                if os.path.islink(lnk): os.unlink(lnk)            \n",
    "                os.symlink(src,lnk)\n",
    "                print src, lnk"
   ]
  },
  {
   "cell_type": "code",
   "execution_count": 5,
   "metadata": {},
   "outputs": [],
   "source": [
    "!chmod +x exclinks-crack.py"
   ]
  },
  {
   "cell_type": "code",
   "execution_count": 6,
   "metadata": {},
   "outputs": [
    {
     "name": "stdout",
     "output_type": "stream",
     "text": [
      "../calc_03/crack-length3.dat ./crack_XX/crack-length3.dat\r\n",
      "../calc_01/crack-length1.dat ./crack_XX/crack-length1.dat\r\n",
      "../calc_10/crack-length10.dat ./crack_XX/crack-length10.dat\r\n",
      "../calc_04/crack-length4.dat ./crack_XX/crack-length4.dat\r\n",
      "../calc_06/crack-length6.dat ./crack_XX/crack-length6.dat\r\n",
      "../calc_07/crack-length7.dat ./crack_XX/crack-length7.dat\r\n",
      "../calc_09/crack-length9.dat ./crack_XX/crack-length9.dat\r\n",
      "../calc_02/crack-length2.dat ./crack_XX/crack-length2.dat\r\n",
      "../calc_05/crack-length5.dat ./crack_XX/crack-length5.dat\r\n"
     ]
    }
   ],
   "source": [
    "!./exclinks-crack.py"
   ]
  },
  {
   "cell_type": "code",
   "execution_count": 7,
   "metadata": {},
   "outputs": [
    {
     "name": "stdout",
     "output_type": "stream",
     "text": [
      "Traceback (most recent call last):\r\n",
      "  File \"crack-length.py\", line 1, in <module>\r\n",
      "    print medFileName, fnout\r\n",
      "NameError: name 'medFileName' is not defined\r\n"
     ]
    }
   ],
   "source": [
    "!python2 crack-length.py"
   ]
  },
  {
   "cell_type": "code",
   "execution_count": 8,
   "metadata": {},
   "outputs": [
    {
     "name": "stdout",
     "output_type": "stream",
     "text": [
      "Overwriting EXEC_crack-length.py\n"
     ]
    }
   ],
   "source": [
    "%%writefile EXEC_crack-length.py\n",
    "#!/usr/bin/env python2\n",
    "import os, shutil\n",
    "\n",
    "sought_dir = \"crack_XX\"\n",
    "if os.path.isdir(sought_dir): shutil.rmtree(sought_dir)\n",
    "os.mkdir(sought_dir)\n",
    "\n",
    "for _ in os.listdir('.'):\n",
    "    if not os.path.isdir(_): continue\n",
    "    if _[:-2]<>'calc_': continue\n",
    "    medFileName = \"./%s/CT_results.rmed\" % _ \n",
    "    fnout = \"./%s/crack-length%s.dat\" % (sought_dir, _[-3:])\n",
    "    if os.path.isfile(medFileName):\n",
    "        execfile('crack-length.py') "
   ]
  },
  {
   "cell_type": "code",
   "execution_count": 9,
   "metadata": {},
   "outputs": [
    {
     "name": "stdout",
     "output_type": "stream",
     "text": [
      "./calc_03/CT_results.rmed ./crack_XX/crack-length_03.dat\r\n",
      "./calc_01/CT_results.rmed ./crack_XX/crack-length_01.dat\r\n",
      "./calc_10/CT_results.rmed ./crack_XX/crack-length_10.dat\r\n",
      "./calc_04/CT_results.rmed ./crack_XX/crack-length_04.dat\r\n",
      "./calc_06/CT_results.rmed ./crack_XX/crack-length_06.dat\r\n",
      "./calc_08/CT_results.rmed ./crack_XX/crack-length_08.dat\r\n",
      "./calc_07/CT_results.rmed ./crack_XX/crack-length_07.dat\r\n",
      "./calc_09/CT_results.rmed ./crack_XX/crack-length_09.dat\r\n",
      "./calc_02/CT_results.rmed ./crack_XX/crack-length_02.dat\r\n",
      "./calc_05/CT_results.rmed ./crack_XX/crack-length_05.dat\r\n"
     ]
    }
   ],
   "source": [
    "!python2 EXEC_crack-length.py"
   ]
  },
  {
   "cell_type": "code",
   "execution_count": 14,
   "metadata": {},
   "outputs": [
    {
     "data": {
      "text/plain": [
       "'_08'"
      ]
     },
     "execution_count": 14,
     "metadata": {},
     "output_type": "execute_result"
    }
   ],
   "source": [
    "'crack_08'[-3:]"
   ]
  },
  {
   "cell_type": "code",
   "execution_count": 10,
   "metadata": {},
   "outputs": [
    {
     "name": "stdout",
     "output_type": "stream",
     "text": [
      "Python 2.7.15 :: Anaconda, Inc.\r\n"
     ]
    }
   ],
   "source": [
    "!python -V"
   ]
  },
  {
   "cell_type": "code",
   "execution_count": 11,
   "metadata": {},
   "outputs": [
    {
     "name": "stdout",
     "output_type": "stream",
     "text": [
      "Python 2.7.15 :: Anaconda, Inc.\r\n"
     ]
    }
   ],
   "source": [
    "!python2 -V"
   ]
  }
 ],
 "metadata": {
  "kernelspec": {
   "display_name": "Python 2",
   "language": "python",
   "name": "python2"
  },
  "language_info": {
   "codemirror_mode": {
    "name": "ipython",
    "version": 2
   },
   "file_extension": ".py",
   "mimetype": "text/x-python",
   "name": "python",
   "nbconvert_exporter": "python",
   "pygments_lexer": "ipython2",
   "version": "2.7.15"
  }
 },
 "nbformat": 4,
 "nbformat_minor": 2
}
