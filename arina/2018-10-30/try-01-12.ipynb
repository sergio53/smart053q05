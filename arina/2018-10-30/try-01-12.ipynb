{
 "cells": [
  {
   "cell_type": "code",
   "execution_count": 2,
   "metadata": {},
   "outputs": [],
   "source": [
    "import pandas as pd\n",
    "import numpy as np\n",
    "from scipy.optimize import fsolve\n",
    "from scipy.integrate import quad, fixed_quad, quadrature\n",
    "\n",
    "import matplotlib.pyplot as plt\n",
    "%matplotlib inline\n",
    "plt.rcParams[\"figure.figsize\"]=[18, 11]"
   ]
  },
  {
   "cell_type": "code",
   "execution_count": 3,
   "metadata": {
    "code_folding": []
   },
   "outputs": [
    {
     "data": {
      "text/plain": [
       "{}"
      ]
     },
     "execution_count": 3,
     "metadata": {},
     "output_type": "execute_result"
    }
   ],
   "source": [
    "#Create empty class of formulas A2.*\n",
    "class formulas_A2:\n",
    "  def show(self):\n",
    "    return self.__dict__\n",
    "\n",
    "# Создается абсолютно пустой Инстанс (экземпляр) 'A2'\n",
    "# Приобретать свои свойства он будет по мере уточнения методики расчётов\n",
    "A2=formulas_A2()\n",
    "#;\n",
    "A2.show()"
   ]
  },
  {
   "cell_type": "markdown",
   "metadata": {},
   "source": [
    "# 1: Calculation of the elastic compliance from ASTM1820 (A2.10 and A2.11)"
   ]
  },
  {
   "cell_type": "markdown",
   "metadata": {},
   "source": [
    "<img src=\"photo_2018-10-31_16-04-39.jpg\" height=\"420\" width=\"420\"  />"
   ]
  },
  {
   "cell_type": "markdown",
   "metadata": {},
   "source": [
    "$$\n",
    "C_{LL(i)}= {\\frac 1{E\\cdot B_e}}\\left(\\frac {W+a_i}{W-a_i}\\right)^2\n",
    "\\left[\n",
    "2.1630+12.219\\left(\\frac {a_i}W\\right)\n",
    "-20.065\\left(\\frac {a_i}W\\right)^2\n",
    "-0.9925\\left(\\frac {a_i}W\\right)^3\n",
    "+20.609\\left(\\frac {a_i}W\\right)^4\n",
    "-9.9314\\left(\\frac {a_i}W\\right)^5\n",
    "\\right]\n",
    "\\qquad(A2.10) \n",
    "\\\\\n",
    "\\\\\n",
    "\\boldsymbol{where:} \\\\\n",
    "B_e = B-\\frac{(B-B_N)^2}B \\;mm\n",
    "\\qquad\\qquad\\qquad\\qquad\\qquad\\qquad(A2.11)\n",
    "\\\\\n",
    "\\\\\n",
    "$$\n",
    "___\n",
    "$$\n",
    "B = 12.5 \\;mm \\\\\n",
    "B_N = 0.8 \\cdot\\;B \\\\\n",
    "E = 190 000 \\;MPa = 195 000 \\;\\frac N {{mm}^2} \\\\\n",
    "W = 25\\;mm \\\\\n",
    "$$"
   ]
  },
  {
   "cell_type": "code",
   "execution_count": 4,
   "metadata": {},
   "outputs": [
    {
     "name": "stdout",
     "output_type": "stream",
     "text": [
      "{}\n"
     ]
    },
    {
     "data": {
      "text/plain": [
       "(3.1284561390208e-05,)"
      ]
     },
     "execution_count": 4,
     "metadata": {},
     "output_type": "execute_result"
    }
   ],
   "source": [
    "#Вводим в оборот формулы А2.10 и А2.11\n",
    "def __(self, ai): #(A2.10)  \n",
    "  #вводим константы для (A2.10)\n",
    "  self.B= 12.5\n",
    "  self.BN= 0.8*self.B\n",
    "  self.Be= self.B - ((self.B-self.BN)**2)/self.B # (A2.11)\n",
    "  self.E= 190000.\n",
    "  self.W= 25.\n",
    "\n",
    "  self.ai = ai + 15.5 #?\n",
    "  ai_w = self.ai/self.W\n",
    "  return (2.1630 + 12.219*ai_w - 20.065*ai_w**2 - 0.9925*ai_w**3 + 20.609*ai_w**4 - 9.9314*ai_w**5) * \\\n",
    "    ( (self.W+self.ai)/(self.W-self.ai) )**2./(self.E*self.Be)\n",
    "  #\n",
    "\n",
    "formulas_A2._10 = __      # добавляем метод в Класс 'formulas_A2'\n",
    "\n",
    "# ТЕСТ: юзаем метод для уже существующего Инстанса(экземпляра) 'A2' (test)\n",
    "print A2.show()\n",
    "A2._10(0.), "
   ]
  },
  {
   "cell_type": "code",
   "execution_count": 5,
   "metadata": {
    "code_folding": [],
    "scrolled": true
   },
   "outputs": [
    {
     "data": {
      "text/plain": [
       "{'B': 12.5,\n",
       " 'BN': 10.0,\n",
       " 'Be': 12.0,\n",
       " 'E': 190000.0,\n",
       " 'W': 25.0,\n",
       " 'ai': 18.025830336,\n",
       " 'crack': array([[7.44254670e-02, 3.18614032e-05],\n",
       "        [1.33744032e-01, 3.23316784e-05],\n",
       "        [1.59770244e-01, 3.25410308e-05],\n",
       "        [1.72973692e-01, 3.26479523e-05],\n",
       "        [1.99560481e-01, 3.28647257e-05],\n",
       "        [1.99087913e-01, 3.28608554e-05],\n",
       "        [2.11757828e-01, 3.29648401e-05],\n",
       "        [2.24409988e-01, 3.30691324e-05],\n",
       "        [2.24401016e-01, 3.30690583e-05],\n",
       "        [2.37718965e-01, 3.31793307e-05],\n",
       "        [2.37445453e-01, 3.31770610e-05],\n",
       "        [2.50850666e-01, 3.32885584e-05],\n",
       "        [2.50514196e-01, 3.32857535e-05],\n",
       "        [2.63761671e-01, 3.33964348e-05],\n",
       "        [2.76988616e-01, 3.35074521e-05],\n",
       "        [2.76446507e-01, 3.35028920e-05],\n",
       "        [2.89512554e-01, 3.36130390e-05],\n",
       "        [2.88947526e-01, 3.36082655e-05],\n",
       "        [3.02162073e-01, 3.37201518e-05],\n",
       "        [3.01680672e-01, 3.37160668e-05],\n",
       "        [3.14946808e-01, 3.38288893e-05],\n",
       "        [3.14513973e-01, 3.38252000e-05],\n",
       "        [3.27824801e-01, 3.39389105e-05],\n",
       "        [3.27355818e-01, 3.39348952e-05],\n",
       "        [3.40659381e-01, 3.40490535e-05],\n",
       "        [3.53990101e-01, 3.41639782e-05],\n",
       "        [3.53541754e-01, 3.41601043e-05],\n",
       "        [3.66903026e-01, 3.42758132e-05],\n",
       "        [3.66545241e-01, 3.42727077e-05],\n",
       "        [3.80021550e-01, 3.43899480e-05],\n",
       "        [3.79732194e-01, 3.43874249e-05],\n",
       "        [3.93309440e-01, 3.45060932e-05],\n",
       "        [4.06909105e-01, 3.46255265e-05],\n",
       "        [4.06665416e-01, 3.46233813e-05],\n",
       "        [4.20274334e-01, 3.47434592e-05],\n",
       "        [4.20046502e-01, 3.47414441e-05],\n",
       "        [4.33695080e-01, 3.48624422e-05],\n",
       "        [4.33462422e-01, 3.48603747e-05],\n",
       "        [4.47107830e-01, 3.49819189e-05],\n",
       "        [4.60733636e-01, 3.51038751e-05],\n",
       "        [4.60398615e-01, 3.51008695e-05],\n",
       "        [4.73941967e-01, 3.52226579e-05],\n",
       "        [4.73547708e-01, 3.52191043e-05],\n",
       "        [4.87090696e-01, 3.53414588e-05],\n",
       "        [5.00614698e-01, 3.54642307e-05],\n",
       "        [5.00238095e-01, 3.54608039e-05],\n",
       "        [5.13834415e-01, 3.55848127e-05],\n",
       "        [5.13485591e-01, 3.55816237e-05],\n",
       "        [5.27139146e-01, 3.57067451e-05],\n",
       "        [5.40865905e-01, 3.58331537e-05],\n",
       "        [5.40653969e-01, 3.58311973e-05],\n",
       "        [5.54418019e-01, 3.59585640e-05],\n",
       "        [5.54241613e-01, 3.59569277e-05],\n",
       "        [5.68051815e-01, 3.60853459e-05],\n",
       "        [5.67856254e-01, 3.60835230e-05],\n",
       "        [5.81642752e-01, 3.62123479e-05],\n",
       "        [5.95441685e-01, 3.63419295e-05],\n",
       "        [5.95220781e-01, 3.63398499e-05],\n",
       "        [6.08961101e-01, 3.64695117e-05],\n",
       "        [6.08697893e-01, 3.64670219e-05],\n",
       "        [6.22440331e-01, 3.65973352e-05],\n",
       "        [6.22118841e-01, 3.65942793e-05],\n",
       "        [6.35780840e-01, 3.67244571e-05],\n",
       "        [6.49430830e-01, 3.68551643e-05],\n",
       "        [6.49010573e-01, 3.68511304e-05],\n",
       "        [6.62548370e-01, 3.69813832e-05],\n",
       "        [6.62036273e-01, 3.69764445e-05],\n",
       "        [6.75535055e-01, 3.71069360e-05],\n",
       "        [6.74917879e-01, 3.71009559e-05],\n",
       "        [6.88297710e-01, 3.72309015e-05],\n",
       "        [7.01654023e-01, 3.73612511e-05],\n",
       "        [7.00905393e-01, 3.73539281e-05],\n",
       "        [7.14132263e-01, 3.74836058e-05],\n",
       "        [7.27346834e-01, 3.76137895e-05],\n",
       "        [7.26464305e-01, 3.76050756e-05],\n",
       "        [7.39552130e-01, 3.77345902e-05],\n",
       "        [7.38577107e-01, 3.77249202e-05],\n",
       "        [7.51627535e-01, 3.78546377e-05],\n",
       "        [7.50558331e-01, 3.78439868e-05],\n",
       "        [7.63493582e-01, 3.79731226e-05],\n",
       "        [7.76420913e-01, 3.81027936e-05],\n",
       "        [7.75245526e-01, 3.80909781e-05],\n",
       "        [7.88064266e-01, 3.82201139e-05],\n",
       "        [7.86812328e-01, 3.82074751e-05],\n",
       "        [7.99615053e-01, 3.83369996e-05],\n",
       "        [8.12332068e-01, 3.84662638e-05],\n",
       "        [8.10983446e-01, 3.84525267e-05],\n",
       "        [8.23678822e-01, 3.85821132e-05],\n",
       "        [8.22254252e-01, 3.85675418e-05],\n",
       "        [8.34863224e-01, 3.86967817e-05],\n",
       "        [8.47489602e-01, 3.88268062e-05],\n",
       "        [8.46021356e-01, 3.88116551e-05],\n",
       "        [8.58589580e-01, 3.89416159e-05],\n",
       "        [8.57095283e-01, 3.89261324e-05],\n",
       "        [8.69695312e-01, 3.90569596e-05],\n",
       "        [8.68169129e-01, 3.90410805e-05],\n",
       "        [8.80721238e-01, 3.91719467e-05],\n",
       "        [8.93287745e-01, 3.93035771e-05],\n",
       "        [8.91752277e-01, 3.92874604e-05],\n",
       "        [9.04286757e-01, 3.94192957e-05],\n",
       "        [9.16863134e-01, 3.95521931e-05],\n",
       "        [9.15365751e-01, 3.95363372e-05],\n",
       "        [9.27982626e-01, 3.96702171e-05],\n",
       "        [9.26621998e-01, 3.96557488e-05],\n",
       "        [9.39477414e-01, 3.97927421e-05],\n",
       "        [9.52383363e-01, 3.99309398e-05],\n",
       "        [9.51331784e-01, 3.99196544e-05],\n",
       "        [9.64449527e-01, 4.00607523e-05],\n",
       "        [9.63534922e-01, 4.00508920e-05],\n",
       "        [9.76772902e-01, 4.01939415e-05],\n",
       "        [9.90089938e-01, 4.03385668e-05],\n",
       "        [9.89360451e-01, 4.03306256e-05],\n",
       "        [1.00274545e+00, 4.04766828e-05],\n",
       "        [1.00208742e+00, 4.04694851e-05],\n",
       "        [1.01557178e+00, 4.06173386e-05],\n",
       "        [1.02904005e+00, 4.07657708e-05],\n",
       "        [1.02896605e+00, 4.07649531e-05],\n",
       "        [1.02882468e+00, 4.07633912e-05],\n",
       "        [1.04279774e+00, 4.09181770e-05],\n",
       "        [1.04264422e+00, 4.09164720e-05],\n",
       "        [1.04195210e+00, 4.09087862e-05],\n",
       "        [1.05543983e+00, 4.10589284e-05],\n",
       "        [1.05486043e+00, 4.10524629e-05],\n",
       "        [1.06840701e+00, 4.12040040e-05],\n",
       "        [1.08196177e+00, 4.13564213e-05],\n",
       "        [1.08141956e+00, 4.13503092e-05],\n",
       "        [1.09504900e+00, 4.15043313e-05],\n",
       "        [1.10868463e+00, 4.16592280e-05],\n",
       "        [1.10822759e+00, 4.16540230e-05],\n",
       "        [1.12194484e+00, 4.18106375e-05],\n",
       "        [1.12150832e+00, 4.18056410e-05],\n",
       "        [1.13523143e+00, 4.19631223e-05],\n",
       "        [1.14898929e+00, 4.21218377e-05],\n",
       "        [1.14860839e+00, 4.21174321e-05],\n",
       "        [1.16236871e+00, 4.22769950e-05],\n",
       "        [1.17617705e+00, 4.24379673e-05],\n",
       "        [1.17583751e+00, 4.24339988e-05],\n",
       "        [1.18963423e+00, 4.25956736e-05],\n",
       "        [1.18932266e+00, 4.25920130e-05],\n",
       "        [1.20318519e+00, 4.27553102e-05],\n",
       "        [1.20287890e+00, 4.27516926e-05],\n",
       "        [1.21673397e+00, 4.29157607e-05],\n",
       "        [1.23061986e+00, 4.30810808e-05],\n",
       "        [1.23036598e+00, 4.30780502e-05],\n",
       "        [1.24425162e+00, 4.32442455e-05],\n",
       "        [1.25817410e+00, 4.34117857e-05],\n",
       "        [1.25798588e+00, 4.34095147e-05],\n",
       "        [1.27191723e+00, 4.35780622e-05],\n",
       "        [1.27176633e+00, 4.35762317e-05],\n",
       "        [1.28576152e+00, 4.37464674e-05],\n",
       "        [1.28562344e+00, 4.37447832e-05],\n",
       "        [1.29962669e+00, 4.39160432e-05],\n",
       "        [1.31366221e+00, 4.40886436e-05],\n",
       "        [1.31357359e+00, 4.40875508e-05],\n",
       "        [1.32761174e+00, 4.42611315e-05],\n",
       "        [1.32755649e+00, 4.42604464e-05],\n",
       "        [1.34165954e+00, 4.44357934e-05],\n",
       "        [1.35574394e+00, 4.46118835e-05],\n",
       "        [1.35574094e+00, 4.46118459e-05],\n",
       "        [1.36989000e+00, 4.47897325e-05],\n",
       "        [1.36989878e+00, 4.47898432e-05],\n",
       "        [1.38407078e+00, 4.49690192e-05],\n",
       "        [1.39827617e+00, 4.51496294e-05],\n",
       "        [1.39834030e+00, 4.51504470e-05],\n",
       "        [1.41255894e+00, 4.53322527e-05],\n",
       "        [1.42682040e+00, 4.55156408e-05],\n",
       "        [1.42693972e+00, 4.55171796e-05],\n",
       "        [1.44120632e+00, 4.57016875e-05],\n",
       "        [1.44135996e+00, 4.57036802e-05],\n",
       "        [1.45569253e+00, 4.58901132e-05],\n",
       "        [1.47000463e+00, 4.60773485e-05],\n",
       "        [1.47021145e+00, 4.60800621e-05],\n",
       "        [1.48459195e+00, 4.62692916e-05],\n",
       "        [1.48481001e+00, 4.62721695e-05],\n",
       "        [1.49920476e+00, 4.64626994e-05],\n",
       "        [1.51363262e+00, 4.66547767e-05],\n",
       "        [1.51390193e+00, 4.66583727e-05],\n",
       "        [1.52833154e+00, 4.68516134e-05],\n",
       "        [1.54280487e+00, 4.70465726e-05],\n",
       "        [1.54312360e+00, 4.70508788e-05],\n",
       "        [1.55759145e+00, 4.72469323e-05],\n",
       "        [1.55793916e+00, 4.72516583e-05],\n",
       "        [1.57246693e+00, 4.74497105e-05],\n",
       "        [1.57282196e+00, 4.74545651e-05],\n",
       "        [1.58736021e+00, 4.76539606e-05],\n",
       "        [1.60192546e+00, 4.78549113e-05],\n",
       "        [1.60232077e+00, 4.78603818e-05],\n",
       "        [1.61687969e+00, 4.80624720e-05],\n",
       "        [1.63146985e+00, 4.82662034e-05],\n",
       "        [1.63188916e+00, 4.82720765e-05],\n",
       "        [1.64645540e+00, 4.84767242e-05],\n",
       "        [1.64688520e+00, 4.84827813e-05],\n",
       "        [1.66149228e+00, 4.86892685e-05],\n",
       "        [1.66190878e+00, 4.86951744e-05],\n",
       "        [1.67651051e+00, 4.89028620e-05],\n",
       "        [1.69112774e+00, 4.91120222e-05],\n",
       "        [1.69155717e+00, 4.91181860e-05],\n",
       "        [1.70615572e+00, 4.93283765e-05],\n",
       "        [1.72077862e+00, 4.95401907e-05],\n",
       "        [1.72121791e+00, 4.95465736e-05],\n",
       "        [1.73581219e+00, 4.97592923e-05],\n",
       "        [1.73625639e+00, 4.97657869e-05],\n",
       "        [1.75088743e+00, 4.99803754e-05],\n",
       "        [1.75131553e+00, 4.99866738e-05],\n",
       "        [1.76594050e+00, 5.02025177e-05],\n",
       "        [1.78057932e+00, 5.04198844e-05],\n",
       "        [1.78102308e+00, 5.04264943e-05],\n",
       "        [1.79564791e+00, 5.06450215e-05],\n",
       "        [1.81029728e+00, 5.08652566e-05],\n",
       "        [1.81075641e+00, 5.08721810e-05],\n",
       "        [1.82538265e+00, 5.10934611e-05],\n",
       "        [1.82584858e+00, 5.11005324e-05],\n",
       "        [1.84051117e+00, 5.13237713e-05],\n",
       "        [1.85513445e+00, 5.15477848e-05],\n",
       "        [1.85561053e+00, 5.15551011e-05],\n",
       "        [1.87027059e+00, 5.17811107e-05],\n",
       "        [1.87072462e+00, 5.17881326e-05],\n",
       "        [1.88536179e+00, 5.20152304e-05],\n",
       "        [1.90001477e+00, 5.22439837e-05],\n",
       "        [1.90045955e+00, 5.22509496e-05],\n",
       "        [1.91506689e+00, 5.24804497e-05],\n",
       "        [1.91549071e+00, 5.24871295e-05],\n",
       "        [1.93010159e+00, 5.27181531e-05],\n",
       "        [1.94465464e+00, 5.29496919e-05],\n",
       "        [1.94504522e+00, 5.29559257e-05],\n",
       "        [1.95958999e+00, 5.31888089e-05],\n",
       "        [1.95992624e+00, 5.31942099e-05],\n",
       "        [1.97441861e+00, 5.34277287e-05],\n",
       "        [1.98894533e+00, 5.36632566e-05],\n",
       "        [1.98922285e+00, 5.36677704e-05],\n",
       "        [2.00369440e+00, 5.39038928e-05],\n",
       "        [2.00395780e+00, 5.39082041e-05],\n",
       "        [2.01844438e+00, 5.41460713e-05],\n",
       "        [2.03286430e+00, 5.43843192e-05],\n",
       "        [2.03313180e+00, 5.43887527e-05],\n",
       "        [2.04760744e+00, 5.46294416e-05],\n",
       "        [2.04784799e+00, 5.46334540e-05],\n",
       "        [2.06230548e+00, 5.48753712e-05],\n",
       "        [2.07679943e+00, 5.51194208e-05],\n",
       "        [2.07706418e+00, 5.51238929e-05],\n",
       "        [2.09154718e+00, 5.53693215e-05],\n",
       "        [2.09184329e+00, 5.53743556e-05],\n",
       "        [2.10634803e+00, 5.56217353e-05],\n",
       "        [2.12083243e+00, 5.58703301e-05],\n",
       "        [2.12117224e+00, 5.58761812e-05],\n",
       "        [2.13571400e+00, 5.61273807e-05],\n",
       "        [2.13602906e+00, 5.61328408e-05],\n",
       "        [2.15057120e+00, 5.63856817e-05],\n",
       "        [2.16514060e+00, 5.66406145e-05],\n",
       "        [2.16549855e+00, 5.66468982e-05],\n",
       "        [2.18007792e+00, 5.69036806e-05],\n",
       "        [2.18043916e+00, 5.69100639e-05],\n",
       "        [2.19504773e+00, 5.71690559e-05],\n",
       "        [2.19542093e+00, 5.71756941e-05],\n",
       "        [2.21002671e+00, 5.74363494e-05],\n",
       "        [2.22464981e+00, 5.76990009e-05],\n",
       "        [2.22506716e+00, 5.77065221e-05],\n",
       "        [2.23967740e+00, 5.79706915e-05],\n",
       "        [2.25432791e+00, 5.82373105e-05],\n",
       "        [2.25477353e+00, 5.82454473e-05],\n",
       "        [2.26941081e+00, 5.85136146e-05],\n",
       "        [2.26986065e+00, 5.85218837e-05],\n",
       "        [2.28451869e+00, 5.87922396e-05],\n",
       "        [2.28495497e+00, 5.88003135e-05],\n",
       "        [2.29962240e+00, 5.90726684e-05],\n",
       "        [2.31430709e+00, 5.93471358e-05],\n",
       "        [2.31476463e+00, 5.93557165e-05],\n",
       "        [2.32944027e+00, 5.96318781e-05],\n",
       "        [2.34414158e+00, 5.99103500e-05],\n",
       "        [2.34463867e+00, 5.99197980e-05],\n",
       "        [2.35930334e+00, 6.01994760e-05],\n",
       "        [2.35981248e+00, 6.02092194e-05],\n",
       "        [2.37451233e+00, 6.04914915e-05],\n",
       "        [2.37499027e+00, 6.05007005e-05],\n",
       "        [2.38969694e+00, 6.07850437e-05],\n",
       "        [2.40442232e+00, 6.10716483e-05],\n",
       "        [2.40493522e+00, 6.10816654e-05],\n",
       "        [2.41962779e+00, 6.13696093e-05],\n",
       "        [2.42013294e+00, 6.13795433e-05],\n",
       "        [2.43486866e+00, 6.16703345e-05],\n",
       "        [2.43535608e+00, 6.16799863e-05],\n",
       "        [2.45008798e+00, 6.19727212e-05],\n",
       "        [2.46482969e+00, 6.22676248e-05],\n",
       "        [2.46535284e+00, 6.22781268e-05],\n",
       "        [2.48005599e+00, 6.25743141e-05],\n",
       "        [2.49481455e+00, 6.28736281e-05],\n",
       "        [2.49533029e+00, 6.28841244e-05],\n",
       "        [2.51005191e+00, 6.31847853e-05],\n",
       "        [2.51057422e+00, 6.31954899e-05],\n",
       "        [2.52531783e+00, 6.34987184e-05],\n",
       "        [2.52583034e+00, 6.35092959e-05]]),\n",
       " 'crack_cmode_interp': <scipy.interpolate.interpolate.interp1d at 0x7f157aec2f70>,\n",
       " 'crack_interp': <scipy.interpolate.interpolate.interp1d at 0x7f157aec2f18>,\n",
       " 'cracklength': 'crack-length_U820x.dat',\n",
       " 'force': array([[0.00e+00, 0.00e+00, 0.00e+00],\n",
       "        [1.00e-03, 3.49e-03, 1.14e+02],\n",
       "        [2.00e-03, 6.98e-03, 2.29e+02],\n",
       "        ...,\n",
       "        [4.98e-01, 1.98e+00, 5.83e+03],\n",
       "        [4.99e-01, 1.98e+00, 5.82e+03],\n",
       "        [5.00e-01, 1.99e+00, 5.81e+03]]),\n",
       " 'force_interp': <scipy.interpolate.interpolate.interp1d at 0x7f157aec2ec0>,\n",
       " 'forcedat': 'FORCE_CMOD_U820x.dat',\n",
       " 'reduce_crack': True}"
      ]
     },
     "execution_count": 5,
     "metadata": {},
     "output_type": "execute_result"
    }
   ],
   "source": [
    "#Вводим в оборот метод чтения данных и строим интерполяторы\n",
    "from scipy.interpolate import interp1d\n",
    "\n",
    "def __(self, *args):\n",
    "  #args[0] force_dat file name\n",
    "  #args[1] cracklength file name\n",
    "  #args[2] True|Empty: reduce of cracklength else: not reduce\n",
    "  \n",
    "  self.forcedat = args[0]\n",
    "  self.cracklength = args[1]\n",
    "  self.reduce_crack = True\n",
    "  if len(args)>2:\n",
    "    self.reduce_crack = args[2]\n",
    "\n",
    "  #загружаем \"forcedat file\" и формируем его интерполятор:\n",
    "  self.force = np.loadtxt(self.forcedat, dtype=np.float)\n",
    "  self.force_interp = interp1d(self.force[:,1],self.force[:,2], bounds_error=False)\n",
    "\n",
    "  #загружаем, редуцируем(если self.reduce_crack) и модифицируем \"cracklength file\":\n",
    "  crk=[]\n",
    "  for xx in np.loadtxt(self.cracklength, dtype=np.float):\n",
    "    if self.reduce_crack:\n",
    "      if xx[1]:\n",
    "        crk.append([xx[1], self._10(xx[1])])\n",
    "    else:\n",
    "      crk.append([xx[1], self._10(xx[1])])\n",
    "  self.crack=np.asarray(crk)\n",
    "\n",
    "  #интерполяторы редуцированного массива crack:\n",
    "  self.crack_interp = interp1d(self.crack[:,0],self.crack[:,1], bounds_error=False)\n",
    "  self.crack_cmode_interp = interp1d(self.crack[:,0], self.force[:,1][- len(self.crack): ], bounds_error=False)\n",
    "  #\n",
    "formulas_A2.read=__ #добавляем метод в Класс 'formulas_A2'\n",
    " \n",
    "# Юзаем метод для уже существующего Инстанса(экземпляра) 'A2'\n",
    "A2.read(\"FORCE_CMOD_U820x.dat\", \"crack-length_U820x.dat\", True)\n",
    "\n",
    "#;\n",
    "A2.show()"
   ]
  },
  {
   "cell_type": "markdown",
   "metadata": {},
   "source": [
    "# 1a: creation of the plot $\\vartriangle$ a vs. calculated compliance (Cc)"
   ]
  },
  {
   "cell_type": "code",
   "execution_count": 12,
   "metadata": {
    "code_folding": []
   },
   "outputs": [
    {
     "data": {
      "image/png": "[encoded data removed]",
      "text/plain": [
       "<Figure size 1296x792 with 1 Axes>"
      ]
     },
     "metadata": {
      "needs_background": "light"
     },
     "output_type": "display_data"
    }
   ],
   "source": [
    "# сплошная линия построена по данным МАССИВА A2.crack\n",
    "# контрольные точки построены через функцию-интерполятор массива (A2.crack_interp)\n",
    "%matplotlib inline\n",
    "\n",
    "plt.rcParams[\"figure.figsize\"]=[18, 11]\n",
    "plt.plot(A2.crack[:,0],A2.crack[:,1])\n",
    "plt.xlabel('DELTA_A, mm')\n",
    "plt.ylabel('Cc, mm/N    (A2.11)')\n",
    "for _ in np.linspace(A2.crack[:,0][0], A2.crack[:,0][-1], num=40):\n",
    "  plt.plot(_, A2.crack_interp(_), 'rD')\n",
    "plt.grid()\n",
    "plt.show()"
   ]
  },
  {
   "cell_type": "markdown",
   "metadata": {},
   "source": [
    "# 1b: creation of the plot F vs. CMOD from Code_Aster simulation"
   ]
  },
  {
   "cell_type": "code",
   "execution_count": null,
   "metadata": {
    "code_folding": []
   },
   "outputs": [],
   "source": [
    "# сплошная линия построена по данным МАССИВА A2.force[]\n",
    "# контрольные точки построены через функцию-интерполятор массива \"A2.force_interp()\"\n",
    "plt.plot(A2.force[:,1], A2.force[:,2])\n",
    "plt.xlabel('CMOD, mm')\n",
    "plt.ylabel('FORCE, N')\n",
    "\n",
    "for _ in np.linspace(A2.force[:,1][0], A2.force[:,1][-1], num=40):\n",
    "  plt.plot(_, A2.force_interp(_), 'rx') # second point\n",
    "plt.grid()\n",
    "plt.show()"
   ]
  },
  {
   "cell_type": "markdown",
   "metadata": {},
   "source": [
    "# 1c: creation of the plot CMOD vs. $\\vartriangle$ a "
   ]
  },
  {
   "cell_type": "code",
   "execution_count": null,
   "metadata": {
    "code_folding": []
   },
   "outputs": [],
   "source": [
    "##TEST\n",
    "plt.plot(A2.crack[:,0], A2.force[:,1][-len(A2.crack) : ])\n",
    "\n",
    "sht = pd.read_excel(pd.ExcelFile('1757-A52.xls'),'J, Delta a(p)')\n",
    "xlsm_ = np.transpose(np.asarray((sht.iloc[5:-1,3].values.astype(float), sht.iloc[5:-1,5].values.astype(float))))\n",
    "plt.plot(xlsm_[:,0], xlsm_[:,1], 'rP')\n",
    "\n",
    "plt.xlabel('DELTA_A, mm')\n",
    "plt.ylabel('CMOD, mm')\n",
    "for _ in np.linspace(A2.crack[:,0][0], A2.crack[:,0][-1], num=40):\n",
    "  plt.plot(_, A2.crack_cmode_interp(_), 'mv') # second point\n",
    "\n",
    "plt.grid()\n",
    "plt.show()\n",
    "xlsm_"
   ]
  },
  {
   "cell_type": "markdown",
   "metadata": {},
   "source": [
    "# 1d: creation of the intersection of the calculated compliance (Cc) with Force-CMOD curve and calculation of the Apl"
   ]
  },
  {
   "cell_type": "code",
   "execution_count": null,
   "metadata": {
    "code_folding": []
   },
   "outputs": [],
   "source": [
    "def __(self, delta):\n",
    "  self.delta=delta\n",
    "  cc_ = 1./self.crack_interp(delta).item()\n",
    "  cmode_ = self.crack_cmode_interp(self.delta).item()\n",
    "  self.cc_ = cc_\n",
    "  self.cmode_ = cmode_\n",
    "  \n",
    "  y1_ = self.force_interp(cmode_).item()\n",
    "  self.P = y1_\n",
    "  x1_ = cmode_ - self.P / cc_\n",
    "  \n",
    "  self.apl= quad(self.force_interp, self.force[:,1][0], cmode_)[0] \\\n",
    "    - self.P * (cmode_ - x1_) * 0.5\n",
    "\n",
    "\n",
    "  return (x1_, 0.0), (cmode_, y1_)\n",
    "    #\n",
    "formulas_A2.Apl=__  # добавляем метод 'Apl' в class 'formulas_A2'\n",
    "\n",
    "# юзаем метод 'Apl' в объекте 'A2' (test)\n",
    "print \"Нижняя точка: %r; Верхняя точка: %r; \" % A2.Apl(2.52)\n",
    "print \"Площадь(A2.apl)=%r\" % A2.apl "
   ]
  },
  {
   "cell_type": "code",
   "execution_count": null,
   "metadata": {
    "code_folding": []
   },
   "outputs": [],
   "source": [
    "plt.plot(A2.force[:,1], A2.force[:,2])\n",
    "A_= A2.Apl(0.8)\n",
    "\n",
    "plt.plot(A_[0][0],  A_[0][1],'ro') # Нижняя точка\n",
    "plt.plot(A_[1][0],  A_[1][1],'ro') # Верхняя точка\n",
    "plt.plot([A_[0][0], A_[1][0]], [0.0, A_[1][1]], 'ro--')\n",
    "\n",
    "\n",
    "plt.fill_between(A2.force[:,1], A2.force[:,2], 0.0 ,\\\n",
    "                 where=(A2.force[:,1] <= A_[1][0]), \\\n",
    "                 color='grey', alpha='0.5', hatch=\"/\")\n",
    "plt.fill_between(A2.force[:,1], A2.cc_*(A2.force[:,1]-A_[0][0]), 0.0 ,\\\n",
    "                 where=(A2.force[:,1] > A_[0][0]) & (A2.force[:,1] < A_[1][0]), \\\n",
    "                 color='white', alpha='1.5', hatch=\"\\\\\")\n",
    "\n",
    "plt.xlabel('CMOD, mm')\n",
    "plt.ylabel('FORCE, N')\n",
    "plt.grid()\n",
    "plt.rcParams[\"figure.figsize\"]=[18, 11]\n",
    "plt.show()\n",
    "\n",
    "print \"A2.delta=%r\" % A2.delta\n",
    "print \"Нижняя точка: %r; Верхняя точка: %r; \" % A_\n",
    "print \"Площадь:\", quad(A2.force_interp, A2.force[:,1][0], A2.cmode_)[0],\"-\",A2.P * (A2.cmode_ - A_[0][0]) * 0.5,\"=\",A2.apl "
   ]
  },
  {
   "cell_type": "markdown",
   "metadata": {},
   "source": [
    "# 1e: extraction from the experimental file the LOAD-CMOD curve"
   ]
  },
  {
   "cell_type": "code",
   "execution_count": null,
   "metadata": {},
   "outputs": [],
   "source": [
    "sht=pd.read_excel(pd.ExcelFile('1757-A52.xls'),'Channels by Ste')\n",
    "sht.iloc[2:,2].values, sht.iloc[2:,1].values"
   ]
  },
  {
   "cell_type": "code",
   "execution_count": null,
   "metadata": {},
   "outputs": [],
   "source": [
    "sht=pd.read_excel(pd.ExcelFile('1757-A52.xls'),'Channels by Ste')\n",
    "xlsm_ = np.transpose(np.asarray((sht.iloc[2:,2].values,sht.iloc[2:,1].values)))\n",
    "\n",
    "xlsm_,  xlsm_[:,0], xlsm_[:,1]"
   ]
  },
  {
   "cell_type": "markdown",
   "metadata": {},
   "source": [
    "# 1f: creation of the plot FORCE vs CMOD for experiment and simulation"
   ]
  },
  {
   "cell_type": "code",
   "execution_count": null,
   "metadata": {
    "code_folding": []
   },
   "outputs": [],
   "source": [
    "plt.plot(A2.force[:,1], A2.force[:,2])\n",
    "A_= A2.Apl(2.52)\n",
    "\n",
    "plt.plot(A_[0][0],  A_[0][1],'ro') # Нижняя точка\n",
    "plt.plot(A_[1][0],  A_[1][1],'ro') # Верхняя точка\n",
    "plt.plot([A_[0][0], A_[1][0]], [0.0, A_[1][1]], 'ro--')\n",
    "\n",
    "plt.plot( xlsm_[:,0], xlsm_[:,1])\n",
    "\n",
    "plt.xlabel('CMOD, mm')\n",
    "plt.ylabel('FORCE, N')\n",
    "plt.grid()\n",
    "plt.rcParams[\"figure.figsize\"]=[18, 11]\n",
    "plt.show()\n",
    "A_"
   ]
  },
  {
   "cell_type": "markdown",
   "metadata": {},
   "source": [
    "# 2a: Calculation of the Jpl according to the ASTM1820 (basic method)"
   ]
  },
  {
   "cell_type": "markdown",
   "metadata": {},
   "source": [
    "$$\n",
    "J_{pl(i)}= \n",
    "\\frac{\\eta_{pl} A_{pl}}{B_N b_0}\n",
    "\\qquad(A2.6) \n",
    "\\\\\n",
    "\\boldsymbol{where:} \\\\\n",
    "\\eta_{pl}=2+0.522\\frac{b_{0}}{W}\\\\\n",
    "A_{pl} \\Longrightarrow 1d \\\\\n",
    "b_0=W-a_0 \\\\\n",
    "\\\\\n",
    "\\\\\n",
    "a_0=15.2 +\\vartriangle a \\\\\n",
    "B = 12.5 \\;mm \\\\\n",
    "B_N = 0.8 \\cdot\\;B \\\\\n",
    "W = 25\\;mm \\\\\n",
    "$$ "
   ]
  },
  {
   "cell_type": "markdown",
   "metadata": {},
   "source": [
    "# 2a bis: Correction of Jpl for the crack propagation "
   ]
  },
  {
   "cell_type": "markdown",
   "metadata": {},
   "source": [
    "$$\n",
    "coef= \\left[\n",
    "1-\\frac{(0.75\\eta_{pl}-1)\\vartriangle a}{W-a_0} \\right] \\\\\n",
    "\\\\\n",
    "J_{pl(GFR)}= J_{pl(i)}*coeff\n",
    "$$ "
   ]
  },
  {
   "cell_type": "code",
   "execution_count": null,
   "metadata": {},
   "outputs": [],
   "source": [
    "def __(self, *args): #(A2.6)\n",
    "    if len(args):\n",
    "      self.a0 = args[0]\n",
    "      \n",
    "    b_0 = self.W - self.a0\n",
    "    \n",
    "    nu_ = (2.+0.522*b_0/self.W)\n",
    "    self.jpl = nu_*self.apl/(self.BN*b_0)\n",
    "    \n",
    "    coe_ = 1. - ((0.75*nu_ - 1.)*self.delta)/(self.W - self.a0)\n",
    "    self.jplcor = self.jpl * coe_\n",
    "    #\n",
    "formulas_A2.Jpl = __   # добавляем метод в class 'formulas_A2'\n",
    "A2.Jpl(15.2)           # юзаем метод в объекте 'A2' (test)\n",
    "\"A2.jpl=%r, A2.jplcor=%r\" % (A2.jpl, A2.jplcor)"
   ]
  },
  {
   "cell_type": "markdown",
   "metadata": {},
   "source": [
    "# 2b: Calculation of the Jpl according to the ASTM1820 (incremental version)"
   ]
  },
  {
   "cell_type": "markdown",
   "metadata": {},
   "source": [
    "$$\n",
    "J_{pl(i)}= \\left[\n",
    "J_{pl(i-1)}+\n",
    "\\left(\n",
    "\\frac{\\eta_{pl(i-1)}}\n",
    "{b_{(i-1)}}\n",
    "\\right)\n",
    "{\\frac {A_{pl(i)}-A_{pl(i-1)}}{B_N}}\n",
    "\\right]\n",
    "\\left[\n",
    "1-\\gamma_{(i-1)} \n",
    "\\left(\n",
    "\\frac{a_{(i)}-a_{(i-1)}}{b_{(i-1)}}\n",
    "\\right)\n",
    "\\right] \\qquad(A2.8) \n",
    "\\\\\n",
    "\\boldsymbol{where:} \\\\\n",
    "\\eta_{pl(i-1)}=2+0.522\\frac{b_{(i-1)}}{W}\n",
    "\\\\\n",
    "\\gamma_{(i-1)}=1.0+0.76\\frac{b_{(i-1)}}{W}\n",
    "A_{pl} \\Longrightarrow 1d \\\\\n",
    "b_{(i-1)}=W-a_{(i-1)} \\\\\n",
    "$$\n",
    "\n",
    "$$\n",
    "B = 12.5 \\;mm \\\\\n",
    "B_N = 0.8 \\cdot\\;B \\\\\n",
    "W = 25\\;mm \\\\\n",
    "a_i=15.2 +\\vartriangle a\n",
    "$$ "
   ]
  },
  {
   "cell_type": "markdown",
   "metadata": {},
   "source": [
    "# 3: Calculation of the Jel according to the ASTM1820\n"
   ]
  },
  {
   "cell_type": "markdown",
   "metadata": {},
   "source": [
    "$$\n",
    "J_{el}= {\\frac {K^2 (1-\\nu^2)}{E}} \\qquad(A2.4)\n",
    "\\\\\n",
    "\\boldsymbol{where:} \\\\\n",
    "\\\\\n",
    "K_i= {\\frac {P_i}{(B B_N W)^{1/2}}}f \\left(\\frac {a_i}W\\right) \\qquad(A2.2) \n",
    "\\\\\n",
    "f\\left(\\frac {a_i}W\\right) = \\frac {\\left(2+\\frac {a_i}W \\right)\n",
    "\\left[0.886 + 4.64 \\left(\\frac {a_i}W \\right)-13.32\\left(\\frac {a_i}W \\right)^2 + 14.72\\left(\\frac {a_i}W \\right)^3-5.6\\left(\\frac {a_i}W \\right)^4\n",
    "\\right]\n",
    "}{\\left(1-\\frac {a_i}W \\right)^{3/2}} \\qquad(A2.3) \\\\\n",
    "E=195 000 MPa\n",
    "$$ \n"
   ]
  },
  {
   "cell_type": "code",
   "execution_count": null,
   "metadata": {},
   "outputs": [],
   "source": [
    "def __(self):\n",
    "  self.nu = 0.3\n",
    "#  ai_w=(self.delta+15.2)/self.W\n",
    "  ai_w=0.6\n",
    "  fi= ((2.0+ai_w)*(0.886 + 4.64*ai_w - 13.32*ai_w**2 + 14.72*ai_w**3 - 5.6*ai_w**4)) / (1-ai_w)**1.5\n",
    "  Ki=  (self.P * fi) /(self.BN*self.BN*self.W)**0.5\n",
    "  self.jel= Ki*Ki*(1-self.nu**2)/self.E\n",
    "  \n",
    "formulas_A2.Jel = __\n",
    "\n",
    "\n",
    "A2.Jel()\n",
    "A2.jel "
   ]
  },
  {
   "cell_type": "markdown",
   "metadata": {},
   "source": [
    "# 4: Calculation of the total energy J"
   ]
  },
  {
   "cell_type": "markdown",
   "metadata": {},
   "source": [
    "$$\n",
    "J_{total} = J_{pl}+J_{el}\n",
    "\\qquad(A2.5)\n",
    "$$\n"
   ]
  },
  {
   "cell_type": "code",
   "execution_count": null,
   "metadata": {},
   "outputs": [],
   "source": [
    "def __(self):\n",
    "  self.total = self.jpl + self.jel\n",
    "  self.totalcor = self.jplcor + self.jel\n",
    "formulas_A2.Jtotal = __\n",
    "\n",
    "A2.Jtotal()\n",
    "print \"A2.jpl, A2.jplcor, A2.jel, A2.total, A2.totalcor:\"\n",
    "print A2.jpl, A2.jplcor, A2.jel, A2.total, A2.totalcor"
   ]
  },
  {
   "cell_type": "code",
   "execution_count": null,
   "metadata": {},
   "outputs": [],
   "source": [
    "def __(self, *args):    \n",
    "  if len(args)==0: # last time\n",
    "    self.JR=np.asarray(self.JR)\n",
    "    return     \n",
    "  if (args[0])==None: # first time \n",
    "    self.JR= []\n",
    "    return\n",
    "  # next time\n",
    "  self.Apl(args[0])\n",
    "  self.Jpl()\n",
    "  self.Jel()\n",
    "  self.Jtotal()        \n",
    "  self.JR.append([self.delta, self.total, self.totalcor])\n",
    "  #\n",
    "formulas_A2.makeJTotal = __\n",
    "A2.makeJTotal(None)"
   ]
  },
  {
   "cell_type": "code",
   "execution_count": null,
   "metadata": {},
   "outputs": [],
   "source": [
    "sht=pd.read_excel(pd.ExcelFile('1757-A52.xls'),'GFR')\n",
    "xlsm_ = np.transpose(np.asarray((sht.iloc[2:,2].values,sht.iloc[2:,3].values)))\n",
    "\n",
    "xlsm_"
   ]
  },
  {
   "cell_type": "code",
   "execution_count": null,
   "metadata": {},
   "outputs": [],
   "source": [
    "##TEST\n",
    "A2.makeJTotal(None)# init\n",
    "for _ in [0.2, 0.3, 0.4, 0.5, 0.6, 0.7, 0.8, 0.9, 1.0, 1.1, 1.2]:\n",
    "  try:\n",
    "    A2.makeJTotal(_) #continue\n",
    "  except:\n",
    "    continue\n",
    "A2.makeJTotal()#end\n",
    "\n",
    "A2.JR"
   ]
  },
  {
   "cell_type": "code",
   "execution_count": null,
   "metadata": {},
   "outputs": [],
   "source": [
    "#A2.makeJTotal(None)\n",
    "_sheet =[]\n",
    "for _ in xlsm_:\n",
    "  if _[0]<A2.crack[:,0][0]:\n",
    "    continue\n",
    "  if _[0]>A2.crack[:,0][-1]:\n",
    "    break\n",
    "  try:\n",
    "    #A2.makeJTotal(_[0])\n",
    "    _sheet.append([_[0],_[1]])\n",
    "    print _\n",
    "  except:\n",
    "    continue\n",
    "#A2.makeJTotal()\n",
    "_sheet = np.asarray(_sheet)\n",
    "A2.JR"
   ]
  },
  {
   "cell_type": "code",
   "execution_count": null,
   "metadata": {
    "code_folding": []
   },
   "outputs": [],
   "source": [
    "#EXCLUSION LINE BUILDING:\n",
    "A2.JRtrend0= np.poly1d(np.polyfit(A2.JR[:,0], A2.JR[:,1], 2)) # исходный тренд\n",
    "A2.JRtrend0cor= np.poly1d(np.polyfit(A2.JR[:,0], A2.JR[:,2], 2)) # исходный тренд с коррекцией\n",
    "\n",
    "class rootexline:\n",
    "  def __init__(self,k,trend):\n",
    "    self.k = k\n",
    "    self.trend = trend\n",
    "  def value(self,x1,x):\n",
    "    return self.k*(x-x1)\n",
    "  def calc(self,x1):\n",
    "    xx1 = fsolve(lambda x:self.trend(x) - self.value(x1,x), x1)\n",
    "    return xx1[0],self.value(x1,xx1[0])\n",
    "  #\n",
    "\n",
    "root0 = rootexline(1101, A2.JRtrend0)\n",
    "roots0=root0.calc(0.15), root0.calc(1.5)\n",
    "JR0=A2.JR[(A2.JR[:,0] > roots0[0][0])]\n",
    "JR1=JR0[JR0[:,0]<roots0[1][0]]\n",
    "\n",
    "\n",
    "A2.JRtrend1= np.poly1d(np.polyfit(JR1[:,0], JR1[:,1], 2)) # урезанный тренд\n",
    "A2.JRtrend1cor= np.poly1d(np.polyfit(JR1[:,0], JR1[:,2], 2)) # урезанный тренд\n",
    "\n",
    "root1=rootexline(1101,A2.JRtrend1)\n",
    "roots1=root1.calc(0.2)\n",
    "\n",
    "root1cor=rootexline(1101,A2.JRtrend1cor)\n",
    "roots1=root1cor.calc(0.2)\n",
    "\n",
    "print roots0\n",
    "print JR1\n",
    "print roots1"
   ]
  },
  {
   "cell_type": "code",
   "execution_count": null,
   "metadata": {
    "scrolled": false
   },
   "outputs": [],
   "source": [
    "plt.plot(_sheet[:,0], _sheet[:,1], 'ro')\n",
    "plt.plot(A2.JR[:,0], A2.JR[:,1], 'bo')\n",
    "plt.plot(JR1[:,0], A2.JRtrend1(JR1[:,0]), 'r--',)\n",
    "plt.plot(JR1[:,0], A2.JRtrend1cor(JR1[:,0]), 'd-.',)\n",
    "\n",
    "root0=rootexline(1101,A2.JRtrend0)\n",
    "xy1=root0.calc(0.15)\n",
    "plt.plot([0.15,xy1[0]], [0.0, xy1[1]], 'm-')\n",
    "xy2=root0.calc(1.5)\n",
    "plt.plot([1.5,xy2[0]], [0.0, xy2[1]], 'm-')\n",
    "\n",
    "root1=rootexline(1101,A2.JRtrend1cor)\n",
    "xy1=root1.calc(0.2)\n",
    "plt.plot([0.2, xy1[0]], [0.0, xy1[1]], 'g-')\n",
    "\n",
    "bb_=dict(boxstyle=\"round4,pad=.5\", fc=\"0.9\")\n",
    "\n",
    "plt.annotate((\"%f\\n%f\" % xy1), xy=xy1, xytext=(0.2, xy1[1]+50.), \\\n",
    "             arrowprops=dict(arrowstyle=\"->\"), bbox=bb_)\n",
    "plt.annotate((\"%f\\n%f\" % xy2), xy=xy2, xytext=(1.5, xy2[1]-10.), \\\n",
    "             arrowprops=dict(arrowstyle=\"->\"), bbox=bb_)\n",
    "\n",
    "xy2 = [fsolve(lambda x:A2.JRtrend1(x) - 1101*(x-0.2), 0.2)[0],None]\n",
    "xy2[1] = 1101*(xy2[0]-0.2)\n",
    "\n",
    "plt.plot(xy2[0],xy2[1], 'gX')\n",
    "\n",
    "\n",
    "plt.annotate((\"%f\\n%f\" % tuple(xy2)), xy=xy2, xytext=(xy2[0], xy2[1]-50.), \\\n",
    "             arrowprops=dict(arrowstyle=\"->\"), bbox=bb_)\n",
    "\n",
    "plt.grid()\n",
    "plt.rcParams[\"figure.figsize\"]=[14, 9.]\n",
    "\n",
    "\n",
    "plt.legend(('EXPERIMENTAL POINTS','SIMULATION POINTS', 'A2.JRtrend1(JR1[:,0])', \\\n",
    "            'A2.JRtrend1cor(JR1[:,0])',  \\\n",
    "            '$EXCLUSION \\quad LINE \\quad LEFT = 1101 \\cdot\\; (x-0.15)$', \\\n",
    "            '$EXCLUSION \\quad LINE \\quad RIGHT = 1101 \\cdot\\; (x-1.5)$', \\\n",
    "            '$OFFSET \\quad LINE = 1101\\cdot\\;(x-0.2)$'))\n",
    "\n",
    "plt.show()\n",
    "A2.xy1 = xy1\n",
    "A2.xy2 = tuple(xy2)\n",
    "A2.xy1,A2.xy2"
   ]
  },
  {
   "cell_type": "markdown",
   "metadata": {},
   "source": [
    "### Сохранить результат в файле ASTM1820.log"
   ]
  },
  {
   "cell_type": "code",
   "execution_count": null,
   "metadata": {},
   "outputs": [],
   "source": [
    "#Сохранить результат в файле ASTM1820.log\n",
    "!echo {A2.forcedat} {A2.cracklength} {A2.xy1[0]} {A2.xy1[1]} {A2.xy2[0]} {A2.xy2[1]} >> ASTM1820.log\n",
    "!cat ASTM1820.log"
   ]
  },
  {
   "cell_type": "markdown",
   "metadata": {},
   "source": [
    "   # 5: Creation of the J-R curve"
   ]
  },
  {
   "cell_type": "markdown",
   "metadata": {},
   "source": [
    "Угол наклона Exclusion line: y=1140*x"
   ]
  },
  {
   "cell_type": "markdown",
   "metadata": {},
   "source": [
    "<img src=\"J_R_curve.png\" height=\"420\" width=\"620\"  />"
   ]
  },
  {
   "cell_type": "markdown",
   "metadata": {},
   "source": [
    "on the J-R curve we plot:\n",
    "\n",
    "y: $$J_{total}$$\n",
    "x: $$ \\vartriangle a $$"
   ]
  },
  {
   "cell_type": "markdown",
   "metadata": {},
   "source": [
    "---\n",
    "## Очистить файл ASTM1820.log"
   ]
  },
  {
   "cell_type": "code",
   "execution_count": null,
   "metadata": {},
   "outputs": [],
   "source": [
    "#Очистить файл ASTM1820.log\n",
    "!echo \"\"\n",
    "!echo 'FORCE_CMOD_*.dat | crack-length_*.dat | x1 | y1 | x2 | y2' >  ASTM1820.log\n",
    "!!echo $x{0..62}\"=\" >> ASTM1820.log\n",
    "!cat ASTM1820.log"
   ]
  }
 ],
 "metadata": {
  "kernelspec": {
   "display_name": "Python 2",
   "language": "python",
   "name": "python2"
  },
  "language_info": {
   "codemirror_mode": {
    "name": "ipython",
    "version": 2
   },
   "file_extension": ".py",
   "mimetype": "text/x-python",
   "name": "python",
   "nbconvert_exporter": "python",
   "pygments_lexer": "ipython2",
   "version": "2.7.15"
  },
  "varInspector": {
   "cols": {
    "lenName": 16,
    "lenType": 16,
    "lenVar": 40
   },
   "kernels_config": {
    "python": {
     "delete_cmd_postfix": "",
     "delete_cmd_prefix": "del ",
     "library": "var_list.py",
     "varRefreshCmd": "print(var_dic_list())"
    },
    "r": {
     "delete_cmd_postfix": ") ",
     "delete_cmd_prefix": "rm(",
     "library": "var_list.r",
     "varRefreshCmd": "cat(var_dic_list()) "
    }
   },
   "types_to_exclude": [
    "module",
    "function",
    "builtin_function_or_method",
    "instance",
    "_Feature"
   ],
   "window_display": true
  }
 },
 "nbformat": 4,
 "nbformat_minor": 2
}
