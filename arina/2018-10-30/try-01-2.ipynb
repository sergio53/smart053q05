{
 "cells": [
  {
   "cell_type": "markdown",
   "metadata": {},
   "source": [
    "<img src=\"photo_2018-10-31_16-04-39.jpg\" height=\"420\" width=\"420\"  />"
   ]
  },
  {
   "cell_type": "markdown",
   "metadata": {},
   "source": [
    "$$\n",
    "C_{LL(i)}= {\\frac 1{E\\cdot B_e}}\\left(\\frac {W+a_i}{W-a_i}\\right)^2\n",
    "\\left[\n",
    "2.1630+12.219\\left(\\frac {a_i}W\\right)\n",
    "-20.065\\left(\\frac {a_i}W\\right)^2\n",
    "-0.9925\\left(\\frac {a_i}W\\right)^3\n",
    "+20.609\\left(\\frac {a_i}W\\right)^4\n",
    "-9.9314\\left(\\frac {a_i}W\\right)^5\n",
    "\\right]\n",
    "\\qquad(A2.10) \n",
    "\\\\\n",
    "\\\\\n",
    "\\boldsymbol{where:} \\\\\n",
    "B_e \\equiv B-\\frac{(B-B_N)^2}B \\;mm\n",
    "\\qquad\\qquad\\qquad\\qquad\\qquad\\qquad(A2.11)\n",
    "\\\\\n",
    "\\\\\n",
    "$$\n",
    "___\n",
    "$$\n",
    "B \\equiv\\; 20 \\;mm \\\\\n",
    "B_N\\equiv 0.2 \\cdot \\;B \\\\\n",
    "E \\equiv 190 000 \\;MPa = 190 000 \\;\\frac N {{mm}^2} \\\\\n",
    "W \\equiv 40\\;mm \\\\\n",
    "$$"
   ]
  },
  {
   "cell_type": "code",
   "execution_count": null,
   "metadata": {
    "code_folding": []
   },
   "outputs": [],
   "source": [
    "class formula_A2_11:\n",
    "    B= 20.\n",
    "    BN= 0.2*B\n",
    "    Be= B - (B-BN)**2/B\n",
    "    E= 190000.\n",
    "    W= 40.\n",
    "    def Cc(self,ai):\n",
    "        ai_w=ai/self.W\n",
    "        return (2.1630 + 12.219*ai_w - 20.065*ai_w**2 - 0.9925*ai_w**3 + 20.609*ai_w**4 - 9.9314*ai_w**5) * \\\n",
    "            ( (self.W+ai)/(self.W-ai) )**2./(self.E*self.Be)\n",
    "#\n",
    "\n",
    "formula_A2_11().Cc(0.151550581328749)"
   ]
  },
  {
   "cell_type": "code",
   "execution_count": null,
   "metadata": {},
   "outputs": [],
   "source": [
    "import numpy as np\n",
    "from scipy.interpolate import interp1d\n",
    "import matplotlib.pyplot as plt\n",
    "%matplotlib inline\n",
    "plt.rcParams[\"figure.figsize\"]=[18, 11]"
   ]
  },
  {
   "cell_type": "code",
   "execution_count": null,
   "metadata": {},
   "outputs": [],
   "source": [
    "crack = np.loadtxt(\"crack-length_calc1.dat\", dtype=np.float)"
   ]
  },
  {
   "cell_type": "code",
   "execution_count": null,
   "metadata": {
    "code_folding": []
   },
   "outputs": [],
   "source": [
    "#crk=[crack[1], A2.11(crack[1]+24.)]\n",
    "\n",
    "A2_11=formula_A2_11()\n",
    "crk=[]\n",
    "for xx in crack:\n",
    "    if xx[1]:\n",
    "        crk.append([xx[1], A2_11.Cc(xx[1]+24.)])\n",
    "crkk=np.asarray(crk)\n",
    "\n",
    "#crkk_interp интерполятор массива crkk\n",
    "crkk_interp = interp1d(crkk[:,0],crkk[:,1], bounds_error=False)\n",
    "crkk_interp(crkk[:,0][0]).item(), crkk_interp(crkk[:,0][-1]).item(), crkk[:,0].size"
   ]
  },
  {
   "cell_type": "code",
   "execution_count": null,
   "metadata": {
    "code_folding": [],
    "scrolled": false
   },
   "outputs": [],
   "source": [
    "##TEST\n",
    "plt.rcParams[\"figure.figsize\"]=[18, 11]\n",
    "plt.plot(crkk[:,0],crkk[:,1])\n",
    "plt.xlabel('DELTA_A, mm')\n",
    "plt.ylabel('Cc, mm/N    (A2.11)')\n",
    "plt.grid()\n",
    "plt.show()"
   ]
  },
  {
   "cell_type": "code",
   "execution_count": null,
   "metadata": {
    "code_folding": [],
    "scrolled": true
   },
   "outputs": [],
   "source": [
    "##TEST\n",
    "print (\"Min\",\"Max\",\"Size\",\"Step\")\n",
    "print (crkk[:,0][0], crkk[:,0][-1], crkk[:,0].size, (crkk[:,0][-1]- crkk[:,0][0])/crkk[:,0].size)\n",
    "print\n",
    "test__X = np.arange(crkk[:,0][0], crkk[:,0][-1], (crkk[:,0][-1]- crkk[:,0][0])/crkk[:,0].size)\n",
    "for _ in test__X:\n",
    "    print [_, crkk_interp(_).item()]"
   ]
  },
  {
   "cell_type": "code",
   "execution_count": 5,
   "metadata": {},
   "outputs": [
    {
     "data": {
      "text/plain": [
       "array([[0.00000e+00, 0.00000e+00, 0.00000e+00],\n",
       "       [1.00000e-03, 1.73770e-03, 1.16225e+01],\n",
       "       [2.00000e-03, 3.47545e-03, 2.32385e+01],\n",
       "       ...,\n",
       "       [9.98000e-01, 1.97705e+00, 1.57314e+03],\n",
       "       [9.99000e-01, 1.97910e+00, 1.57241e+03],\n",
       "       [1.00000e+00, 1.98115e+00, 1.57164e+03]])"
      ]
     },
     "execution_count": 5,
     "metadata": {},
     "output_type": "execute_result"
    }
   ],
   "source": [
    "force = np.loadtxt(\"FORCE_CMOD_calc1.dat\", dtype=np.float)\n",
    "force"
   ]
  },
  {
   "cell_type": "code",
   "execution_count": 6,
   "metadata": {},
   "outputs": [
    {
     "data": {
      "text/plain": [
       "array([[0.00000e+00, 0.00000e+00, 0.00000e+00],\n",
       "       [1.00000e-03, 3.47540e-03, 2.32450e+01],\n",
       "       [2.00000e-03, 6.95090e-03, 4.64770e+01],\n",
       "       ...,\n",
       "       [9.98000e-01, 3.95410e+00, 3.14628e+03],\n",
       "       [9.99000e-01, 3.95820e+00, 3.14482e+03],\n",
       "       [1.00000e+00, 3.96230e+00, 3.14328e+03]])"
      ]
     },
     "execution_count": 6,
     "metadata": {},
     "output_type": "execute_result"
    }
   ],
   "source": [
    "force[:,1]*=2.0\n",
    "force[:,2]*=2.0\n",
    "force"
   ]
  },
  {
   "cell_type": "code",
   "execution_count": 8,
   "metadata": {},
   "outputs": [
    {
     "data": {
      "text/plain": [
       "<scipy.interpolate.interpolate.interp1d at 0x7f6ca2a19158>"
      ]
     },
     "execution_count": 8,
     "metadata": {},
     "output_type": "execute_result"
    }
   ],
   "source": [
    "#force_interp интерполятор массива force\n",
    "force_interp = interp1d(force[:,1],force[:,2], bounds_error=False)\n",
    "force_interp"
   ]
  },
  {
   "cell_type": "code",
   "execution_count": null,
   "metadata": {
    "code_folding": []
   },
   "outputs": [],
   "source": [
    "##TEST\n",
    "#INST CMOD FORCE\n",
    "plt.plot(force[:,1], force[:,2])\n",
    "plt.xlabel('CMOD, mm')\n",
    "plt.ylabel('FORCE, N')\n",
    "plt.grid()\n",
    "plt.show()\n",
    "force_interp([0.0, 0.5, 1.0, 1.5, 2.0, 2.5, 3.0, 3.5])"
   ]
  },
  {
   "cell_type": "code",
   "execution_count": null,
   "metadata": {
    "code_folding": []
   },
   "outputs": [],
   "source": [
    "##TEST\n",
    "print (\"Min\",\"Max\",\"Size\",\"Step\")\n",
    "print (force[:,1][0], force[:,1][-1], force[:,1].size, (force[:,1][-1]- force[:,1][0])/force[:,1].size)\n",
    "print\n",
    "test__X = np.arange(force[:,1][0], force[:,1][-1], (force[:,1][-1]- force[:,1][0])/force[:,1].size)\n",
    "for _ in test__X:\n",
    "    print [_, force_interp(_).item()]"
   ]
  },
  {
   "cell_type": "code",
   "execution_count": 9,
   "metadata": {},
   "outputs": [
    {
     "data": {
      "text/plain": [
       "<scipy.interpolate.interpolate.interp1d at 0x7f6ca2a191b0>"
      ]
     },
     "execution_count": 9,
     "metadata": {},
     "output_type": "execute_result"
    }
   ],
   "source": [
    "nz= crack[:,1].size-crkk[:,1].size\n",
    "crack_cmode_interp = interp1d(crack[:,1][nz : ], force[:,1][nz : ], bounds_error=False)\n",
    "crack_cmode_interp"
   ]
  },
  {
   "cell_type": "code",
   "execution_count": null,
   "metadata": {
    "code_folding": []
   },
   "outputs": [],
   "source": [
    "##TEST\n",
    "plt.plot(crack[:,1][nz : ], force[:,1][nz : ])\n",
    "plt.xlabel('DELTA_A, mm')\n",
    "plt.ylabel('CMOD, mm')\n",
    "plt.grid()\n",
    "plt.show()\n",
    "#\n",
    "crack_cmode_interp([0.2, 0.4, 0.6, 0.8, 1.0, 1.2, 1.4, 1.6])"
   ]
  },
  {
   "cell_type": "code",
   "execution_count": 25,
   "metadata": {},
   "outputs": [
    {
     "data": {
      "text/plain": [
       "(3.3049594741390784,\n",
       " 3.4844954046604335,\n",
       " 3338.9810489846254,\n",
       " 11197.801334650865)"
      ]
     },
     "execution_count": 25,
     "metadata": {},
     "output_type": "execute_result"
    }
   ],
   "source": [
    "def jpl(delta, eps):    \n",
    "    cc_ = 1./crkk_interp(delta).item()\n",
    "    cmode_ = crack_cmode_interp(delta).item()\n",
    "    #force_ = force_interp(cmode_).item()\n",
    "\n",
    "    x1_ = cmode_\n",
    "    x2_ = force[:,1][-1]\n",
    "    while True:\n",
    "        y2_ = (x2_ - cmode_) * cc_ \n",
    "        f2_ = force_interp(x2_).item()\n",
    "        #print \"x1=%r x2=%r y2=%r f2=%r (y-f)=%r\" % (x1_, x2_, y2_, f2_, y2_ - f2_)\n",
    "        if (abs(y2_-f2_) / f2_) < eps: break\n",
    "        if y2_ > f2_:\n",
    "            dx_ = 0.5 * (x2_ - x1_)\n",
    "            x2_= x1_ + dx_\n",
    "        if y2_ < f2_:\n",
    "            x1_ = x2_\n",
    "            dx_ = dx_ * 0.5\n",
    "            x2_= x1_ + dx_\n",
    "        y2_ = (x2_ - cmode_) * cc_ \n",
    "        f2_ = force_interp(x2_).item()\n",
    "\n",
    "    from scipy.integrate import quad\n",
    "    q_ = quad(force_interp, force[:,1][0], x2_)[0] - y2_ * (x2_ - cmode_) * 0.5        \n",
    "\n",
    "    return (cmode_, x2_, y2_ , q_)\n",
    "\n",
    "jpl(1.0, 0.00001)"
   ]
  },
  {
   "cell_type": "code",
   "execution_count": 26,
   "metadata": {
    "code_folding": []
   },
   "outputs": [
    {
     "data": {
      "image/png": "[encoded data removed]",
      "text/plain": [
       "<Figure size 1296x792 with 1 Axes>"
      ]
     },
     "metadata": {
      "needs_background": "light"
     },
     "output_type": "display_data"
    },
    {
     "data": {
      "text/plain": [
       "(3.3049594741390784,\n",
       " 3.4844954046604335,\n",
       " 3338.9810489846254,\n",
       " 11197.801334650865)"
      ]
     },
     "execution_count": 26,
     "metadata": {},
     "output_type": "execute_result"
    }
   ],
   "source": [
    "##TEST jel()\n",
    "plt.plot(force[:,1], force[:,2])\n",
    "j_= jpl(1.0, 0.00001)\n",
    "\n",
    "plt.plot(j_[0], 0.0, 'ro') # first point\n",
    "plt.plot(j_[1], j_[2], 'ro') # second point\n",
    "plt.plot([j_[0],j_[1]], [0.0, j_[2]], 'ro-')\n",
    "\"\"\"\n",
    "\"\"\"\n",
    "\n",
    "plt.xlabel('CMOD, mm')\n",
    "plt.ylabel('FORCE, N')\n",
    "plt.grid()\n",
    "plt.rcParams[\"figure.figsize\"]=[18, 11]\n",
    "plt.show()\n",
    "j_"
   ]
  },
  {
   "cell_type": "code",
   "execution_count": null,
   "metadata": {},
   "outputs": [],
   "source": []
  }
 ],
 "metadata": {
  "kernelspec": {
   "display_name": "Python 2",
   "language": "python",
   "name": "python2"
  },
  "language_info": {
   "codemirror_mode": {
    "name": "ipython",
    "version": 2
   },
   "file_extension": ".py",
   "mimetype": "text/x-python",
   "name": "python",
   "nbconvert_exporter": "python",
   "pygments_lexer": "ipython2",
   "version": "2.7.15"
  }
 },
 "nbformat": 4,
 "nbformat_minor": 2
}
