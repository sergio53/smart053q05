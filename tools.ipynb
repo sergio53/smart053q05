{
 "cells": [
  {
   "cell_type": "markdown",
   "metadata": {},
   "source": [
    "### https://vatlab.github.io/sos-docs/\n",
    "### https://github.com/ozancaglayan/jupyterhub-installation\n",
    "-------------"
   ]
  },
  {
   "cell_type": "code",
   "execution_count": 14,
   "metadata": {
    "hideCode": false,
    "hidePrompt": false
   },
   "outputs": [],
   "source": [
    "import matplotlib.pyplot as plt\n",
    "%matplotlib inline\n",
    "plt.rcParams[\"figure.figsize\"]=[18, 11]"
   ]
  },
  {
   "cell_type": "code",
   "execution_count": null,
   "metadata": {
    "hideCode": false,
    "hidePrompt": false
   },
   "outputs": [],
   "source": [
    "!pip install --upgrade pip\n",
    "!pip install jupyter_contrib_nbextensions\n",
    "!jupyter contrib nbextension install --user\n",
    "!jupyter nbextension enable\n",
    "!pip install jupyter_nbextensions_configurator\n",
    "!jupyter nbextensions_configurator enable --user"
   ]
  },
  {
   "cell_type": "code",
   "execution_count": null,
   "metadata": {
    "hideCode": false,
    "hidePrompt": false
   },
   "outputs": [],
   "source": [
    "!pip install qgrid\n",
    "!jupyter nbextension enable --py --sys-prefix qgrid"
   ]
  },
  {
   "cell_type": "code",
   "execution_count": 6,
   "metadata": {
    "hideCode": false,
    "hidePrompt": false
   },
   "outputs": [
    {
     "data": {
      "application/vnd.jupyter.widget-view+json": {
       "model_id": "18f33ef758054e649ec260e1a55aa158",
       "version_major": 2,
       "version_minor": 0
      },
      "text/plain": [
       "UWdyaWRXaWRnZXQoZ3JpZF9vcHRpb25zPXsnaGlnaGxpZ2h0U2VsZWN0ZWRSb3cnOiBUcnVlLCAnZnVsbFdpZHRoUm93cyc6IFRydWUsICdyb3dIZWlnaHQnOiAyOCwgJ2VuYWJsZUNvbHVtblLigKY=\n"
      ]
     },
     "metadata": {},
     "output_type": "display_data"
    }
   ],
   "source": [
    "import numpy as np\n",
    "import pandas as pd\n",
    "import qgrid\n",
    "randn = np.random.randn\n",
    "df_types = pd.DataFrame({\n",
    "    'A' : 1.,\n",
    "    'B' : pd.Series(['2013-01-01', '2013-01-02', '2013-01-03', '2013-01-04',\n",
    "               '2013-01-05', '2013-01-06', '2013-01-07', '2013-01-08', '2013-01-09'],index=list(range(9)),dtype='datetime64[ns]'),\n",
    "    'C' : pd.Series(randn(9),index=list(range(9)),dtype='float32'),\n",
    "    'D' : np.array([3] * 9,dtype='int32'),\n",
    "    'E' : pd.Categorical([\"washington\", \"adams\", \"washington\", \"madison\", \"lincoln\",\"jefferson\", \"hamilton\", \"roosevelt\", \"kennedy\"]),\n",
    "    'F' : [\"foo\", \"bar\", \"buzz\", \"bippity\",\"boppity\", \"foo\", \"foo\", \"bar\", \"zoo\"] })\n",
    "df_types['G'] = df_types['F'] == 'foo'\n",
    "qgrid_widget = qgrid.show_grid(df_types, show_toolbar=True)\n",
    "qgrid_widget"
   ]
  },
  {
   "cell_type": "code",
   "execution_count": 18,
   "metadata": {
    "hideCode": false,
    "hidePrompt": false
   },
   "outputs": [
    {
     "data": {
      "application/javascript": [
       "/* Put everything inside the global mpl namespace */\n",
       "window.mpl = {};\n",
       "\n",
       "\n",
       "mpl.get_websocket_type = function() {\n",
       "    if (typeof(WebSocket) !== 'undefined') {\n",
       "        return WebSocket;\n",
       "    } else if (typeof(MozWebSocket) !== 'undefined') {\n",
       "        return MozWebSocket;\n",
       "    } else {\n",
       "        alert('Your browser does not have WebSocket support.' +\n",
       "              'Please try Chrome, Safari or Firefox ≥ 6. ' +\n",
       "              'Firefox 4 and 5 are also supported but you ' +\n",
       "              'have to enable WebSockets in about:config.');\n",
       "    };\n",
       "}\n",
       "\n",
       "mpl.figure = function(figure_id, websocket, ondownload, parent_element) {\n",
       "    this.id = figure_id;\n",
       "\n",
       "    this.ws = websocket;\n",
       "\n",
       "    this.supports_binary = (this.ws.binaryType != undefined);\n",
       "\n",
       "    if (!this.supports_binary) {\n",
       "        var warnings = document.getElementById(\"mpl-warnings\");\n",
       "        if (warnings) {\n",
       "            warnings.style.display = 'block';\n",
       "            warnings.textContent = (\n",
       "                \"This browser does not support binary websocket messages. \" +\n",
       "                    \"Performance may be slow.\");\n",
       "        }\n",
       "    }\n",
       "\n",
       "    this.imageObj = new Image();\n",
       "\n",
       "    this.context = undefined;\n",
       "    this.message = undefined;\n",
       "    this.canvas = undefined;\n",
       "    this.rubberband_canvas = undefined;\n",
       "    this.rubberband_context = undefined;\n",
       "    this.format_dropdown = undefined;\n",
       "\n",
       "    this.image_mode = 'full';\n",
       "\n",
       "    this.root = $('<div/>');\n",
       "    this._root_extra_style(this.root)\n",
       "    this.root.attr('style', 'display: inline-block');\n",
       "\n",
       "    $(parent_element).append(this.root);\n",
       "\n",
       "    this._init_header(this);\n",
       "    this._init_canvas(this);\n",
       "    this._init_toolbar(this);\n",
       "\n",
       "    var fig = this;\n",
       "\n",
       "    this.waiting = false;\n",
       "\n",
       "    this.ws.onopen =  function () {\n",
       "            fig.send_message(\"supports_binary\", {value: fig.supports_binary});\n",
       "            fig.send_message(\"send_image_mode\", {});\n",
       "            if (mpl.ratio != 1) {\n",
       "                fig.send_message(\"set_dpi_ratio\", {'dpi_ratio': mpl.ratio});\n",
       "            }\n",
       "            fig.send_message(\"refresh\", {});\n",
       "        }\n",
       "\n",
       "    this.imageObj.onload = function() {\n",
       "            if (fig.image_mode == 'full') {\n",
       "                // Full images could contain transparency (where diff images\n",
       "                // almost always do), so we need to clear the canvas so that\n",
       "                // there is no ghosting.\n",
       "                fig.context.clearRect(0, 0, fig.canvas.width, fig.canvas.height);\n",
       "            }\n",
       "            fig.context.drawImage(fig.imageObj, 0, 0);\n",
       "        };\n",
       "\n",
       "    this.imageObj.onunload = function() {\n",
       "        fig.ws.close();\n",
       "    }\n",
       "\n",
       "    this.ws.onmessage = this._make_on_message_function(this);\n",
       "\n",
       "    this.ondownload = ondownload;\n",
       "}\n",
       "\n",
       "mpl.figure.prototype._init_header = function() {\n",
       "    var titlebar = $(\n",
       "        '<div class=\"ui-dialog-titlebar ui-widget-header ui-corner-all ' +\n",
       "        'ui-helper-clearfix\"/>');\n",
       "    var titletext = $(\n",
       "        '<div class=\"ui-dialog-title\" style=\"width: 100%; ' +\n",
       "        'text-align: center; padding: 3px;\"/>');\n",
       "    titlebar.append(titletext)\n",
       "    this.root.append(titlebar);\n",
       "    this.header = titletext[0];\n",
       "}\n",
       "\n",
       "\n",
       "\n",
       "mpl.figure.prototype._canvas_extra_style = function(canvas_div) {\n",
       "\n",
       "}\n",
       "\n",
       "\n",
       "mpl.figure.prototype._root_extra_style = function(canvas_div) {\n",
       "\n",
       "}\n",
       "\n",
       "mpl.figure.prototype._init_canvas = function() {\n",
       "    var fig = this;\n",
       "\n",
       "    var canvas_div = $('<div/>');\n",
       "\n",
       "    canvas_div.attr('style', 'position: relative; clear: both; outline: 0');\n",
       "\n",
       "    function canvas_keyboard_event(event) {\n",
       "        return fig.key_event(event, event['data']);\n",
       "    }\n",
       "\n",
       "    canvas_div.keydown('key_press', canvas_keyboard_event);\n",
       "    canvas_div.keyup('key_release', canvas_keyboard_event);\n",
       "    this.canvas_div = canvas_div\n",
       "    this._canvas_extra_style(canvas_div)\n",
       "    this.root.append(canvas_div);\n",
       "\n",
       "    var canvas = $('<canvas/>');\n",
       "    canvas.addClass('mpl-canvas');\n",
       "    canvas.attr('style', \"left: 0; top: 0; z-index: 0; outline: 0\")\n",
       "\n",
       "    this.canvas = canvas[0];\n",
       "    this.context = canvas[0].getContext(\"2d\");\n",
       "\n",
       "    var backingStore = this.context.backingStorePixelRatio ||\n",
       "\tthis.context.webkitBackingStorePixelRatio ||\n",
       "\tthis.context.mozBackingStorePixelRatio ||\n",
       "\tthis.context.msBackingStorePixelRatio ||\n",
       "\tthis.context.oBackingStorePixelRatio ||\n",
       "\tthis.context.backingStorePixelRatio || 1;\n",
       "\n",
       "    mpl.ratio = (window.devicePixelRatio || 1) / backingStore;\n",
       "\n",
       "    var rubberband = $('<canvas/>');\n",
       "    rubberband.attr('style', \"position: absolute; left: 0; top: 0; z-index: 1;\")\n",
       "\n",
       "    var pass_mouse_events = true;\n",
       "\n",
       "    canvas_div.resizable({\n",
       "        start: function(event, ui) {\n",
       "            pass_mouse_events = false;\n",
       "        },\n",
       "        resize: function(event, ui) {\n",
       "            fig.request_resize(ui.size.width, ui.size.height);\n",
       "        },\n",
       "        stop: function(event, ui) {\n",
       "            pass_mouse_events = true;\n",
       "            fig.request_resize(ui.size.width, ui.size.height);\n",
       "        },\n",
       "    });\n",
       "\n",
       "    function mouse_event_fn(event) {\n",
       "        if (pass_mouse_events)\n",
       "            return fig.mouse_event(event, event['data']);\n",
       "    }\n",
       "\n",
       "    rubberband.mousedown('button_press', mouse_event_fn);\n",
       "    rubberband.mouseup('button_release', mouse_event_fn);\n",
       "    // Throttle sequential mouse events to 1 every 20ms.\n",
       "    rubberband.mousemove('motion_notify', mouse_event_fn);\n",
       "\n",
       "    rubberband.mouseenter('figure_enter', mouse_event_fn);\n",
       "    rubberband.mouseleave('figure_leave', mouse_event_fn);\n",
       "\n",
       "    canvas_div.on(\"wheel\", function (event) {\n",
       "        event = event.originalEvent;\n",
       "        event['data'] = 'scroll'\n",
       "        if (event.deltaY < 0) {\n",
       "            event.step = 1;\n",
       "        } else {\n",
       "            event.step = -1;\n",
       "        }\n",
       "        mouse_event_fn(event);\n",
       "    });\n",
       "\n",
       "    canvas_div.append(canvas);\n",
       "    canvas_div.append(rubberband);\n",
       "\n",
       "    this.rubberband = rubberband;\n",
       "    this.rubberband_canvas = rubberband[0];\n",
       "    this.rubberband_context = rubberband[0].getContext(\"2d\");\n",
       "    this.rubberband_context.strokeStyle = \"#000000\";\n",
       "\n",
       "    this._resize_canvas = function(width, height) {\n",
       "        // Keep the size of the canvas, canvas container, and rubber band\n",
       "        // canvas in synch.\n",
       "        canvas_div.css('width', width)\n",
       "        canvas_div.css('height', height)\n",
       "\n",
       "        canvas.attr('width', width * mpl.ratio);\n",
       "        canvas.attr('height', height * mpl.ratio);\n",
       "        canvas.attr('style', 'width: ' + width + 'px; height: ' + height + 'px;');\n",
       "\n",
       "        rubberband.attr('width', width);\n",
       "        rubberband.attr('height', height);\n",
       "    }\n",
       "\n",
       "    // Set the figure to an initial 600x600px, this will subsequently be updated\n",
       "    // upon first draw.\n",
       "    this._resize_canvas(600, 600);\n",
       "\n",
       "    // Disable right mouse context menu.\n",
       "    $(this.rubberband_canvas).bind(\"contextmenu\",function(e){\n",
       "        return false;\n",
       "    });\n",
       "\n",
       "    function set_focus () {\n",
       "        canvas.focus();\n",
       "        canvas_div.focus();\n",
       "    }\n",
       "\n",
       "    window.setTimeout(set_focus, 100);\n",
       "}\n",
       "\n",
       "mpl.figure.prototype._init_toolbar = function() {\n",
       "    var fig = this;\n",
       "\n",
       "    var nav_element = $('<div/>')\n",
       "    nav_element.attr('style', 'width: 100%');\n",
       "    this.root.append(nav_element);\n",
       "\n",
       "    // Define a callback function for later on.\n",
       "    function toolbar_event(event) {\n",
       "        return fig.toolbar_button_onclick(event['data']);\n",
       "    }\n",
       "    function toolbar_mouse_event(event) {\n",
       "        return fig.toolbar_button_onmouseover(event['data']);\n",
       "    }\n",
       "\n",
       "    for(var toolbar_ind in mpl.toolbar_items) {\n",
       "        var name = mpl.toolbar_items[toolbar_ind][0];\n",
       "        var tooltip = mpl.toolbar_items[toolbar_ind][1];\n",
       "        var image = mpl.toolbar_items[toolbar_ind][2];\n",
       "        var method_name = mpl.toolbar_items[toolbar_ind][3];\n",
       "\n",
       "        if (!name) {\n",
       "            // put a spacer in here.\n",
       "            continue;\n",
       "        }\n",
       "        var button = $('<button/>');\n",
       "        button.addClass('ui-button ui-widget ui-state-default ui-corner-all ' +\n",
       "                        'ui-button-icon-only');\n",
       "        button.attr('role', 'button');\n",
       "        button.attr('aria-disabled', 'false');\n",
       "        button.click(method_name, toolbar_event);\n",
       "        button.mouseover(tooltip, toolbar_mouse_event);\n",
       "\n",
       "        var icon_img = $('<span/>');\n",
       "        icon_img.addClass('ui-button-icon-primary ui-icon');\n",
       "        icon_img.addClass(image);\n",
       "        icon_img.addClass('ui-corner-all');\n",
       "\n",
       "        var tooltip_span = $('<span/>');\n",
       "        tooltip_span.addClass('ui-button-text');\n",
       "        tooltip_span.html(tooltip);\n",
       "\n",
       "        button.append(icon_img);\n",
       "        button.append(tooltip_span);\n",
       "\n",
       "        nav_element.append(button);\n",
       "    }\n",
       "\n",
       "    var fmt_picker_span = $('<span/>');\n",
       "\n",
       "    var fmt_picker = $('<select/>');\n",
       "    fmt_picker.addClass('mpl-toolbar-option ui-widget ui-widget-content');\n",
       "    fmt_picker_span.append(fmt_picker);\n",
       "    nav_element.append(fmt_picker_span);\n",
       "    this.format_dropdown = fmt_picker[0];\n",
       "\n",
       "    for (var ind in mpl.extensions) {\n",
       "        var fmt = mpl.extensions[ind];\n",
       "        var option = $(\n",
       "            '<option/>', {selected: fmt === mpl.default_extension}).html(fmt);\n",
       "        fmt_picker.append(option)\n",
       "    }\n",
       "\n",
       "    // Add hover states to the ui-buttons\n",
       "    $( \".ui-button\" ).hover(\n",
       "        function() { $(this).addClass(\"ui-state-hover\");},\n",
       "        function() { $(this).removeClass(\"ui-state-hover\");}\n",
       "    );\n",
       "\n",
       "    var status_bar = $('<span class=\"mpl-message\"/>');\n",
       "    nav_element.append(status_bar);\n",
       "    this.message = status_bar[0];\n",
       "}\n",
       "\n",
       "mpl.figure.prototype.request_resize = function(x_pixels, y_pixels) {\n",
       "    // Request matplotlib to resize the figure. Matplotlib will then trigger a resize in the client,\n",
       "    // which will in turn request a refresh of the image.\n",
       "    this.send_message('resize', {'width': x_pixels, 'height': y_pixels});\n",
       "}\n",
       "\n",
       "mpl.figure.prototype.send_message = function(type, properties) {\n",
       "    properties['type'] = type;\n",
       "    properties['figure_id'] = this.id;\n",
       "    this.ws.send(JSON.stringify(properties));\n",
       "}\n",
       "\n",
       "mpl.figure.prototype.send_draw_message = function() {\n",
       "    if (!this.waiting) {\n",
       "        this.waiting = true;\n",
       "        this.ws.send(JSON.stringify({type: \"draw\", figure_id: this.id}));\n",
       "    }\n",
       "}\n",
       "\n",
       "\n",
       "mpl.figure.prototype.handle_save = function(fig, msg) {\n",
       "    var format_dropdown = fig.format_dropdown;\n",
       "    var format = format_dropdown.options[format_dropdown.selectedIndex].value;\n",
       "    fig.ondownload(fig, format);\n",
       "}\n",
       "\n",
       "\n",
       "mpl.figure.prototype.handle_resize = function(fig, msg) {\n",
       "    var size = msg['size'];\n",
       "    if (size[0] != fig.canvas.width || size[1] != fig.canvas.height) {\n",
       "        fig._resize_canvas(size[0], size[1]);\n",
       "        fig.send_message(\"refresh\", {});\n",
       "    };\n",
       "}\n",
       "\n",
       "mpl.figure.prototype.handle_rubberband = function(fig, msg) {\n",
       "    var x0 = msg['x0'] / mpl.ratio;\n",
       "    var y0 = (fig.canvas.height - msg['y0']) / mpl.ratio;\n",
       "    var x1 = msg['x1'] / mpl.ratio;\n",
       "    var y1 = (fig.canvas.height - msg['y1']) / mpl.ratio;\n",
       "    x0 = Math.floor(x0) + 0.5;\n",
       "    y0 = Math.floor(y0) + 0.5;\n",
       "    x1 = Math.floor(x1) + 0.5;\n",
       "    y1 = Math.floor(y1) + 0.5;\n",
       "    var min_x = Math.min(x0, x1);\n",
       "    var min_y = Math.min(y0, y1);\n",
       "    var width = Math.abs(x1 - x0);\n",
       "    var height = Math.abs(y1 - y0);\n",
       "\n",
       "    fig.rubberband_context.clearRect(\n",
       "        0, 0, fig.canvas.width, fig.canvas.height);\n",
       "\n",
       "    fig.rubberband_context.strokeRect(min_x, min_y, width, height);\n",
       "}\n",
       "\n",
       "mpl.figure.prototype.handle_figure_label = function(fig, msg) {\n",
       "    // Updates the figure title.\n",
       "    fig.header.textContent = msg['label'];\n",
       "}\n",
       "\n",
       "mpl.figure.prototype.handle_cursor = function(fig, msg) {\n",
       "    var cursor = msg['cursor'];\n",
       "    switch(cursor)\n",
       "    {\n",
       "    case 0:\n",
       "        cursor = 'pointer';\n",
       "        break;\n",
       "    case 1:\n",
       "        cursor = 'default';\n",
       "        break;\n",
       "    case 2:\n",
       "        cursor = 'crosshair';\n",
       "        break;\n",
       "    case 3:\n",
       "        cursor = 'move';\n",
       "        break;\n",
       "    }\n",
       "    fig.rubberband_canvas.style.cursor = cursor;\n",
       "}\n",
       "\n",
       "mpl.figure.prototype.handle_message = function(fig, msg) {\n",
       "    fig.message.textContent = msg['message'];\n",
       "}\n",
       "\n",
       "mpl.figure.prototype.handle_draw = function(fig, msg) {\n",
       "    // Request the server to send over a new figure.\n",
       "    fig.send_draw_message();\n",
       "}\n",
       "\n",
       "mpl.figure.prototype.handle_image_mode = function(fig, msg) {\n",
       "    fig.image_mode = msg['mode'];\n",
       "}\n",
       "\n",
       "mpl.figure.prototype.updated_canvas_event = function() {\n",
       "    // Called whenever the canvas gets updated.\n",
       "    this.send_message(\"ack\", {});\n",
       "}\n",
       "\n",
       "// A function to construct a web socket function for onmessage handling.\n",
       "// Called in the figure constructor.\n",
       "mpl.figure.prototype._make_on_message_function = function(fig) {\n",
       "    return function socket_on_message(evt) {\n",
       "        if (evt.data instanceof Blob) {\n",
       "            /* FIXME: We get \"Resource interpreted as Image but\n",
       "             * transferred with MIME type text/plain:\" errors on\n",
       "             * Chrome.  But how to set the MIME type?  It doesn't seem\n",
       "             * to be part of the websocket stream */\n",
       "            evt.data.type = \"image/png\";\n",
       "\n",
       "            /* Free the memory for the previous frames */\n",
       "            if (fig.imageObj.src) {\n",
       "                (window.URL || window.webkitURL).revokeObjectURL(\n",
       "                    fig.imageObj.src);\n",
       "            }\n",
       "\n",
       "            fig.imageObj.src = (window.URL || window.webkitURL).createObjectURL(\n",
       "                evt.data);\n",
       "            fig.updated_canvas_event();\n",
       "            fig.waiting = false;\n",
       "            return;\n",
       "        }\n",
       "        else if (typeof evt.data === 'string' && evt.data.slice(0, 21) == \"data:image/png;base64\") {\n",
       "            fig.imageObj.src = evt.data;\n",
       "            fig.updated_canvas_event();\n",
       "            fig.waiting = false;\n",
       "            return;\n",
       "        }\n",
       "\n",
       "        var msg = JSON.parse(evt.data);\n",
       "        var msg_type = msg['type'];\n",
       "\n",
       "        // Call the  \"handle_{type}\" callback, which takes\n",
       "        // the figure and JSON message as its only arguments.\n",
       "        try {\n",
       "            var callback = fig[\"handle_\" + msg_type];\n",
       "        } catch (e) {\n",
       "            console.log(\"No handler for the '\" + msg_type + \"' message type: \", msg);\n",
       "            return;\n",
       "        }\n",
       "\n",
       "        if (callback) {\n",
       "            try {\n",
       "                // console.log(\"Handling '\" + msg_type + \"' message: \", msg);\n",
       "                callback(fig, msg);\n",
       "            } catch (e) {\n",
       "                console.log(\"Exception inside the 'handler_\" + msg_type + \"' callback:\", e, e.stack, msg);\n",
       "            }\n",
       "        }\n",
       "    };\n",
       "}\n",
       "\n",
       "// from http://stackoverflow.com/questions/1114465/getting-mouse-location-in-canvas\n",
       "mpl.findpos = function(e) {\n",
       "    //this section is from http://www.quirksmode.org/js/events_properties.html\n",
       "    var targ;\n",
       "    if (!e)\n",
       "        e = window.event;\n",
       "    if (e.target)\n",
       "        targ = e.target;\n",
       "    else if (e.srcElement)\n",
       "        targ = e.srcElement;\n",
       "    if (targ.nodeType == 3) // defeat Safari bug\n",
       "        targ = targ.parentNode;\n",
       "\n",
       "    // jQuery normalizes the pageX and pageY\n",
       "    // pageX,Y are the mouse positions relative to the document\n",
       "    // offset() returns the position of the element relative to the document\n",
       "    var x = e.pageX - $(targ).offset().left;\n",
       "    var y = e.pageY - $(targ).offset().top;\n",
       "\n",
       "    return {\"x\": x, \"y\": y};\n",
       "};\n",
       "\n",
       "/*\n",
       " * return a copy of an object with only non-object keys\n",
       " * we need this to avoid circular references\n",
       " * http://stackoverflow.com/a/24161582/3208463\n",
       " */\n",
       "function simpleKeys (original) {\n",
       "  return Object.keys(original).reduce(function (obj, key) {\n",
       "    if (typeof original[key] !== 'object')\n",
       "        obj[key] = original[key]\n",
       "    return obj;\n",
       "  }, {});\n",
       "}\n",
       "\n",
       "mpl.figure.prototype.mouse_event = function(event, name) {\n",
       "    var canvas_pos = mpl.findpos(event)\n",
       "\n",
       "    if (name === 'button_press')\n",
       "    {\n",
       "        this.canvas.focus();\n",
       "        this.canvas_div.focus();\n",
       "    }\n",
       "\n",
       "    var x = canvas_pos.x * mpl.ratio;\n",
       "    var y = canvas_pos.y * mpl.ratio;\n",
       "\n",
       "    this.send_message(name, {x: x, y: y, button: event.button,\n",
       "                             step: event.step,\n",
       "                             guiEvent: simpleKeys(event)});\n",
       "\n",
       "    /* This prevents the web browser from automatically changing to\n",
       "     * the text insertion cursor when the button is pressed.  We want\n",
       "     * to control all of the cursor setting manually through the\n",
       "     * 'cursor' event from matplotlib */\n",
       "    event.preventDefault();\n",
       "    return false;\n",
       "}\n",
       "\n",
       "mpl.figure.prototype._key_event_extra = function(event, name) {\n",
       "    // Handle any extra behaviour associated with a key event\n",
       "}\n",
       "\n",
       "mpl.figure.prototype.key_event = function(event, name) {\n",
       "\n",
       "    // Prevent repeat events\n",
       "    if (name == 'key_press')\n",
       "    {\n",
       "        if (event.which === this._key)\n",
       "            return;\n",
       "        else\n",
       "            this._key = event.which;\n",
       "    }\n",
       "    if (name == 'key_release')\n",
       "        this._key = null;\n",
       "\n",
       "    var value = '';\n",
       "    if (event.ctrlKey && event.which != 17)\n",
       "        value += \"ctrl+\";\n",
       "    if (event.altKey && event.which != 18)\n",
       "        value += \"alt+\";\n",
       "    if (event.shiftKey && event.which != 16)\n",
       "        value += \"shift+\";\n",
       "\n",
       "    value += 'k';\n",
       "    value += event.which.toString();\n",
       "\n",
       "    this._key_event_extra(event, name);\n",
       "\n",
       "    this.send_message(name, {key: value,\n",
       "                             guiEvent: simpleKeys(event)});\n",
       "    return false;\n",
       "}\n",
       "\n",
       "mpl.figure.prototype.toolbar_button_onclick = function(name) {\n",
       "    if (name == 'download') {\n",
       "        this.handle_save(this, null);\n",
       "    } else {\n",
       "        this.send_message(\"toolbar_button\", {name: name});\n",
       "    }\n",
       "};\n",
       "\n",
       "mpl.figure.prototype.toolbar_button_onmouseover = function(tooltip) {\n",
       "    this.message.textContent = tooltip;\n",
       "};\n",
       "mpl.toolbar_items = [[\"Home\", \"Reset original view\", \"fa fa-home icon-home\", \"home\"], [\"Back\", \"Back to  previous view\", \"fa fa-arrow-left icon-arrow-left\", \"back\"], [\"Forward\", \"Forward to next view\", \"fa fa-arrow-right icon-arrow-right\", \"forward\"], [\"\", \"\", \"\", \"\"], [\"Pan\", \"Pan axes with left mouse, zoom with right\", \"fa fa-arrows icon-move\", \"pan\"], [\"Zoom\", \"Zoom to rectangle\", \"fa fa-square-o icon-check-empty\", \"zoom\"], [\"\", \"\", \"\", \"\"], [\"Download\", \"Download plot\", \"fa fa-floppy-o icon-save\", \"download\"]];\n",
       "\n",
       "mpl.extensions = [\"eps\", \"jpeg\", \"pdf\", \"png\", \"ps\", \"raw\", \"svg\", \"tif\"];\n",
       "\n",
       "mpl.default_extension = \"png\";var comm_websocket_adapter = function(comm) {\n",
       "    // Create a \"websocket\"-like object which calls the given IPython comm\n",
       "    // object with the appropriate methods. Currently this is a non binary\n",
       "    // socket, so there is still some room for performance tuning.\n",
       "    var ws = {};\n",
       "\n",
       "    ws.close = function() {\n",
       "        comm.close()\n",
       "    };\n",
       "    ws.send = function(m) {\n",
       "        //console.log('sending', m);\n",
       "        comm.send(m);\n",
       "    };\n",
       "    // Register the callback with on_msg.\n",
       "    comm.on_msg(function(msg) {\n",
       "        //console.log('receiving', msg['content']['data'], msg);\n",
       "        // Pass the mpl event to the overridden (by mpl) onmessage function.\n",
       "        ws.onmessage(msg['content']['data'])\n",
       "    });\n",
       "    return ws;\n",
       "}\n",
       "\n",
       "mpl.mpl_figure_comm = function(comm, msg) {\n",
       "    // This is the function which gets called when the mpl process\n",
       "    // starts-up an IPython Comm through the \"matplotlib\" channel.\n",
       "\n",
       "    var id = msg.content.data.id;\n",
       "    // Get hold of the div created by the display call when the Comm\n",
       "    // socket was opened in Python.\n",
       "    var element = $(\"#\" + id);\n",
       "    var ws_proxy = comm_websocket_adapter(comm)\n",
       "\n",
       "    function ondownload(figure, format) {\n",
       "        window.open(figure.imageObj.src);\n",
       "    }\n",
       "\n",
       "    var fig = new mpl.figure(id, ws_proxy,\n",
       "                           ondownload,\n",
       "                           element.get(0));\n",
       "\n",
       "    // Call onopen now - mpl needs it, as it is assuming we've passed it a real\n",
       "    // web socket which is closed, not our websocket->open comm proxy.\n",
       "    ws_proxy.onopen();\n",
       "\n",
       "    fig.parent_element = element.get(0);\n",
       "    fig.cell_info = mpl.find_output_cell(\"<div id='\" + id + \"'></div>\");\n",
       "    if (!fig.cell_info) {\n",
       "        console.error(\"Failed to find cell for figure\", id, fig);\n",
       "        return;\n",
       "    }\n",
       "\n",
       "    var output_index = fig.cell_info[2]\n",
       "    var cell = fig.cell_info[0];\n",
       "\n",
       "};\n",
       "\n",
       "mpl.figure.prototype.handle_close = function(fig, msg) {\n",
       "    var width = fig.canvas.width/mpl.ratio\n",
       "    fig.root.unbind('remove')\n",
       "\n",
       "    // Update the output cell to use the data from the current canvas.\n",
       "    fig.push_to_output();\n",
       "    var dataURL = fig.canvas.toDataURL();\n",
       "    // Re-enable the keyboard manager in IPython - without this line, in FF,\n",
       "    // the notebook keyboard shortcuts fail.\n",
       "    IPython.keyboard_manager.enable()\n",
       "    $(fig.parent_element).html('<img src=\"' + dataURL + '\" width=\"' + width + '\">');\n",
       "    fig.close_ws(fig, msg);\n",
       "}\n",
       "\n",
       "mpl.figure.prototype.close_ws = function(fig, msg){\n",
       "    fig.send_message('closing', msg);\n",
       "    // fig.ws.close()\n",
       "}\n",
       "\n",
       "mpl.figure.prototype.push_to_output = function(remove_interactive) {\n",
       "    // Turn the data on the canvas into data in the output cell.\n",
       "    var width = this.canvas.width/mpl.ratio\n",
       "    var dataURL = this.canvas.toDataURL();\n",
       "    this.cell_info[1]['text/html'] = '<img src=\"' + dataURL + '\" width=\"' + width + '\">';\n",
       "}\n",
       "\n",
       "mpl.figure.prototype.updated_canvas_event = function() {\n",
       "    // Tell IPython that the notebook contents must change.\n",
       "    IPython.notebook.set_dirty(true);\n",
       "    this.send_message(\"ack\", {});\n",
       "    var fig = this;\n",
       "    // Wait a second, then push the new image to the DOM so\n",
       "    // that it is saved nicely (might be nice to debounce this).\n",
       "    setTimeout(function () { fig.push_to_output() }, 1000);\n",
       "}\n",
       "\n",
       "mpl.figure.prototype._init_toolbar = function() {\n",
       "    var fig = this;\n",
       "\n",
       "    var nav_element = $('<div/>')\n",
       "    nav_element.attr('style', 'width: 100%');\n",
       "    this.root.append(nav_element);\n",
       "\n",
       "    // Define a callback function for later on.\n",
       "    function toolbar_event(event) {\n",
       "        return fig.toolbar_button_onclick(event['data']);\n",
       "    }\n",
       "    function toolbar_mouse_event(event) {\n",
       "        return fig.toolbar_button_onmouseover(event['data']);\n",
       "    }\n",
       "\n",
       "    for(var toolbar_ind in mpl.toolbar_items){\n",
       "        var name = mpl.toolbar_items[toolbar_ind][0];\n",
       "        var tooltip = mpl.toolbar_items[toolbar_ind][1];\n",
       "        var image = mpl.toolbar_items[toolbar_ind][2];\n",
       "        var method_name = mpl.toolbar_items[toolbar_ind][3];\n",
       "\n",
       "        if (!name) { continue; };\n",
       "\n",
       "        var button = $('<button class=\"btn btn-default\" href=\"#\" title=\"' + name + '\"><i class=\"fa ' + image + ' fa-lg\"></i></button>');\n",
       "        button.click(method_name, toolbar_event);\n",
       "        button.mouseover(tooltip, toolbar_mouse_event);\n",
       "        nav_element.append(button);\n",
       "    }\n",
       "\n",
       "    // Add the status bar.\n",
       "    var status_bar = $('<span class=\"mpl-message\" style=\"text-align:right; float: right;\"/>');\n",
       "    nav_element.append(status_bar);\n",
       "    this.message = status_bar[0];\n",
       "\n",
       "    // Add the close button to the window.\n",
       "    var buttongrp = $('<div class=\"btn-group inline pull-right\"></div>');\n",
       "    var button = $('<button class=\"btn btn-mini btn-primary\" href=\"#\" title=\"Stop Interaction\"><i class=\"fa fa-power-off icon-remove icon-large\"></i></button>');\n",
       "    button.click(function (evt) { fig.handle_close(fig, {}); } );\n",
       "    button.mouseover('Stop Interaction', toolbar_mouse_event);\n",
       "    buttongrp.append(button);\n",
       "    var titlebar = this.root.find($('.ui-dialog-titlebar'));\n",
       "    titlebar.prepend(buttongrp);\n",
       "}\n",
       "\n",
       "mpl.figure.prototype._root_extra_style = function(el){\n",
       "    var fig = this\n",
       "    el.on(\"remove\", function(){\n",
       "\tfig.close_ws(fig, {});\n",
       "    });\n",
       "}\n",
       "\n",
       "mpl.figure.prototype._canvas_extra_style = function(el){\n",
       "    // this is important to make the div 'focusable\n",
       "    el.attr('tabindex', 0)\n",
       "    // reach out to IPython and tell the keyboard manager to turn it's self\n",
       "    // off when our div gets focus\n",
       "\n",
       "    // location in version 3\n",
       "    if (IPython.notebook.keyboard_manager) {\n",
       "        IPython.notebook.keyboard_manager.register_events(el);\n",
       "    }\n",
       "    else {\n",
       "        // location in version 2\n",
       "        IPython.keyboard_manager.register_events(el);\n",
       "    }\n",
       "\n",
       "}\n",
       "\n",
       "mpl.figure.prototype._key_event_extra = function(event, name) {\n",
       "    var manager = IPython.notebook.keyboard_manager;\n",
       "    if (!manager)\n",
       "        manager = IPython.keyboard_manager;\n",
       "\n",
       "    // Check for shift+enter\n",
       "    if (event.shiftKey && event.which == 13) {\n",
       "        this.canvas_div.blur();\n",
       "        event.shiftKey = false;\n",
       "        // Send a \"J\" for go to next cell\n",
       "        event.which = 74;\n",
       "        event.keyCode = 74;\n",
       "        manager.command_mode();\n",
       "        manager.handle_keydown(event);\n",
       "    }\n",
       "}\n",
       "\n",
       "mpl.figure.prototype.handle_save = function(fig, msg) {\n",
       "    fig.ondownload(fig, null);\n",
       "}\n",
       "\n",
       "\n",
       "mpl.find_output_cell = function(html_output) {\n",
       "    // Return the cell and output element which can be found *uniquely* in the notebook.\n",
       "    // Note - this is a bit hacky, but it is done because the \"notebook_saving.Notebook\"\n",
       "    // IPython event is triggered only after the cells have been serialised, which for\n",
       "    // our purposes (turning an active figure into a static one), is too late.\n",
       "    var cells = IPython.notebook.get_cells();\n",
       "    var ncells = cells.length;\n",
       "    for (var i=0; i<ncells; i++) {\n",
       "        var cell = cells[i];\n",
       "        if (cell.cell_type === 'code'){\n",
       "            for (var j=0; j<cell.output_area.outputs.length; j++) {\n",
       "                var data = cell.output_area.outputs[j];\n",
       "                if (data.data) {\n",
       "                    // IPython >= 3 moved mimebundle to data attribute of output\n",
       "                    data = data.data;\n",
       "                }\n",
       "                if (data['text/html'] == html_output) {\n",
       "                    return [cell, data, j];\n",
       "                }\n",
       "            }\n",
       "        }\n",
       "    }\n",
       "}\n",
       "\n",
       "// Register the function which deals with the matplotlib target/channel.\n",
       "// The kernel may be null if the page has been refreshed.\n",
       "if (IPython.notebook.kernel != null) {\n",
       "    IPython.notebook.kernel.comm_manager.register_target('matplotlib', mpl.mpl_figure_comm);\n",
       "}\n"
      ],
      "text/plain": [
       "<IPython.core.display.Javascript object>"
      ]
     },
     "metadata": {},
     "output_type": "display_data"
    },
    {
     "data": {
      "text/html": [
       "<img src=\"data:image/png;base64,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\" width=\"432\">"
      ],
      "text/plain": [
       "<IPython.core.display.HTML object>"
      ]
     },
     "metadata": {},
     "output_type": "display_data"
    }
   ],
   "source": [
    "%matplotlib nbagg\n",
    "import matplotlib.pyplot as plt\n",
    "\n",
    "n = 50\n",
    "\n",
    "qgrid_df = qgrid_widget.get_changed_df()\n",
    "x = qgrid_df.index\n",
    "y = qgrid_df['C']\n",
    "\n",
    "fig, ax = plt.subplots()\n",
    "fit = np.polyfit(x, y, deg=1)\n",
    "line, = ax.plot(x, fit[0] * x + fit[1], color='red')\n",
    "scatter, = ax.plot(x,y,ms=8,color='b',marker='o',ls='')\n",
    "\n",
    "def handle_filter_changed(event, widget):\n",
    "    qgrid_df = qgrid_widget.get_changed_df()\n",
    "    x = qgrid_df.index\n",
    "    y = qgrid_df['C']\n",
    "    fit = np.polyfit(x, y, deg=1)\n",
    "    line.set_data(x, fit[0] * x + fit[1])\n",
    "    fig.canvas.draw()\n",
    "    scatter.set_data(x, y)\n",
    "    fig.canvas.draw()\n",
    "\n",
    "qgrid_widget.on('filter_changed', handle_filter_changed)"
   ]
  },
  {
   "cell_type": "code",
   "execution_count": null,
   "metadata": {
    "hideCode": false,
    "hidePrompt": false
   },
   "outputs": [],
   "source": [
    "!pip install bqplot"
   ]
  },
  {
   "cell_type": "code",
   "execution_count": 17,
   "metadata": {
    "hideCode": false,
    "hidePrompt": false
   },
   "outputs": [
    {
     "data": {
      "application/vnd.jupyter.widget-view+json": {
       "model_id": "b0f26e4900654c05830467abbe9b07a4",
       "version_major": 2,
       "version_minor": 0
      },
      "text/plain": [
       "VkJveChjaGlsZHJlbj0oRmlndXJlKGF4ZXM9W0F4aXMob3JpZW50YXRpb249J3ZlcnRpY2FsJywgc2NhbGU9TGluZWFyU2NhbGUoKSwgc2lkZT11J2xlZnQnKSwgQXhpcyhzY2FsZT1MaW5lYXLigKY=\n"
      ]
     },
     "metadata": {},
     "output_type": "display_data"
    }
   ],
   "source": [
    "import numpy as np\n",
    "from bqplot import pyplot as plt\n",
    "\n",
    "plt.figure(1, title='Line Chart')\n",
    "np.random.seed(0)\n",
    "n = 200\n",
    "x = np.linspace(0.0, 10.0, n)\n",
    "y = np.cumsum(np.random.randn(n))\n",
    "plt.plot(x, y)\n",
    "plt.show()"
   ]
  },
  {
   "cell_type": "code",
   "execution_count": 16,
   "metadata": {
    "hideCode": false,
    "hidePrompt": false
   },
   "outputs": [
    {
     "data": {
      "application/vnd.jupyter.widget-view+json": {
       "model_id": "6ed75d2b041f4605b006a29c3f4038b6",
       "version_major": 2,
       "version_minor": 0
      },
      "text/plain": [
       "RmlndXJlKGF4ZXM9W0F4aXMobGFiZWw9dSdYJywgc2NhbGU9T3JkaW5hbFNjYWxlKCkpLCBBeGlzKGxhYmVsPXUnWScsIG9yaWVudGF0aW9uPSd2ZXJ0aWNhbCcsIHNjYWxlPUxpbmVhclNjYWzigKY=\n"
      ]
     },
     "metadata": {},
     "output_type": "display_data"
    }
   ],
   "source": [
    "import numpy as np\n",
    "from IPython.display import display\n",
    "from bqplot import (\n",
    "    OrdinalScale, LinearScale, Bars, Lines, Axis, Figure\n",
    ")\n",
    "%matplotlib inline\n",
    "\n",
    "size = 20\n",
    "np.random.seed(0)\n",
    "\n",
    "x_data = np.arange(size)\n",
    "\n",
    "x_ord = OrdinalScale()\n",
    "y_sc = LinearScale()\n",
    "\n",
    "bar = Bars(x=x_data, y=np.random.randn(2, size), scales={'x': x_ord, 'y':\n",
    "y_sc}, type='stacked')\n",
    "line = Lines(x=x_data, y=np.random.randn(size), scales={'x': x_ord, 'y': y_sc},\n",
    "             stroke_width=3, colors=['red'], display_legend=True, labels=['Line chart'])\n",
    "\n",
    "ax_x = Axis(scale=x_ord, grid_lines='solid', label='X')\n",
    "ax_y = Axis(scale=y_sc, orientation='vertical', tick_format='0.2f',\n",
    "            grid_lines='solid', label='Y')\n",
    "\n",
    "Figure(marks=[bar, line], axes=[ax_x, ax_y], title='API Example',\n",
    "       legend_location='bottom-right')"
   ]
  },
  {
   "cell_type": "markdown",
   "metadata": {
    "hideCode": false,
    "hidePrompt": false
   },
   "source": [
    "--------\n",
    "### http://beakerx.com/\n",
    "--------"
   ]
  },
  {
   "cell_type": "markdown",
   "metadata": {
    "hideCode": false,
    "hidePrompt": false
   },
   "source": [
    "# https://ipywidgets.readthedocs.io/en/stable/index.html"
   ]
  },
  {
   "cell_type": "code",
   "execution_count": null,
   "metadata": {
    "hideCode": false,
    "hidePrompt": false
   },
   "outputs": [],
   "source": [
    "!pip install ipywidgets\n",
    "!jupyter nbextension enable --py widgetsnbextension"
   ]
  },
  {
   "cell_type": "code",
   "execution_count": 26,
   "metadata": {
    "hideCode": false,
    "hidePrompt": false
   },
   "outputs": [
    {
     "data": {
      "application/vnd.jupyter.widget-view+json": {
       "model_id": "6ac1ac25be864a68addd85fc3d37f6f5",
       "version_major": 2,
       "version_minor": 0
      },
      "text/plain": [
       "aW50ZXJhY3RpdmUoY2hpbGRyZW49KEludFNsaWRlcih2YWx1ZT0xMCwgZGVzY3JpcHRpb249dSd4JywgbWF4PTMwLCBtaW49LTEwKSwgT3V0cHV0KCkpLCBfZG9tX2NsYXNzZXM9KHUnd2lkZ2XigKY=\n"
      ]
     },
     "metadata": {},
     "output_type": "display_data"
    }
   ],
   "source": [
    "from __future__ import print_function\n",
    "from ipywidgets import interact, interactive, fixed, interact_manual\n",
    "import ipywidgets as widgets\n",
    "\n",
    "def f(x):\n",
    "  return x\n",
    "\n",
    "interact(f, x=10);"
   ]
  },
  {
   "cell_type": "code",
   "execution_count": 27,
   "metadata": {
    "hideCode": false,
    "hidePrompt": false
   },
   "outputs": [
    {
     "data": {
      "application/vnd.jupyter.widget-view+json": {
       "model_id": "463ae6b443244e49a848f971f5f4b5af",
       "version_major": 2,
       "version_minor": 0
      },
      "text/plain": [
       "aW50ZXJhY3RpdmUoY2hpbGRyZW49KFRleHQodmFsdWU9dSdIaSB0aGVyZSEnLCBkZXNjcmlwdGlvbj11J3gnKSwgT3V0cHV0KCkpLCBfZG9tX2NsYXNzZXM9KHUnd2lkZ2V0LWludGVyYWN0JyzigKY=\n"
      ]
     },
     "metadata": {},
     "output_type": "display_data"
    }
   ],
   "source": [
    "interact(f, x='Hi there!');"
   ]
  },
  {
   "cell_type": "code",
   "execution_count": 28,
   "metadata": {
    "hideCode": false,
    "hidePrompt": false
   },
   "outputs": [
    {
     "data": {
      "application/vnd.jupyter.widget-view+json": {
       "model_id": "6d2a23afc1084c29b646d74413abe1e1",
       "version_major": 2,
       "version_minor": 0
      },
      "text/plain": [
       "aW50ZXJhY3RpdmUoY2hpbGRyZW49KENoZWNrYm94KHZhbHVlPVRydWUsIGRlc2NyaXB0aW9uPXUneCcpLCBGbG9hdFNsaWRlcih2YWx1ZT0xLjAsIGRlc2NyaXB0aW9uPXUneScsIG1heD0zLjDigKY=\n"
      ]
     },
     "metadata": {},
     "output_type": "display_data"
    }
   ],
   "source": [
    "@interact(x=True, y=1.0)\n",
    "def g(x, y):\n",
    "    return (x, y)"
   ]
  },
  {
   "cell_type": "code",
   "execution_count": null,
   "metadata": {
    "hideCode": false,
    "hidePrompt": false
   },
   "outputs": [],
   "source": [
    "!pip install ipympl"
   ]
  },
  {
   "cell_type": "code",
   "execution_count": 34,
   "metadata": {
    "hideCode": false,
    "hidePrompt": false
   },
   "outputs": [],
   "source": [
    "%matplotlib?"
   ]
  },
  {
   "cell_type": "markdown",
   "metadata": {
    "hideCode": false,
    "hidePrompt": false
   },
   "source": [
    "### https://github.com/transcranial/jupyter-themer"
   ]
  },
  {
   "cell_type": "code",
   "execution_count": null,
   "metadata": {
    "hideCode": false,
    "hidePrompt": false
   },
   "outputs": [],
   "source": [
    "!pip install jupyter-themer"
   ]
  },
  {
   "cell_type": "code",
   "execution_count": 36,
   "metadata": {
    "hideCode": false,
    "hidePrompt": false
   },
   "outputs": [
    {
     "name": "stdout",
     "output_type": "stream",
     "text": [
      "usage: jupyter-themer [-h] [-c COLOR] [-l LAYOUT] [-t TYPOGRAPHY] [-f FONT]\r\n",
      "                      [-b BACKGROUND] [-s SHOW] [-p CSS_PATH]\r\n",
      "\r\n",
      "Jupyter notebook themer.\r\n",
      "\r\n",
      "optional arguments:\r\n",
      "  -h, --help            show this help message and exit\r\n",
      "  -c COLOR, --color COLOR\r\n",
      "                        color style\r\n",
      "  -l LAYOUT, --layout LAYOUT\r\n",
      "                        layout style\r\n",
      "  -t TYPOGRAPHY, --typography TYPOGRAPHY\r\n",
      "                        typography style\r\n",
      "  -f FONT, --font FONT  code font family\r\n",
      "  -b BACKGROUND, --background BACKGROUND\r\n",
      "                        background theme styling\r\n",
      "  -s SHOW, --show SHOW  show available choices\r\n",
      "  -p CSS_PATH, --css_path CSS_PATH\r\n",
      "                        custom css path.(default:/opt/anaconda2/lib/python2.7\r\n",
      "                        /site-packages/notebook/static/custom/custom.css)\r\n"
     ]
    }
   ],
   "source": [
    "!jupyter-themer --help"
   ]
  },
  {
   "cell_type": "code",
   "execution_count": 43,
   "metadata": {
    "hideCode": false,
    "hidePrompt": false
   },
   "outputs": [
    {
     "name": "stdout",
     "output_type": "stream",
     "text": [
      "Custom jupyter notebook theme created - refresh any open jupyter notebooks to apply theme.\r\n"
     ]
    }
   ],
   "source": [
    "!jupyter-themer -c pastel-on-dark -l hovertable"
   ]
  },
  {
   "cell_type": "code",
   "execution_count": null,
   "metadata": {
    "hideCode": false,
    "hidePrompt": false
   },
   "outputs": [],
   "source": [
    "!pip install nbtutor\n",
    "!jupyter nbextension install --overwrite --py nbtutor\n",
    "!jupyter nbextension enable --py nbtutor"
   ]
  },
  {
   "cell_type": "code",
   "execution_count": 41,
   "metadata": {
    "hideCode": false,
    "hidePrompt": false
   },
   "outputs": [],
   "source": [
    "%load_ext nbtutor"
   ]
  },
  {
   "cell_type": "code",
   "execution_count": null,
   "metadata": {
    "hideCode": false,
    "hidePrompt": false
   },
   "outputs": [],
   "source": [
    "%%nbtutor -r -f\n",
    "import numpy as np\n",
    "from bqplot import pyplot as plt\n",
    "\n",
    "plt.figure(1, title='Line Chart')\n",
    "np.random.seed(0)\n",
    "n = 200\n",
    "x = np.linspace(0.0, 10.0, n)\n",
    "y = np.cumsum(np.random.randn(n))\n",
    "plt.plot(x, y)\n",
    "plt.show()"
   ]
  },
  {
   "cell_type": "code",
   "execution_count": 48,
   "metadata": {
    "hideCode": false,
    "hidePrompt": false
   },
   "outputs": [
    {
     "name": "stderr",
     "output_type": "stream",
     "text": [
      "--2018-12-13 20:29:35--  https://raw.githubusercontent.com/merqurio/jupyter_themes/master/theme_selector.js\n",
      "Resolving raw.githubusercontent.com (raw.githubusercontent.com)... 151.101.248.133\n",
      "Connecting to raw.githubusercontent.com (raw.githubusercontent.com)|151.101.248.133|:443... connected.\n",
      "HTTP request sent, awaiting response... 200 OK\n",
      "Length: 10155 (9.9K) [text/plain]\n",
      "Saving to: ‘theme_selector.js’\n",
      "\n",
      "     0K .........                                             100% 52.8M=0s\n",
      "\n",
      "2018-12-13 20:29:35 (52.8 MB/s) - ‘theme_selector.js’ saved [10155/10155]\n",
      "\n",
      "Enabling notebook extension jupyter_themes/theme_selector...\n",
      "      - Validating: \u001b[32mOK\u001b[0m\n"
     ]
    }
   ],
   "source": [
    "%%bash\n",
    "mkdir -p $(jupyter --data-dir)/nbextensions\n",
    "cd $(jupyter --data-dir)/nbextensions\n",
    "mkdir jupyter_themes && cd jupyter_themes\n",
    "wget https://raw.githubusercontent.com/merqurio/jupyter_themes/master/theme_selector.js\n",
    "cd ../ && jupyter nbextension enable jupyter_themes/theme_selector"
   ]
  },
  {
   "cell_type": "code",
   "execution_count": 23,
   "metadata": {},
   "outputs": [
    {
     "name": "stdout",
     "output_type": "stream",
     "text": [
      "/root/.local/share/jupyter/nbextensions\r\n"
     ]
    }
   ],
   "source": [
    "!echo $(jupyter --data-dir)/nbextensions"
   ]
  },
  {
   "cell_type": "code",
   "execution_count": 49,
   "metadata": {
    "hideCode": false,
    "hidePrompt": false
   },
   "outputs": [
    {
     "name": "stdout",
     "output_type": "stream",
     "text": [
      "Collecting nbinteract\n",
      "\u001b[31m  Could not find a version that satisfies the requirement nbinteract (from versions: )\u001b[0m\n",
      "\u001b[31mNo matching distribution found for nbinteract\u001b[0m\n"
     ]
    }
   ],
   "source": [
    "!pip install nbinteract"
   ]
  },
  {
   "cell_type": "markdown",
   "metadata": {
    "hideCode": false,
    "hidePrompt": false
   },
   "source": [
    "### https://github.com/niloch/iplotter"
   ]
  },
  {
   "cell_type": "code",
   "execution_count": null,
   "metadata": {
    "hideCode": false,
    "hidePrompt": false
   },
   "outputs": [],
   "source": [
    "!pip install iplotter"
   ]
  },
  {
   "cell_type": "code",
   "execution_count": 53,
   "metadata": {
    "hideCode": false,
    "hidePrompt": false
   },
   "outputs": [
    {
     "data": {
      "text/html": [
       "<iframe srcdoc=\"\n",
       "        <!-- Load c3.css -->\n",
       "        <link href='https://cdnjs.cloudflare.com/ajax/libs/c3/0.4.10/c3.min.css' rel='stylesheet' type='text/css'/>\n",
       "\n",
       "        <!-- Load d3.js and c3.js -->\n",
       "        <script src='http://d3js.org/d3.v3.min.js' charset='utf-8'></script>\n",
       "        <script src='http://cdnjs.cloudflare.com/ajax/libs/c3/0.4.10/c3.min.js'></script>\n",
       "\n",
       "    \n",
       "        <div id=chart style='width: 100%; height: 100%'></div>\n",
       "        <script>\n",
       "            var chart = document.getElementById('chart');\n",
       "            var data = {\n",
       "    'data': {\n",
       "        'groups': [\n",
       "            [\n",
       "                'data1', \n",
       "                'data2', \n",
       "                'data3'\n",
       "            ]\n",
       "        ], \n",
       "        'types': {\n",
       "            'data1': 'area-spline', \n",
       "            'data3': 'area-spline', \n",
       "            'data2': 'area-spline'\n",
       "        }, \n",
       "        'columns': [\n",
       "            [\n",
       "                'data1', \n",
       "                300, \n",
       "                350, \n",
       "                300, \n",
       "                0, \n",
       "                0, \n",
       "                120\n",
       "            ], \n",
       "            [\n",
       "                'data2', \n",
       "                130, \n",
       "                100, \n",
       "                140, \n",
       "                200, \n",
       "                150, \n",
       "                50\n",
       "            ], \n",
       "            [\n",
       "                'data3', \n",
       "                180, \n",
       "                75, \n",
       "                265, \n",
       "                100, \n",
       "                50, \n",
       "                100\n",
       "            ]\n",
       "        ]\n",
       "    }\n",
       "};\n",
       "            data['bindto']='#chart'\n",
       "            c3.generate(data);\n",
       "        </script>\n",
       "    \" src=\"\" width=\"800\" height=\"420\" frameborder=0 sandbox=\"allow-scripts\"></iframe>"
      ],
      "text/plain": [
       "<IPython.core.display.HTML object>"
      ]
     },
     "execution_count": 53,
     "metadata": {},
     "output_type": "execute_result"
    }
   ],
   "source": [
    "from iplotter import C3Plotter\n",
    "\n",
    "plotter = C3Plotter()\n",
    "\n",
    "chart = {\n",
    "    \"data\": {\n",
    "        \"columns\": [\n",
    "            ['data1', 300, 350, 300, 0, 0, 120],\n",
    "            ['data2', 130, 100, 140, 200, 150, 50],\n",
    "            ['data3', 180, 75, 265, 100, 50, 100]\n",
    "        ],\n",
    "        \"types\": {\n",
    "            \"data1\": 'area-spline',\n",
    "            \"data2\": 'area-spline',\n",
    "            \"data3\": 'area-spline'\n",
    "        },\n",
    "        \"groups\": [['data1', 'data2', 'data3']]\n",
    "    }\n",
    "}\n",
    "\n",
    "plotter.plot(chart)"
   ]
  },
  {
   "cell_type": "code",
   "execution_count": 54,
   "metadata": {
    "hideCode": false,
    "hidePrompt": false
   },
   "outputs": [
    {
     "data": {
      "text/html": [
       "\n",
       "        <iframe\n",
       "            width=\"600\"\n",
       "            height=\"600\"\n",
       "            src=\"heatmap1.html\"\n",
       "            frameborder=\"0\"\n",
       "            allowfullscreen\n",
       "        ></iframe>\n",
       "        "
      ],
      "text/plain": [
       "<IPython.lib.display.IFrame at 0x7fb69d909990>"
      ]
     },
     "execution_count": 54,
     "metadata": {},
     "output_type": "execute_result"
    }
   ],
   "source": [
    "from iplotter import PlotlyPlotter\n",
    "\n",
    "plotter = PlotlyPlotter()\n",
    "\n",
    "data = [\n",
    "    {\n",
    "        'colorscale': 'YIGnBu',\n",
    "        'reversescale': True,\n",
    "        'type': 'heatmap',\n",
    "        'x': ['class1', 'class2', 'class3'],\n",
    "        'y': ['class1', 'class2', 'class3'],\n",
    "        'z': [[0.7,  0.2,  0.1],\n",
    "              [0.2,  0.7,  0.1],\n",
    "              [0.15,  0.27,  0.56]]\n",
    "    }\n",
    "]\n",
    "\n",
    "layout = {\n",
    "    \"title\": 'Title',\n",
    "    \"xaxis\": {\n",
    "        \"tickangle\": -45\n",
    "    },\n",
    "}\n",
    "\n",
    "plotter.plot_and_save(data, layout=layout, w=600, h=600, filename='heatmap1', overwrite=True)"
   ]
  },
  {
   "cell_type": "code",
   "execution_count": 55,
   "metadata": {
    "hideCode": false,
    "hidePrompt": false
   },
   "outputs": [
    {
     "data": {
      "text/html": [
       "\n",
       "        <iframe\n",
       "            width=\"800\"\n",
       "            height=\"420\"\n",
       "            src=\"chart.html\"\n",
       "            frameborder=\"0\"\n",
       "            allowfullscreen\n",
       "        ></iframe>\n",
       "        "
      ],
      "text/plain": [
       "<IPython.lib.display.IFrame at 0x7fb69d9099d0>"
      ]
     },
     "execution_count": 55,
     "metadata": {},
     "output_type": "execute_result"
    }
   ],
   "source": [
    "from iplotter import ChartJSPlotter\n",
    "\n",
    "plotter = ChartJSPlotter()\n",
    "\n",
    "data = {\n",
    "    \"labels\": [\"Eating\", \"Drinking\", \"Sleeping\", \"Designing\", \"Coding\",\n",
    "               \"Cycling\", \"Running\"],\n",
    "    \"datasets\": [\n",
    "        {\n",
    "            \"label\": \"Trace 1\",\n",
    "            \"backgroundColor\": \"rgba(179,181,198,0.2)\",\n",
    "            \"borderColor\": \"rgba(179,181,198,1)\",\n",
    "            \"pointBackgroundColor\": \"rgba(179,181,198,1)\",\n",
    "            \"pointBorderColor\": \"#fff\",\n",
    "            \"pointHoverBackgroundColor\": \"#fff\",\n",
    "            \"pointHoverBorderColor\": \"rgba(179,181,198,1)\",\n",
    "            \"data\": [65, 59, 30, 81, 56, 55, 40]\n",
    "        }, {\n",
    "            \"label\": \"Trace 2\",\n",
    "            \"backgroundColor\": \"rgba(255,99,132,0.2)\",\n",
    "            \"borderColor\": \"rgba(255,99,132,1)\",\n",
    "            \"pointBackgroundColor\": \"rgba(255,99,132,1)\",\n",
    "            \"pointBorderColor\": \"#fff\",\n",
    "            \"pointHoverBackgroundColor\": \"#fff\",\n",
    "            \"pointHoverBorderColor\": \"rgba(255,99,132,1)\",\n",
    "            \"data\": [28, 48, 40, 19, 96, 27, 100]\n",
    "        }\n",
    "    ]\n",
    "}\n",
    "\n",
    "plotter.plot_and_save(data, 'radar', options=None)"
   ]
  },
  {
   "cell_type": "code",
   "execution_count": 57,
   "metadata": {
    "hideCode": false,
    "hidePrompt": false
   },
   "outputs": [],
   "source": [
    "from iplotter import ChartistPlotter\n",
    "\n",
    "plotter = ChartistPlotter()\n",
    "\n",
    "data = {\n",
    "    \"labels\": [1, 2, 3, 4, 5, 6, 7, 8],\n",
    "    \"series\": [\n",
    "        [1, 2, 3, 1, -2, 0, 1, 0], [-2, -1, -2, -1, -2.5, -1, -2, -1],\n",
    "        [0, 0, 0, 1, 2, 2.5, 2, 1], [2.5, 2, 1, 0.5, 1, 0.5, -1, -2.5]\n",
    "    ]\n",
    "}\n",
    "options = {\n",
    "    \"high\": 4,\n",
    "    \"low\": -3,\n",
    "    \"showArea\": True,\n",
    "    \"showLine\": False,\n",
    "    \"showPoint\": False,\n",
    "    \"height\": 420,\n",
    "    \"width\": 700\n",
    "}\n",
    "\n",
    "plotter.save(data, chart_type=\"Line\", options=options)"
   ]
  },
  {
   "cell_type": "code",
   "execution_count": null,
   "metadata": {
    "hideCode": false,
    "hidePrompt": false
   },
   "outputs": [],
   "source": [
    "!pip install hide_code\n",
    "!jupyter nbextension install --py hide_code\n",
    "!jupyter nbextension enable --py hide_code\n",
    "!jupyter serverextension enable --py hide_code"
   ]
  },
  {
   "cell_type": "code",
   "execution_count": null,
   "metadata": {},
   "outputs": [],
   "source": [
    "!pip install vpython"
   ]
  },
  {
   "cell_type": "code",
   "execution_count": 69,
   "metadata": {
    "run_control": {
     "marked": false
    }
   },
   "outputs": [
    {
     "data": {
      "text/html": [
       "<div id=\"glowscript\" class=\"glowscript\"></div>"
      ],
      "text/plain": [
       "<IPython.core.display.HTML object>"
      ]
     },
     "metadata": {},
     "output_type": "display_data"
    },
    {
     "data": {
      "application/javascript": [
       "if (typeof Jupyter !== \"undefined\") { window.__context = { glowscript_container: $(\"#glowscript\").removeAttr(\"id\")};}else{ element.textContent = ' ';}"
      ],
      "text/plain": [
       "<IPython.core.display.Javascript object>"
      ]
     },
     "metadata": {},
     "output_type": "display_data"
    },
    {
     "ename": "KeyboardInterrupt",
     "evalue": "",
     "output_type": "error",
     "traceback": [
      "\u001b[0;31m\u001b[0m",
      "\u001b[0;31mKeyboardInterrupt\u001b[0mTraceback (most recent call last)",
      "\u001b[0;32m<ipython-input-69-b27573d38242>\u001b[0m in \u001b[0;36m<module>\u001b[0;34m()\u001b[0m\n\u001b[1;32m     16\u001b[0m \u001b[0mdt\u001b[0m \u001b[0;34m=\u001b[0m \u001b[0;36m1e5\u001b[0m\u001b[0;34m\u001b[0m\u001b[0m\n\u001b[1;32m     17\u001b[0m \u001b[0;32mwhile\u001b[0m \u001b[0mTrue\u001b[0m\u001b[0;34m:\u001b[0m\u001b[0;34m\u001b[0m\u001b[0m\n\u001b[0;32m---> 18\u001b[0;31m     \u001b[0mrate\u001b[0m\u001b[0;34m(\u001b[0m\u001b[0;36m200\u001b[0m\u001b[0;34m)\u001b[0m\u001b[0;34m\u001b[0m\u001b[0m\n\u001b[0m\u001b[1;32m     19\u001b[0m     \u001b[0mr\u001b[0m \u001b[0;34m=\u001b[0m \u001b[0mdwarf\u001b[0m\u001b[0;34m.\u001b[0m\u001b[0mpos\u001b[0m \u001b[0;34m-\u001b[0m \u001b[0mgiant\u001b[0m\u001b[0;34m.\u001b[0m\u001b[0mpos\u001b[0m\u001b[0;34m\u001b[0m\u001b[0m\n\u001b[1;32m     20\u001b[0m     \u001b[0mF\u001b[0m \u001b[0;34m=\u001b[0m \u001b[0mG\u001b[0m \u001b[0;34m*\u001b[0m \u001b[0mgiant\u001b[0m\u001b[0;34m.\u001b[0m\u001b[0mmass\u001b[0m \u001b[0;34m*\u001b[0m \u001b[0mdwarf\u001b[0m\u001b[0;34m.\u001b[0m\u001b[0mmass\u001b[0m \u001b[0;34m*\u001b[0m \u001b[0mnorm\u001b[0m\u001b[0;34m(\u001b[0m\u001b[0mr\u001b[0m\u001b[0;34m)\u001b[0m \u001b[0;34m/\u001b[0m \u001b[0mmag2\u001b[0m\u001b[0;34m(\u001b[0m\u001b[0mr\u001b[0m\u001b[0;34m)\u001b[0m\u001b[0;34m\u001b[0m\u001b[0m\n",
      "\u001b[0;32m/opt/anaconda2/lib/python2.7/site-packages/vpython/vpython.pyc\u001b[0m in \u001b[0;36m__call__\u001b[0;34m(self, N)\u001b[0m\n\u001b[1;32m    214\u001b[0m         \u001b[0mself\u001b[0m\u001b[0;34m.\u001b[0m\u001b[0mrval\u001b[0m \u001b[0;34m=\u001b[0m \u001b[0mN\u001b[0m\u001b[0;34m\u001b[0m\u001b[0m\n\u001b[1;32m    215\u001b[0m         \u001b[0;32mif\u001b[0m \u001b[0mself\u001b[0m\u001b[0;34m.\u001b[0m\u001b[0mrval\u001b[0m \u001b[0;34m<\u001b[0m \u001b[0;36m1\u001b[0m\u001b[0;34m:\u001b[0m \u001b[0;32mraise\u001b[0m \u001b[0mValueError\u001b[0m\u001b[0;34m(\u001b[0m\u001b[0;34m\"rate value must be greater than or equal to 1\"\u001b[0m\u001b[0;34m)\u001b[0m\u001b[0;34m\u001b[0m\u001b[0m\n\u001b[0;32m--> 216\u001b[0;31m         \u001b[0msuper\u001b[0m\u001b[0;34m(\u001b[0m\u001b[0m_RateKeeper2\u001b[0m\u001b[0;34m,\u001b[0m \u001b[0mself\u001b[0m\u001b[0;34m)\u001b[0m\u001b[0;34m.\u001b[0m\u001b[0m__call__\u001b[0m\u001b[0;34m(\u001b[0m\u001b[0mself\u001b[0m\u001b[0;34m.\u001b[0m\u001b[0mrval\u001b[0m\u001b[0;34m)\u001b[0m \u001b[0;31m## calls __call__ in rate_control.py\u001b[0m\u001b[0;34m\u001b[0m\u001b[0m\n\u001b[0m\u001b[1;32m    217\u001b[0m \u001b[0;34m\u001b[0m\u001b[0m\n\u001b[1;32m    218\u001b[0m \u001b[0;32mif\u001b[0m \u001b[0msys\u001b[0m\u001b[0;34m.\u001b[0m\u001b[0mversion\u001b[0m \u001b[0;34m>\u001b[0m \u001b[0;34m'3'\u001b[0m\u001b[0;34m:\u001b[0m\u001b[0;34m\u001b[0m\u001b[0m\n",
      "\u001b[0;32m/opt/anaconda2/lib/python2.7/site-packages/vpython/rate_control.pyc\u001b[0m in \u001b[0;36m__call__\u001b[0;34m(self, maxRate)\u001b[0m\n\u001b[1;32m    205\u001b[0m             \u001b[0mdt\u001b[0m \u001b[0;34m=\u001b[0m \u001b[0mself\u001b[0m\u001b[0;34m.\u001b[0m\u001b[0mlastSleep\u001b[0m \u001b[0;34m+\u001b[0m \u001b[0mself\u001b[0m\u001b[0;34m.\u001b[0m\u001b[0mcalls\u001b[0m\u001b[0;34m*\u001b[0m\u001b[0;34m(\u001b[0m\u001b[0mself\u001b[0m\u001b[0;34m.\u001b[0m\u001b[0muserTime\u001b[0m \u001b[0;34m+\u001b[0m \u001b[0mself\u001b[0m\u001b[0;34m.\u001b[0m\u001b[0mcallTime\u001b[0m \u001b[0;34m+\u001b[0m \u001b[0mself\u001b[0m\u001b[0;34m.\u001b[0m\u001b[0mdelay\u001b[0m\u001b[0;34m)\u001b[0m \u001b[0;34m+\u001b[0m\u001b[0;31m \u001b[0m\u001b[0;31m\\\u001b[0m\u001b[0;34m\u001b[0m\u001b[0m\n\u001b[1;32m    206\u001b[0m                  \u001b[0mrenders\u001b[0m\u001b[0;34m*\u001b[0m\u001b[0mself\u001b[0m\u001b[0;34m.\u001b[0m\u001b[0mrenderTime\u001b[0m \u001b[0;34m+\u001b[0m \u001b[0msleeps\u001b[0m\u001b[0;34m*\u001b[0m\u001b[0mself\u001b[0m\u001b[0;34m.\u001b[0m\u001b[0minteractionPeriod\u001b[0m \u001b[0;34m-\u001b[0m \u001b[0m_clock\u001b[0m\u001b[0;34m(\u001b[0m\u001b[0;34m)\u001b[0m\u001b[0;34m\u001b[0m\u001b[0m\n\u001b[0;32m--> 207\u001b[0;31m             \u001b[0m_sleep\u001b[0m\u001b[0;34m(\u001b[0m\u001b[0mdt\u001b[0m\u001b[0;34m)\u001b[0m\u001b[0;34m\u001b[0m\u001b[0m\n\u001b[0m\u001b[1;32m    208\u001b[0m             \u001b[0mself\u001b[0m\u001b[0;34m.\u001b[0m\u001b[0mlastSleep\u001b[0m \u001b[0;34m=\u001b[0m \u001b[0m_clock\u001b[0m\u001b[0;34m(\u001b[0m\u001b[0;34m)\u001b[0m\u001b[0;34m\u001b[0m\u001b[0m\n\u001b[1;32m    209\u001b[0m             \u001b[0mself\u001b[0m\u001b[0;34m.\u001b[0m\u001b[0mcalls\u001b[0m \u001b[0;34m=\u001b[0m \u001b[0;36m0\u001b[0m\u001b[0;34m\u001b[0m\u001b[0m\n",
      "\u001b[0;32m/opt/anaconda2/lib/python2.7/site-packages/vpython/rate_control.pyc\u001b[0m in \u001b[0;36m_sleep\u001b[0;34m(dt)\u001b[0m\n\u001b[1;32m     47\u001b[0m         \u001b[0mdtsleep\u001b[0m \u001b[0;34m=\u001b[0m \u001b[0mnticks\u001b[0m\u001b[0;34m*\u001b[0m\u001b[0m_tick\u001b[0m\u001b[0;34m\u001b[0m\u001b[0m\n\u001b[1;32m     48\u001b[0m         \u001b[0mt\u001b[0m \u001b[0;34m=\u001b[0m \u001b[0m_clock\u001b[0m\u001b[0;34m(\u001b[0m\u001b[0;34m)\u001b[0m\u001b[0;34m\u001b[0m\u001b[0m\n\u001b[0;32m---> 49\u001b[0;31m         \u001b[0mtime\u001b[0m\u001b[0;34m.\u001b[0m\u001b[0msleep\u001b[0m\u001b[0;34m(\u001b[0m\u001b[0mdtsleep\u001b[0m\u001b[0;34m)\u001b[0m\u001b[0;34m\u001b[0m\u001b[0m\n\u001b[0m\u001b[1;32m     50\u001b[0m         \u001b[0mt\u001b[0m \u001b[0;34m=\u001b[0m \u001b[0m_clock\u001b[0m\u001b[0;34m(\u001b[0m\u001b[0;34m)\u001b[0m\u001b[0;34m-\u001b[0m\u001b[0mt\u001b[0m\u001b[0;34m\u001b[0m\u001b[0m\n\u001b[1;32m     51\u001b[0m         \u001b[0mdt\u001b[0m \u001b[0;34m-=\u001b[0m \u001b[0mt\u001b[0m\u001b[0;34m\u001b[0m\u001b[0m\n",
      "\u001b[0;31mKeyboardInterrupt\u001b[0m: "
     ]
    }
   ],
   "source": [
    "from vpython import *\n",
    "scene = canvas() # This is needed in Jupyter notebook and lab to make programs easily rerunnable\n",
    "G = 6.7e-11\n",
    "scene.forward = vec(0,-.3,-1)\n",
    "\n",
    "giant = sphere(pos=vector(-1e11,0,0), radius=2e10, color=color.red, \n",
    "                make_trail=True, trail_type='points', interval=10, retain=20)\n",
    "giant.mass = 2e30\n",
    "giant.p = vector(0, 0, -1e4) * giant.mass\n",
    "\n",
    "dwarf = sphere(pos=vector(1.5e11,0,0), radius=1e10, color=color.yellow,\n",
    "                make_trail=True, retain=40)\n",
    "dwarf.mass = 1e30\n",
    "dwarf.p = -giant.p\n",
    "\n",
    "dt = 1e5\n",
    "while True:\n",
    "    rate(200)\n",
    "    r = dwarf.pos - giant.pos\n",
    "    F = G * giant.mass * dwarf.mass * norm(r) / mag2(r)\n",
    "    giant.p = giant.p + F*dt\n",
    "    dwarf.p = dwarf.p - F*dt\n",
    "    giant.pos = giant.pos + (giant.p/giant.mass) * dt\n",
    "    dwarf.pos = dwarf.pos + (dwarf.p/dwarf.mass) * dt"
   ]
  },
  {
   "cell_type": "markdown",
   "metadata": {},
   "source": [
    "### https://github.com/sat28/githubcommit"
   ]
  },
  {
   "cell_type": "code",
   "execution_count": null,
   "metadata": {},
   "outputs": [],
   "source": [
    "!pip install git+https://github.com/sat28/githubcommit.git\n",
    "!jupyter serverextension enable --py githubcommit\n",
    "!jupyter nbextension install --py githubcommit\n",
    "!jupyter nbextension enable githubcommit --py"
   ]
  },
  {
   "cell_type": "code",
   "execution_count": null,
   "metadata": {},
   "outputs": [],
   "source": [
    "!pip install ipyannotate\n",
    "!jupyter nbextension enable --py --sys-prefix ipyannotate"
   ]
  },
  {
   "cell_type": "code",
   "execution_count": null,
   "metadata": {},
   "outputs": [],
   "source": [
    "!pip install pandoc"
   ]
  },
  {
   "cell_type": "code",
   "execution_count": null,
   "metadata": {},
   "outputs": [],
   "source": [
    "!pip install gnuplot_kernel\n",
    "!python -m gnuplot_kernel install --user"
   ]
  },
  {
   "cell_type": "code",
   "execution_count": 86,
   "metadata": {},
   "outputs": [
    {
     "name": "stdout",
     "output_type": "stream",
     "text": [
      "The gnuplot_kernel extension is already loaded. To reload it, use:\n",
      "  %reload_ext gnuplot_kernel\n"
     ]
    }
   ],
   "source": [
    "import numpy as np\n",
    "import matplotlib.pyplot as plt\n",
    "\n",
    "# inline plots for matplotlib\n",
    "%matplotlib inline\n",
    "\n",
    "# This loads the magics for gnuplot\n",
    "%load_ext gnuplot_kernel"
   ]
  },
  {
   "cell_type": "code",
   "execution_count": 91,
   "metadata": {},
   "outputs": [],
   "source": [
    "%reload_ext gnuplot_kernel"
   ]
  },
  {
   "cell_type": "code",
   "execution_count": 88,
   "metadata": {},
   "outputs": [
    {
     "data": {
      "image/png": "[encoded data removed]",
      "text/plain": [
       "<Figure size 432x288 with 1 Axes>"
      ]
     },
     "metadata": {
      "needs_background": "light"
     },
     "output_type": "display_data"
    }
   ],
   "source": [
    "np.random.seed(123)\n",
    "\n",
    "N = 50\n",
    "x = np.random.rand(N)\n",
    "y = np.random.rand(N)\n",
    "colors = np.random.rand(N)\n",
    "area = np.pi * (15 * np.random.rand(N))**2  # 0 to 15 point radii\n",
    "\n",
    "plt.scatter(x, y, s=area, c=colors, alpha=0.5)\n",
    "plt.show()"
   ]
  },
  {
   "cell_type": "code",
   "execution_count": null,
   "metadata": {},
   "outputs": [],
   "source": [
    "!pip install metakernel --upgrade"
   ]
  },
  {
   "cell_type": "code",
   "execution_count": 93,
   "metadata": {},
   "outputs": [],
   "source": [
    "%gnuplot inline"
   ]
  },
  {
   "cell_type": "code",
   "execution_count": 95,
   "metadata": {},
   "outputs": [
    {
     "data": {
      "text/plain": [
       "plot [-10:10] sin(x),atan(x),cos(atan(x))\n",
       "     ^\n",
       "use 'set term' to set terminal type first\n"
      ]
     },
     "metadata": {},
     "output_type": "display_data"
    }
   ],
   "source": [
    "%%gnuplot\n",
    "set title \"Simple Plots\" font \",20\"\n",
    "set key left box\n",
    "set samples 50\n",
    "set style data points\n",
    "\n",
    "plot [-10:10] sin(x),atan(x),cos(atan(x))"
   ]
  },
  {
   "cell_type": "code",
   "execution_count": 82,
   "metadata": {},
   "outputs": [
    {
     "data": {
      "text/plain": [
       "plot cos(x)\n",
       "     ^\n",
       "use 'set term' to set terminal type first\n"
      ]
     },
     "metadata": {},
     "output_type": "display_data"
    }
   ],
   "source": [
    "%%gnuplot\n",
    "plot cos(x)"
   ]
  },
  {
   "cell_type": "code",
   "execution_count": 83,
   "metadata": {
    "run_control": {
     "marked": false
    }
   },
   "outputs": [
    {
     "ename": "SyntaxError",
     "evalue": "invalid syntax (<ipython-input-83-d18f8b5e93c4>, line 2)",
     "output_type": "error",
     "traceback": [
      "\u001b[0;36m  File \u001b[0;32m\"<ipython-input-83-d18f8b5e93c4>\"\u001b[0;36m, line \u001b[0;32m2\u001b[0m\n\u001b[0;31m    plot a=1, g(x),      a=2, g(x)\u001b[0m\n\u001b[0m         ^\u001b[0m\n\u001b[0;31mSyntaxError\u001b[0m\u001b[0;31m:\u001b[0m invalid syntax\n"
     ]
    }
   ],
   "source": [
    "g(x) = cos(a*x)/a\n",
    "plot a=1, g(x), \\\n",
    "     a=2, g(x)"
   ]
  },
  {
   "cell_type": "code",
   "execution_count": null,
   "metadata": {},
   "outputs": [],
   "source": [
    "!pip install fileupload\n",
    "!jupyter nbextension install --py fileupload\n",
    "!jupyter nbextension enable fileupload --py"
   ]
  },
  {
   "cell_type": "code",
   "execution_count": 6,
   "metadata": {},
   "outputs": [
    {
     "data": {
      "application/vnd.jupyter.widget-view+json": {
       "model_id": "efdf5fea63054e43a8cb425f96364100",
       "version_major": 2,
       "version_minor": 0
      },
      "text/plain": [
       "FileUploadWidget(label=u'Browse', _dom_classes=(u'widget_item', u'btn-group'))"
      ]
     },
     "metadata": {},
     "output_type": "display_data"
    },
    {
     "name": "stdout",
     "output_type": "stream",
     "text": [
      "Uploaded `try-01-12.html` (5492.00 kB)\n"
     ]
    }
   ],
   "source": [
    "import io\n",
    "from IPython.display import display\n",
    "import fileupload\n",
    "\n",
    "def _upload():\n",
    "\n",
    "    _upload_widget = fileupload.FileUploadWidget()\n",
    "\n",
    "    def _cb(change):\n",
    "        decoded = io.StringIO(change['owner'].data.decode('utf-8'))\n",
    "        filename = change['owner'].filename\n",
    "        print('Uploaded `{}` ({:.2f} kB)'.format(\n",
    "            filename, len(decoded.read()) / 2 **10))\n",
    "\n",
    "    _upload_widget.observe(_cb, names='data')\n",
    "    display(_upload_widget)\n",
    "\n",
    "_upload()"
   ]
  },
  {
   "cell_type": "code",
   "execution_count": 9,
   "metadata": {},
   "outputs": [
    {
     "data": {
      "application/vnd.jupyter.widget-view+json": {
       "model_id": "ef161bf2b9a2402a9aed8647b59a79d8",
       "version_major": 2,
       "version_minor": 0
      },
      "text/plain": [
       "VkJveChjaGlsZHJlbj0oSFRNTCh2YWx1ZT11JzxoMj4vcm9vdC9ub3RlYm9va3M8L2gyPicpLCBCdXR0b24oZGVzY3JpcHRpb249dScuLicsIHN0eWxlPUJ1dHRvblN0eWxlKCkpLCBCdXR0b27igKY=\n"
      ]
     },
     "metadata": {},
     "output_type": "display_data"
    }
   ],
   "source": [
    "import os\n",
    "\n",
    "import ipywidgets as widgets\n",
    "\n",
    "\n",
    "class FileBrowser(object):\n",
    "    def __init__(self):\n",
    "        self.path = os.getcwd()\n",
    "        self._update_files()\n",
    "        \n",
    "    def _update_files(self):\n",
    "        self.files = list()\n",
    "        self.dirs = list()\n",
    "        if(os.path.isdir(self.path)):\n",
    "            for f in os.listdir(self.path):\n",
    "                ff = self.path + \"/\" + f\n",
    "                if os.path.isdir(ff):\n",
    "                    self.dirs.append(f)\n",
    "                else:\n",
    "                    self.files.append(f)\n",
    "        \n",
    "    def widget(self):\n",
    "        box = widgets.VBox()\n",
    "        self._update(box)\n",
    "        return box\n",
    "    \n",
    "    def _update(self, box):\n",
    "        \n",
    "        def on_click(b):\n",
    "            if b.description == '..':\n",
    "                self.path = os.path.split(self.path)[0]\n",
    "            else:\n",
    "                self.path = self.path + \"/\" + b.description\n",
    "            self._update_files()\n",
    "            self._update(box)\n",
    "        \n",
    "        buttons = []\n",
    "        if self.files:\n",
    "            button = widgets.Button(description='..', background_color='#d0d0ff')\n",
    "            button.on_click(on_click)\n",
    "            buttons.append(button)\n",
    "        for f in self.dirs:\n",
    "            button = widgets.Button(description=f, background_color='#d0d0ff')\n",
    "            button.on_click(on_click)\n",
    "            buttons.append(button)\n",
    "        for f in self.files:\n",
    "            button = widgets.Button(description=f)\n",
    "            button.on_click(on_click)\n",
    "            buttons.append(button)\n",
    "        box.children = tuple([widgets.HTML(\"<h2>%s</h2>\" % (self.path,))] + buttons)\n",
    "\n",
    "# example usage:\n",
    "f = FileBrowser()\n",
    "f.widget()"
   ]
  },
  {
   "cell_type": "code",
   "execution_count": 10,
   "metadata": {},
   "outputs": [
    {
     "data": {
      "text/plain": [
       "u'/root/notebooks/heatmap1.html'"
      ]
     },
     "execution_count": 10,
     "metadata": {},
     "output_type": "execute_result"
    }
   ],
   "source": [
    "#   <interact with widget, select a path>\n",
    "# in a separate cell:\n",
    "f.path"
   ]
  },
  {
   "cell_type": "code",
   "execution_count": 11,
   "metadata": {},
   "outputs": [
    {
     "name": "stdout",
     "output_type": "stream",
     "text": [
      "Solving environment: / ^C\n",
      "failed\n",
      "\n",
      "CondaError: KeyboardInterrupt\n",
      "\n"
     ]
    }
   ],
   "source": [
    "!conda install nb_conda"
   ]
  },
  {
   "cell_type": "markdown",
   "metadata": {},
   "source": [
    "# Spreadsheet widget for the Jupyter Notebook\n",
    "## Installation\n",
    "\n",
    "To install use pip:\n",
    "\n",
    "```\n",
    "$ pip install ipysheet\n",
    "```\n",
    "\n",
    "To make it work for Jupyter lab:\n",
    "```\n",
    "$ jupyter labextension ipysheet\n",
    "```\n",
    "\n",
    "If you have notebook 5.2 or below, you also need to execute:\n",
    "```\n",
    "$ jupyter nbextension enable --py --sys-prefix ipysheet\n",
    "$ jupyter nbextension enable --py --sys-prefix ipysheet.renderer_nbext\n",
    "```"
   ]
  },
  {
   "cell_type": "code",
   "execution_count": null,
   "metadata": {},
   "outputs": [],
   "source": [
    "!pip install ipysheet\n",
    "!jupyter nbextension enable --py --sys-prefix ipysheet\n",
    "!jupyter nbextension enable --py --sys-prefix ipysheet.renderer_nbext"
   ]
  },
  {
   "cell_type": "code",
   "execution_count": 14,
   "metadata": {},
   "outputs": [
    {
     "data": {
      "application/vnd.jupyter.widget-view+json": {
       "model_id": "8dda4317a18842429f95897f863d1937",
       "version_major": 2,
       "version_minor": 0
      },
      "text/plain": [
       "Sheet(columns=5, data=[[]], rows=5)"
      ]
     },
     "metadata": {},
     "output_type": "display_data"
    }
   ],
   "source": [
    "import ipysheet\n",
    "sheet = ipysheet.sheet()\n",
    "sheet"
   ]
  },
  {
   "cell_type": "code",
   "execution_count": 15,
   "metadata": {},
   "outputs": [
    {
     "data": {
      "application/vnd.jupyter.widget-view+json": {
       "model_id": "74d790ffadac4f9d897310a074121b22",
       "version_major": 2,
       "version_minor": 0
      },
      "text/plain": [
       "U2hlZXQoY2VsbHM9KENlbGwoY29sdW1uX2VuZD0wLCBjb2x1bW5fc3RhcnQ9MCwgcm93X2VuZD0wLCByb3dfc3RhcnQ9MCwgdHlwZT11J3RleHQnLCB2YWx1ZT0nSGVsbG8nKSwgQ2VsbChjb2zigKY=\n"
      ]
     },
     "metadata": {},
     "output_type": "display_data"
    }
   ],
   "source": [
    "sheet = ipysheet.sheet(rows=3, columns=4)\n",
    "cell1 = ipysheet.cell(0, 0, 'Hello')\n",
    "cell2 = ipysheet.cell(2, 0, 'World')\n",
    "cell_value = ipysheet.cell(2,2, 42.)\n",
    "sheet"
   ]
  },
  {
   "cell_type": "code",
   "execution_count": 16,
   "metadata": {},
   "outputs": [
    {
     "data": {
      "application/vnd.jupyter.widget-view+json": {
       "model_id": "dd856749650a4ad5aed2aab4977a7044",
       "version_major": 2,
       "version_minor": 0
      },
      "text/plain": [
       "VkJveChjaGlsZHJlbj0oU2hlZXQoY2VsbHM9KENlbGwoY29sdW1uX2VuZD0xLCBjb2x1bW5fc3RhcnQ9MSwgcm93X2VuZD0wLCByb3dfc3RhcnQ9MCwgdHlwZT11J251bWVyaWMnLCB2YWx1ZT3igKY=\n"
      ]
     },
     "metadata": {},
     "output_type": "display_data"
    }
   ],
   "source": [
    "import ipywidgets as widgets\n",
    "sheet = ipysheet.sheet(rows=3, columns=2, column_headers=False, row_headers=False)\n",
    "cell_a = ipysheet.cell(0, 1, 1, label_left='a')\n",
    "cell_b = ipysheet.cell(1, 1, 2, label_left='b')\n",
    "cell_sum = ipysheet.cell(2, 1, 3, label_left='sum', read_only=True)\n",
    "\n",
    "# create a slider linked to cell a\n",
    "slider = widgets.FloatSlider(min=-10, max=10, description='a')\n",
    "widgets.jslink((cell_a, 'value'), (slider, 'value'))\n",
    "\n",
    "# changes in a or b should trigger this function\n",
    "def calculate(change):\n",
    "    cell_sum.value = cell_a.value + cell_b.value\n",
    "\n",
    "cell_a.observe(calculate, 'value')\n",
    "cell_b.observe(calculate, 'value')\n",
    "\n",
    "\n",
    "widgets.VBox([sheet, slider])"
   ]
  },
  {
   "cell_type": "code",
   "execution_count": 17,
   "metadata": {},
   "outputs": [
    {
     "data": {
      "application/vnd.jupyter.widget-view+json": {
       "model_id": "b97c502436024f53aab6549201d863cf",
       "version_major": 2,
       "version_minor": 0
      },
      "text/plain": [
       "U2hlZXQoY2VsbHM9KENlbGwoY29sdW1uX2VuZD0zLCBjb2x1bW5fc3RhcnQ9MCwgcm93X2VuZD0wLCByb3dfc3RhcnQ9MCwgc3F1ZWV6ZV9jb2x1bW49RmFsc2UsIHN0eWxlPXsnYmFja2dyb3XigKY=\n"
      ]
     },
     "metadata": {},
     "output_type": "display_data"
    }
   ],
   "source": [
    "sheet = ipysheet.sheet(rows=5, columns=4)\n",
    "row = ipysheet.row(0, [0, 1, 2, 3], background_color=\"red\")\n",
    "column = ipysheet.column(1, [\"a\", \"b\", \"c\", \"d\"], row_start=1, background_color=\"green\")\n",
    "cells = ipysheet.cell_range([[\"hi\", \"ola\"], [\"ciao\", \"bonjour\"], [\"hallo\", \"guten tag\"]],\n",
    "                            row_start=1, column_start=2, background_color=\"yellow\")\n",
    "sheet\n"
   ]
  },
  {
   "cell_type": "code",
   "execution_count": 18,
   "metadata": {},
   "outputs": [
    {
     "data": {
      "application/vnd.jupyter.widget-view+json": {
       "model_id": "51fa4d1bc24c41f4b100a1c77f507167",
       "version_major": 2,
       "version_minor": 0
      },
      "text/plain": [
       "VkJveChjaGlsZHJlbj0oU2hlZXQoY2VsbHM9KENlbGwoY29sdW1uX2VuZD0xLCBjb2x1bW5fc3RhcnQ9MSwgcm93X2VuZD0wLCByb3dfc3RhcnQ9MCwgdHlwZT11J251bWVyaWMnLCB2YWx1ZT3igKY=\n"
      ]
     },
     "metadata": {},
     "output_type": "display_data"
    }
   ],
   "source": [
    "import ipywidgets as widgets\n",
    "sheet = ipysheet.sheet(rows=3, columns=2, column_headers=False, row_headers=False)\n",
    "cell_a = ipysheet.cell(0, 1, 1, label_left='a')\n",
    "cell_b = ipysheet.cell(1, 1, 2, label_left='b')\n",
    "cell_sum = ipysheet.cell(2, 1, 3, label_left='sum', read_only=True)\n",
    "\n",
    "# create a slider linked to cell a\n",
    "slider = widgets.FloatSlider(min=-10, max=10, description='a')\n",
    "widgets.jslink((cell_a, 'value'), (slider, 'value'))\n",
    "\n",
    "@ipysheet.calculation(inputs=[cell_a, cell_b], output=cell_sum)\n",
    "def calculate(a, b):\n",
    "    return a + b\n",
    "\n",
    "widgets.VBox([sheet, slider])"
   ]
  },
  {
   "cell_type": "code",
   "execution_count": 19,
   "metadata": {},
   "outputs": [],
   "source": [
    "jscode_renderer_negative = \"\"\"\n",
    "function (instance, td, row, col, prop, value, cellProperties) {\n",
    "    Handsontable.renderers.TextRenderer.apply(this, arguments);\n",
    "    if (value < 0)\n",
    "        td.style.backgroundColor = 'red'\n",
    "    else\n",
    "        td.style.backgroundColor = 'green'\n",
    "}\n",
    "\"\"\"\n",
    "ipysheet.renderer(code=jscode_renderer_negative, name='negative');"
   ]
  },
  {
   "cell_type": "code",
   "execution_count": 20,
   "metadata": {},
   "outputs": [
    {
     "data": {
      "application/vnd.jupyter.widget-view+json": {
       "model_id": "16413c56161249d0b3dd68891b5c665e",
       "version_major": 2,
       "version_minor": 0
      },
      "text/plain": [
       "U2hlZXQoY2VsbHM9KENlbGwoY29sdW1uX2VuZD0zLCBjb2x1bW5fc3RhcnQ9MCwgcmVuZGVyZXI9dSduZWdhdGl2ZScsIHJvd19lbmQ9Miwgcm93X3N0YXJ0PTAsIHNxdWVlemVfY29sdW1uPUbigKY=\n"
      ]
     },
     "metadata": {},
     "output_type": "display_data"
    }
   ],
   "source": [
    "import random\n",
    "s = ipysheet.sheet(rows=3, columns=4)\n",
    "data = [[random.randint(-10, 10) for j in range(4)] for j in range(3)]\n",
    "ipysheet.cell_range(data, renderer='negative')\n",
    "s"
   ]
  },
  {
   "cell_type": "code",
   "execution_count": 21,
   "metadata": {},
   "outputs": [
    {
     "ename": "ImportError",
     "evalue": "No module named flexx.pyscript",
     "output_type": "error",
     "traceback": [
      "\u001b[0;31m\u001b[0m",
      "\u001b[0;31mImportError\u001b[0mTraceback (most recent call last)",
      "\u001b[0;32m<ipython-input-21-10fa09daecf3>\u001b[0m in \u001b[0;36m<module>\u001b[0;34m()\u001b[0m\n\u001b[1;32m      5\u001b[0m     \u001b[0;32melse\u001b[0m\u001b[0;34m:\u001b[0m\u001b[0;34m\u001b[0m\u001b[0m\n\u001b[1;32m      6\u001b[0m         \u001b[0mtd\u001b[0m\u001b[0;34m.\u001b[0m\u001b[0mstyle\u001b[0m\u001b[0;34m.\u001b[0m\u001b[0mbackgroundColor\u001b[0m \u001b[0;34m=\u001b[0m \u001b[0;34m''\u001b[0m\u001b[0;34m\u001b[0m\u001b[0m\n\u001b[0;32m----> 7\u001b[0;31m \u001b[0mipysheet\u001b[0m\u001b[0;34m.\u001b[0m\u001b[0mrenderer\u001b[0m\u001b[0;34m(\u001b[0m\u001b[0mcode\u001b[0m\u001b[0;34m=\u001b[0m\u001b[0mrenderer_negative\u001b[0m\u001b[0;34m,\u001b[0m \u001b[0mname\u001b[0m\u001b[0;34m=\u001b[0m\u001b[0;34m'negative_transpiled'\u001b[0m\u001b[0;34m)\u001b[0m\u001b[0;34m;\u001b[0m\u001b[0;34m\u001b[0m\u001b[0m\n\u001b[0m",
      "\u001b[0;32m/opt/anaconda2/lib/python2.7/site-packages/ipysheet/easy.pyc\u001b[0m in \u001b[0;36mrenderer\u001b[0;34m(code, name)\u001b[0m\n\u001b[1;32m    283\u001b[0m     \"\"\"\n\u001b[1;32m    284\u001b[0m     \u001b[0;32mif\u001b[0m \u001b[0;32mnot\u001b[0m \u001b[0misinstance\u001b[0m\u001b[0;34m(\u001b[0m\u001b[0mcode\u001b[0m\u001b[0;34m,\u001b[0m \u001b[0msix\u001b[0m\u001b[0;34m.\u001b[0m\u001b[0mstring_types\u001b[0m\u001b[0;34m)\u001b[0m\u001b[0;34m:\u001b[0m\u001b[0;34m\u001b[0m\u001b[0m\n\u001b[0;32m--> 285\u001b[0;31m         \u001b[0;32mimport\u001b[0m \u001b[0mflexx\u001b[0m\u001b[0;34m.\u001b[0m\u001b[0mpyscript\u001b[0m\u001b[0;34m\u001b[0m\u001b[0m\n\u001b[0m\u001b[1;32m    286\u001b[0m         \u001b[0mcode_transpiled\u001b[0m \u001b[0;34m=\u001b[0m \u001b[0mflexx\u001b[0m\u001b[0;34m.\u001b[0m\u001b[0mpyscript\u001b[0m\u001b[0;34m.\u001b[0m\u001b[0mpy2js\u001b[0m\u001b[0;34m(\u001b[0m\u001b[0mcode\u001b[0m\u001b[0;34m,\u001b[0m \u001b[0mnew_name\u001b[0m\u001b[0;34m=\u001b[0m\u001b[0;34m'the_renderer'\u001b[0m\u001b[0;34m,\u001b[0m \u001b[0mindent\u001b[0m\u001b[0;34m=\u001b[0m\u001b[0;36m4\u001b[0m\u001b[0;34m)\u001b[0m\u001b[0;34m\u001b[0m\u001b[0m\n\u001b[1;32m    287\u001b[0m         code = '''\n",
      "\u001b[0;31mImportError\u001b[0m: No module named flexx.pyscript"
     ]
    }
   ],
   "source": [
    "def renderer_negative(instance, td, row, col, prop, value, cellProperties):\n",
    "    Handsontable.renderers.TextRenderer.apply(this, arguments);\n",
    "    if value < 0:\n",
    "        td.style.backgroundColor = 'orange'\n",
    "    else:\n",
    "        td.style.backgroundColor = ''\n",
    "ipysheet.renderer(code=renderer_negative, name='negative_transpiled');"
   ]
  },
  {
   "cell_type": "code",
   "execution_count": 22,
   "metadata": {},
   "outputs": [
    {
     "data": {
      "application/vnd.jupyter.widget-view+json": {
       "model_id": "188c632424bb461aacd59489b539b279",
       "version_major": 2,
       "version_minor": 0
      },
      "text/plain": [
       "U2hlZXQoY2VsbHM9KENlbGwoY29sdW1uX2VuZD0zLCBjb2x1bW5fc3RhcnQ9MCwgcmVuZGVyZXI9dSduZWdhdGl2ZV90cmFuc3BpbGVkJywgcm93X2VuZD0yLCByb3dfc3RhcnQ9MCwgc3F1ZWXigKY=\n"
      ]
     },
     "metadata": {},
     "output_type": "display_data"
    }
   ],
   "source": [
    "import random\n",
    "s = ipysheet.sheet(rows=3, columns=4)\n",
    "data = [[random.randint(-10, 10) for j in range(4)] for j in range(3)]\n",
    "ipysheet.cell_range(data, renderer='negative_transpiled')\n",
    "s"
   ]
  },
  {
   "cell_type": "code",
   "execution_count": null,
   "metadata": {},
   "outputs": [],
   "source": []
  }
 ],
 "metadata": {
  "hide_code_all_hidden": false,
  "kernelspec": {
   "display_name": "Python 2",
   "language": "python",
   "name": "python2"
  },
  "language_info": {
   "codemirror_mode": {
    "name": "ipython",
    "version": 2
   },
   "file_extension": ".py",
   "mimetype": "text/x-python",
   "name": "python",
   "nbconvert_exporter": "python",
   "pygments_lexer": "ipython2",
   "version": "2.7.15"
  }
 },
 "nbformat": 4,
 "nbformat_minor": 2
}
