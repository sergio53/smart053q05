{
 "cells": [
  {
   "cell_type": "code",
   "execution_count": 1,
   "metadata": {},
   "outputs": [
    {
     "name": "stdout",
     "output_type": "stream",
     "text": [
      "Initialized empty Git repository in /root/notebooks/.git/\n",
      "[master (root-commit) 816f72d] first commit\n",
      " Committer: root <root@smart053q05.sytes.net>\n",
      "Your name and email address were configured automatically based\n",
      "on your username and hostname. Please check that they are accurate.\n",
      "You can suppress this message by setting them explicitly. Run the\n",
      "following command and follow the instructions in your editor to edit\n",
      "your configuration file:\n",
      "\n",
      "    git config --global --edit\n",
      "\n",
      "After doing this, you may fix the identity used for this commit with:\n",
      "\n",
      "    git commit --amend --reset-author\n",
      "\n",
      " 1 file changed, 1 insertion(+)\n",
      " create mode 100644 README.md\n"
     ]
    },
    {
     "name": "stderr",
     "output_type": "stream",
     "text": [
      "Host key verification failed.\r\n",
      "fatal: Could not read from remote repository.\n",
      "\n",
      "Please make sure you have the correct access rights\n",
      "and the repository exists.\n"
     ]
    }
   ],
   "source": [
    "%%bash\n",
    "echo \"# nb\" >> README.md\n",
    "git init\n",
    "git add README.md\n",
    "git commit -m \"first commit\"\n",
    "git remote add origin git@github.com:sergio53/nb.git\n",
    "git push -u origin master"
   ]
  },
  {
   "cell_type": "code",
   "execution_count": 3,
   "metadata": {},
   "outputs": [],
   "source": [
    "!git config --global user.name \"sergio53\"\n",
    "!git config --global user.email s_mart53@list.ru"
   ]
  },
  {
   "cell_type": "code",
   "execution_count": 4,
   "metadata": {},
   "outputs": [
    {
     "name": "stdout",
     "output_type": "stream",
     "text": [
      "Warning: Permanently added the RSA host key for IP address '192.30.253.112' to the list of known hosts.\r",
      "\r\n",
      "Permission denied (publickey).\r",
      "\r\n",
      "fatal: Could not read from remote repository.\r\n",
      "\r\n",
      "Please make sure you have the correct access rights\r\n",
      "and the repository exists.\r\n"
     ]
    }
   ],
   "source": [
    "!git push -u origin master"
   ]
  },
  {
   "cell_type": "code",
   "execution_count": null,
   "metadata": {},
   "outputs": [],
   "source": [
    "\"\"\"\n",
    "[root@smart053q05 .ssh]# ssh-keygen\n",
    "Generating public/private rsa key pair.\n",
    "Enter file in which to save the key (/root/.ssh/id_rsa):\n",
    "Enter passphrase (empty for no passphrase):\n",
    "Enter same passphrase again:\n",
    "Your identification has been saved in /root/.ssh/id_rsa.\n",
    "Your public key has been saved in /root/.ssh/id_rsa.pub.\n",
    "The key fingerprint is:\n",
    "SHA256:Ql1S5jy2LGo+w2ikmnlRbmYvZWORZ968MNmTrrjdr+4 root@smart053q05.sytes.net\n",
    "The key's randomart image is:\n",
    "+---[RSA 2048]----+\n",
    "|        ..+      |\n",
    "|       . *       |\n",
    "|      ... =      |\n",
    "|    ..o oo o     |\n",
    "|   o  .=S=o.     |\n",
    "|  . * =o=.*      |\n",
    "|   B Bo. + o     |\n",
    "| oo +o=o .o      |\n",
    "|+o . .++o+Eo.    |\n",
    "+----[SHA256]-----+\n",
    "[root@smart053q05 .ssh]# cat ~/.ssh/id_rsa.pub\n",
    "ssh-rsa AAAAB3NzaC1yc2EAAAADAQABAAABAQDasa4Z1Z8pU4kxRGGnwdYAQ4C83hmrUETOBZNk93o6fJA5f0gu555PdkqqmBG5nSJuGt72GSsC1w+osN3ihbdO/d51F6d8y13ZYE484k6ailo9N/wJwAsTh0Cdrec6EbpqLSlymyS6UIW8nfEKBy2iSYOpufEW04TVs2lZoVvlZ3v/M/iXiwZzRepiRtS+DZPcHeyVK7tysoMpLVk3HykEykSPtWwaub07W1RUdKBM2UMGTNjkfzwIJh9Mex2fWYsjVS1/ILsR4xN/i0D3D7GNo4cggLcRAfKZvES2CcyZZ73xWwMUqrTvrk3Jt1iv0B0ZGmEwc2MoXVebaxuvADTj root@smart053q05.sytes.net\n",
    "[root@smart053q05 .ssh]# ssh -T git@github.com\n",
    "Hi sergio53! You've successfully authenticated, but GitHub does not provide shell access.\n",
    "[root@smart053q05 ~]# cd notebooks\n",
    "[root@smart053q05 notebooks]# git push -u origin master\n",
    "Counting objects: 3, done.\n",
    "Writing objects: 100% (3/3), 215 bytes | 215.00 KiB/s, done.\n",
    "Total 3 (delta 0), reused 0 (delta 0)\n",
    "To github.com:sergio53/nb.git\n",
    " * [new branch]      master -> master\n",
    "Branch master set up to track remote branch master from origin.\n",
    "\"\"\""
   ]
  }
 ],
 "metadata": {
  "kernelspec": {
   "display_name": "Python 2",
   "language": "python",
   "name": "python2"
  },
  "language_info": {
   "codemirror_mode": {
    "name": "ipython",
    "version": 2
   },
   "file_extension": ".py",
   "mimetype": "text/x-python",
   "name": "python",
   "nbconvert_exporter": "python",
   "pygments_lexer": "ipython2",
   "version": "2.7.15"
  }
 },
 "nbformat": 4,
 "nbformat_minor": 2
}
